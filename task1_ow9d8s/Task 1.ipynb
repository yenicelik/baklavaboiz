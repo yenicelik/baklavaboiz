{
 "cells": [
  {
   "cell_type": "code",
   "execution_count": 1,
   "metadata": {
    "collapsed": false
   },
   "outputs": [],
   "source": [
    "import sys\n",
    "try:\n",
    "    import numpy as np\n",
    "    import pandas as pd\n",
    "    import matplotlib.pyplot as plt\n",
    "except:\n",
    "    import pip\n",
    "    pip.main(['install', \"--upgrade\", \"pip\"])\n",
    "    pip.main(['install', \"numpy\"])\n",
    "    pip.main(['install', \"matplotlib\"])\n",
    "    pip.main(['install', \"ipython\"])\n",
    "    pip.main(['install', \"jupyter\"])\n",
    "    pip.main(['install', \"pandas\"])\n",
    "    import numpy as np\n",
    "    import pandas as pd\n",
    "    \n",
    "%matplotlib inline\n",
    "plt.rcParams['figure.figsize'] = (10.0, 8.0) # set default size of plots\n",
    "plt.rcParams['image.interpolation'] = 'nearest'\n",
    "plt.rcParams['image.cmap'] = 'gray'\n",
    "%load_ext autoreload\n",
    "%autoreload 2"
   ]
  },
  {
   "cell_type": "markdown",
   "metadata": {},
   "source": [
    "## Importing the data\n",
    "We use the pandas library for this. The data is split into 3 files:\n",
    "- sample.csv :: Some stuff we can look at to know how the bigger and slower-to-load datafiles look like\n",
    "- test.csv :: Validation data, which we use to 'grade' our model by\n",
    "- train.csv :: Data we use to train our model with (to find the 'optimal' parameters)"
   ]
  },
  {
   "cell_type": "code",
   "execution_count": 2,
   "metadata": {
    "collapsed": false
   },
   "outputs": [
    {
     "name": "stdout",
     "output_type": "stream",
     "text": [
      "Sample\n",
      "    Id         y\n",
      "0  900  6.055126\n",
      "Test\n",
      "    Id        x1        x2       x3       x4        x5        x6        x7  \\\n",
      "0  900  0.658913  1.489215  1.65309  2.68705  0.613798  1.599903  1.345002   \n",
      "\n",
      "         x8       x9       x10       x11       x12       x13       x14  \\\n",
      "0  1.617774 -0.48859  2.893903  3.800831 -0.018902  0.857224  0.881235   \n",
      "\n",
      "       x15  \n",
      "0  0.57476  \n",
      "Train\n",
      "   Id           y        x1        x2        x3        x4       x5        x6  \\\n",
      "0   0  116.376061  1.276266 -0.854628  1.623901  2.145311  2.03719  2.886639   \n",
      "\n",
      "         x7        x8        x9       x10       x11      x12       x13  \\\n",
      "0  0.888302  0.637899  1.148675  0.562217  3.171257  2.15231 -0.818812   \n",
      "\n",
      "        x14      x15  \n",
      "0  0.861951  1.53984  \n"
     ]
    }
   ],
   "source": [
    "data_sample = pd.read_csv('sample.csv')\n",
    "data_test = pd.read_csv('test.csv')\n",
    "data_train = pd.read_csv('train.csv')\n",
    "\n",
    "cases = 1\n",
    "if True:\n",
    "    print(\"Sample\")\n",
    "    print(data_sample.head(cases))\n",
    "    print(\"Test\")\n",
    "    print(data_test.head(cases))\n",
    "    print(\"Train\")\n",
    "    print(data_train.head(cases))"
   ]
  },
  {
   "cell_type": "markdown",
   "metadata": {},
   "source": [
    "The data contains 'headers' (Thing like 'Id', 'y', 'x1', 'x2', etc.). For pure data processing we need to get rid of this (because these are not numebrs), and just retrieve the numerical values within the matrices. CV stands for cross-validation. Printing the shapes is just to make sure the import was successful."
   ]
  },
  {
   "cell_type": "code",
   "execution_count": 3,
   "metadata": {
    "collapsed": false
   },
   "outputs": [
    {
     "name": "stdout",
     "output_type": "stream",
     "text": [
      "X_train\n",
      "(900, 17)\n",
      "y_sample\n",
      "(2000, 2)\n",
      "X_finaltest\n",
      "(2000, 15)\n",
      "And has types\n",
      "<type 'numpy.float64'>\n"
     ]
    }
   ],
   "source": [
    "X_data = data_train.values\n",
    "y_sample = data_sample.values\n",
    "X_test = data_test.values[:,1:]\n",
    "\n",
    "#Test data!! split training set into 80:20 and use the 80 part as training data, including cross validation. Use the last 20 percent to measure data accuracy\n",
    "\n",
    "if True:\n",
    "    print(\"X_train\")\n",
    "    print(X_data.shape)\n",
    "    print(\"y_sample\")\n",
    "    print(y_sample.shape)\n",
    "    print(\"X_finaltest\")\n",
    "    print(X_test.shape)\n",
    "\n",
    "    print(\"And has types\")\n",
    "    print(type(X_test[0,0]))"
   ]
  },
  {
   "cell_type": "markdown",
   "metadata": {},
   "source": [
    "## Function Definitions and Applications\n",
    "Here we define the functions we will use to predict the weights (normalEq, or maybe even stochastic gradient descent), and also the given error function (rms). Trying out different algorithms and testing them through cross-validation. Look at the external files for the algorithms."
   ]
  },
  {
   "cell_type": "markdown",
   "metadata": {},
   "source": [
    "### Normal Equations without Kernel\n",
    "#### with regulaizer parameters = lam\n",
    "We test a total of 10000 different values for lambda in between 1e-20 and 1e10"
   ]
  },
  {
   "cell_type": "code",
   "execution_count": 4,
   "metadata": {
    "collapsed": false,
    "scrolled": true
   },
   "outputs": [
    {
     "name": "stdout",
     "output_type": "stream",
     "text": [
      "('Total samples: ', 900)\n",
      "(180, 15)\n",
      "(180,)\n"
     ]
    }
   ],
   "source": [
    "from helper import *\n",
    "from normalEq import *\n",
    "\n",
    "k = 5 #number of folds for cross validation\n",
    "\n",
    "if X_data.shape[0] % k != 0:\n",
    "    print(\"Number of samples not divisible by k!\")\n",
    "    sys.exit(0)\n",
    "    \n",
    "print(\"Total samples: \", X_data.shape[0])\n",
    "\n",
    "total_error = 0.0\n",
    "\n",
    "X = np.split(X_data[:,2:], k, axis=0)\n",
    "y = np.split(X_data[:,1], k, axis=0)\n",
    "\n",
    "print(X[0].shape)\n",
    "print(y[0].shape)\n",
    "\n",
    "loss_dict = []\n",
    "lam_dict = []\n",
    "\n",
    "lam_range = np.logspace(-14, 10, num=10000)#[1e-8, 1e-3, 1e2]\n",
    "\n",
    "#Apply cross validation\n",
    "for lam in lam_range:\n",
    "    loss = 0\n",
    "    for i in range(k):\n",
    "        X_train, y_train, X_cv, y_cv = get_train_cross_dataset(X, y, i)\n",
    "\n",
    "        #apply to training function, then measure the error\n",
    "        weights = reg_normal_eq(X_train, y_train, lam)\n",
    "        \n",
    "        ##Measure loss\n",
    "        predictions = np.dot(X_cv, weights)\n",
    "        loss = rms(predictions, y_cv)    \n",
    "    \n",
    "    total_error += loss    \n",
    "    total_error /= k\n",
    "    \n",
    "    lam_dict.append(lam)\n",
    "    loss_dict.append(total_error)    \n",
    "    "
   ]
  },
  {
   "cell_type": "code",
   "execution_count": 5,
   "metadata": {
    "collapsed": false
   },
   "outputs": [
    {
     "data": {
      "image/png": "[encoded data removed]",
      "text/plain": [
       "<matplotlib.figure.Figure at 0x115913750>"
      ]
     },
     "metadata": {},
     "output_type": "display_data"
    }
   ],
   "source": [
    "plt.subplot(3, 1, 1)\n",
    "plt.title('Absolute training loss')\n",
    "plt.xlabel('Lambda')\n",
    "plt.semilogx(lam_dict, loss_dict, 'o')\n",
    "#plt.plot(lam_dict, 'o', label='baseline')\n",
    "#plt.plot(loss_dict, 'o', label='batchnorm')\n",
    "plt.show()"
   ]
  },
  {
   "cell_type": "code",
   "execution_count": 6,
   "metadata": {
    "collapsed": false
   },
   "outputs": [
    {
     "name": "stdout",
     "output_type": "stream",
     "text": [
      "('The minimal error is given when lambda equals: ', 1e-14)\n"
     ]
    }
   ],
   "source": [
    "print(\"The minimal error is given when lambda equals: \", lam_dict[np.argmin(loss_dict)])"
   ]
  },
  {
   "cell_type": "markdown",
   "metadata": {},
   "source": [
    "### Normal Equations with polynomial Kernel of degree d = 2\n",
    "#### with regulaizer parameters = lam\n",
    "We test a total of 10000 different values for lambda in between 1e-20 and 1e10"
   ]
  },
  {
   "cell_type": "code",
   "execution_count": 7,
   "metadata": {
    "collapsed": false
   },
   "outputs": [
    {
     "name": "stdout",
     "output_type": "stream",
     "text": [
      "('Total samples: ', 900)\n",
      "(180, 15)\n",
      "(180,)\n",
      "[  0.90460562   4.65287502  -0.0279272   12.87101385   0.34317465\n",
      "  -7.68011663   1.96429383  -7.6998417  -10.65471107   2.1362937\n",
      "  13.70728466   5.17852314  -3.10881375   4.13160734  -8.82775132\n",
      "  -1.28029966   0.          -1.93071981  -0.85907355   0.28756239\n",
      "  -2.42863184  -4.76884707  -3.21853158  -1.11405591   2.09939102\n",
      "   4.57509171  -1.80177964  -1.92027426  -1.23853536  -0.32320334\n",
      "  -3.44530746  -1.44172297   5.31990714  -1.78102974   0.61252786\n",
      "   4.63934612  -1.59078874  -7.40249735   4.09162884   7.40767801\n",
      "   3.77809478   2.32941755   0.90060905  -1.83203613   0.           0.           0.\n",
      "   0.           0.           0.           0.           0.           0.           0.\n",
      "   0.           0.           0.           0.           0.           0.           0.\n",
      "   0.           0.           0.           0.           0.           0.           0.\n",
      "   0.           0.           0.           0.           0.           0.           0.\n",
      "   0.           0.           0.           0.           0.           0.           0.\n",
      "   0.           0.           0.           0.           0.           0.           0.\n",
      "   0.           0.           0.           0.           0.           0.           0.\n",
      "   0.           0.           0.           0.           0.           0.           0.\n",
      "   0.           0.           0.           0.           0.           0.           0.\n",
      "   0.           0.           0.           0.           0.           0.           0.\n",
      "   0.           0.           0.           0.        ]\n"
     ]
    }
   ],
   "source": [
    "from helper import *\n",
    "from normalEq import *\n",
    "\n",
    "k = 5 #number of folds for cross validation\n",
    "\n",
    "if X_data.shape[0] % k != 0:\n",
    "    print(\"Number of samples not divisible by k!\")\n",
    "    sys.exit(0)\n",
    "    \n",
    "print(\"Total samples: \", X_data.shape[0])\n",
    "\n",
    "total_error = 0.0\n",
    "\n",
    "X = np.split(X_data[:,2:], k, axis=0)\n",
    "y = np.split(X_data[:,1], k, axis=0)\n",
    "\n",
    "print(X[0].shape)\n",
    "print(y[0].shape)\n",
    "\n",
    "loss_dict = []\n",
    "lam_dict = []\n",
    "\n",
    "lam_range = np.logspace(-12, 2, num=1039)#[1e-8, 1e-3, 1e2] #we choose a prime number\n",
    "\n",
    "old_loss = 1000000 #so the first best number gets chosen\n",
    "#Apply cross validation\n",
    "for lam in lam_range:\n",
    "    loss = 0\n",
    "    for i in range(k):\n",
    "        X_train, y_train, X_cv, y_cv = get_train_cross_dataset(X, y, i)\n",
    "        \n",
    "        #pass X_train and X_cv through the kernel function first!\n",
    "        X_train = poly2d_kernel(X_train)\n",
    "        X_cv = poly2d_kernel(X_cv)\n",
    "        \n",
    "\n",
    "        #apply to training function, then measure the error\n",
    "        weights = reg_normal_eq(X_train, y_train, lam)\n",
    "        \n",
    "        ##Measure loss\n",
    "        predictions = np.dot(X_cv, weights)\n",
    "        loss = rms(predictions, y_cv)    \n",
    "        \n",
    "        if loss < old_loss:\n",
    "            best_weights = weights\n",
    "    \n",
    "    total_error += loss    \n",
    "    total_error /= k\n",
    "       \n",
    "    lam_dict.append(lam)\n",
    "    loss_dict.append(total_error)    \n",
    "    \n",
    "print best_weights    "
   ]
  },
  {
   "cell_type": "code",
   "execution_count": 8,
   "metadata": {
    "collapsed": false
   },
   "outputs": [
    {
     "data": {
      "image/png": "[encoded data removed]",
      "text/plain": [
       "<matplotlib.figure.Figure at 0x116ae5c10>"
      ]
     },
     "metadata": {},
     "output_type": "display_data"
    }
   ],
   "source": [
    "plt.subplot(3, 1, 1)\n",
    "plt.title('Absolute training loss')\n",
    "plt.xlabel('Lambda')\n",
    "plt.semilogx(lam_dict, loss_dict, 'o')\n",
    "#plt.plot(lam_dict, 'o', label='baseline')\n",
    "#plt.plot(loss_dict, 'o', label='batchnorm')\n",
    "plt.show()"
   ]
  },
  {
   "cell_type": "code",
   "execution_count": 9,
   "metadata": {
    "collapsed": false
   },
   "outputs": [
    {
     "name": "stdout",
     "output_type": "stream",
     "text": [
      "('The minimal error is given when lambda equals: ', 9.9999999999999998e-13)\n"
     ]
    }
   ],
   "source": [
    "print(\"The minimal error is given when lambda equals: \", lam_dict[np.argmin(loss_dict)])"
   ]
  },
  {
   "cell_type": "markdown",
   "metadata": {},
   "source": [
    "### Normal Equations with polynomial Kernel of degree d = 3\n",
    "#### with regulaizer parameters = lam\n",
    "We test a total of 10000 different values for lambda in between 1e-20 and 1e10"
   ]
  },
  {
   "cell_type": "code",
   "execution_count": 10,
   "metadata": {
    "collapsed": false,
    "scrolled": true
   },
   "outputs": [
    {
     "name": "stdout",
     "output_type": "stream",
     "text": [
      "('Total samples: ', 900)\n",
      "(180, 15)\n",
      "(180,)\n"
     ]
    }
   ],
   "source": [
    "from helper import *\n",
    "from normalEq import *\n",
    "\n",
    "k = 5 #number of folds for cross validation\n",
    "\n",
    "if X_data.shape[0] % k != 0:\n",
    "    print(\"Number of samples not divisible by k!\")\n",
    "    sys.exit(0)\n",
    "    \n",
    "print(\"Total samples: \", X_data.shape[0])\n",
    "\n",
    "total_error = 0.0\n",
    "\n",
    "X = np.split(X_data[:,2:], k, axis=0)\n",
    "y = np.split(X_data[:,1], k, axis=0)\n",
    "\n",
    "print(X[0].shape)\n",
    "print(y[0].shape)\n",
    "\n",
    "loss_dict = []\n",
    "lam_dict = []\n",
    "\n",
    "#lam_range = np.logspace(-5, 5, num=317)#[1e-8, 1e-3, 1e2] #we choose a prime number\n",
    "lam_range = np.logspace(-16, -12, num=101)\n",
    "lam_range = np.logspace(0.2, 4.5, num=101)\n",
    "lam_range = np.logspace(-16, 8, num=1999)\n",
    "\n",
    "old_loss = 1000000 #so the first best number gets chosen\n",
    "#Apply cross validation\n",
    "for lam in lam_range:\n",
    "    loss = 0\n",
    "    for i in range(k):\n",
    "        X_train, y_train, X_cv, y_cv = get_train_cross_dataset(X, y, i)\n",
    "        \n",
    "        #pass X_train and X_cv through the kernel function first!\n",
    "        X_train = poly3d_kernel(X_train)\n",
    "        X_cv = poly3d_kernel(X_cv)\n",
    "        \n",
    "\n",
    "        #apply to training function, then measure the error\n",
    "        weights = reg_normal_eq(X_train, y_train, lam)\n",
    "        \n",
    "        ##Measure loss\n",
    "        predictions = np.dot(X_cv, weights)\n",
    "        loss = rms(predictions, y_cv)    \n",
    "        \n",
    "        if loss < old_loss:\n",
    "            best_weights = weights\n",
    "    \n",
    "    total_error += loss    \n",
    "    total_error /= k\n",
    "       \n",
    "    lam_dict.append(lam)\n",
    "    loss_dict.append(total_error)    \n",
    "    \n",
    "#print best_weights    "
   ]
  },
  {
   "cell_type": "code",
   "execution_count": 11,
   "metadata": {
    "collapsed": false
   },
   "outputs": [
    {
     "data": {
      "image/png": "[encoded data removed]",
      "text/plain": [
       "<matplotlib.figure.Figure at 0x1165432d0>"
      ]
     },
     "metadata": {},
     "output_type": "display_data"
    }
   ],
   "source": [
    "plt.subplot(3, 1, 1)\n",
    "plt.title('Absolute training loss')\n",
    "plt.xlabel('Lambda')\n",
    "plt.semilogx(lam_dict, loss_dict, 'o')\n",
    "#plt.plot(lam_dict, 'o', label='baseline')\n",
    "#plt.plot(loss_dict, 'o', label='batchnorm')\n",
    "plt.show()"
   ]
  },
  {
   "cell_type": "code",
   "execution_count": 12,
   "metadata": {
    "collapsed": false
   },
   "outputs": [
    {
     "name": "stdout",
     "output_type": "stream",
     "text": [
      "('The minimal error is given when lambda equals: ', 9.9999999999999998e-17)\n"
     ]
    }
   ],
   "source": [
    "print(\"The minimal error is given when lambda equals: \", lam_dict[np.argmin(loss_dict)])"
   ]
  },
  {
   "cell_type": "code",
   "execution_count": 13,
   "metadata": {
    "collapsed": false
   },
   "outputs": [
    {
     "name": "stdout",
     "output_type": "stream",
     "text": [
      "('Minimal loss', 8.8659084097011149)\n",
      "('Minimizing lr and mu: ', 9.9999999999999998e-17)\n",
      "Loss: 8.8659084097, lam: 1e-16\n",
      "Loss: 10.613534122, lam: 252.582002696\n",
      "Loss: 10.6136182437, lam: 259.665597293\n",
      "Loss: 10.61373658, lam: 245.691646298\n",
      "Loss: 10.6139939643, lam: 266.947849403\n",
      "Loss: 10.614220322, lam: 238.989256623\n",
      "Loss: 10.6146660159, lam: 274.434330323\n",
      "Loss: 10.6149797878, lam: 232.469705999\n",
      "Loss: 10.6156388333, lam: 282.130767594\n",
      "Loss: 10.6160091649, lam: 226.128006634\n",
      "Loss: 10.6169165451, lam: 290.043049386\n",
      "Loss: 10.6173024011, lam: 219.959306803\n",
      "Loss: 10.6185029651, lam: 298.177229002\n",
      "Loss: 10.6188532187, lam: 213.958887134\n",
      "Loss: 10.6204015852, lam: 306.539529506\n",
      "Loss: 10.6206551283, lam: 208.122156999\n",
      "Loss: 10.6226155694, lam: 315.136348487\n",
      "Loss: 10.6227014428, lam: 202.444650998\n",
      "Loss: 10.6249852932, lam: 196.922025548\n",
      "Loss: 10.6251477482, lam: 323.974262953\n",
      "Loss: 10.6274996428, lam: 191.550055557\n",
      "Loss: 10.6280006149, lam: 333.060034362\n",
      "Loss: 10.630237303, lam: 186.324631193\n",
      "Loss: 10.6311763226, lam: 342.400613797\n",
      "Loss: 10.6331909492, lam: 181.241754737\n",
      "Loss: 10.6346766821, lam: 352.00314728\n",
      "Loss: 10.6363531354, lam: 176.297537529\n",
      "Loss: 10.6385031616, lam: 361.874981241\n",
      "Loss: 10.6390900916, lam: 1.02804473209e-16\n",
      "Loss: 10.6397163109, lam: 171.488196987\n",
      "Loss: 10.6426568871, lam: 372.023668141\n",
      "Loss: 10.6432728352, lam: 166.81005372\n",
      "Loss: 10.6470149937, lam: 162.259528708\n",
      "Loss: 10.6471386439, lam: 382.456972247\n",
      "Loss: 10.6509350129, lam: 157.833140565\n",
      "Loss: 10.6519488798, lam: 393.182875571\n",
      "Loss: 10.6550250759, lam: 153.527502878\n",
      "Loss: 10.6570877087, lam: 404.20958398\n",
      "Loss: 10.6592773367, lam: 149.339321612\n",
      "Loss: 10.6625549161, lam: 415.545533472\n",
      "Loss: 10.6636839349, lam: 145.265392595\n",
      "Loss: 10.6682370101, lam: 141.30259906\n",
      "Loss: 10.6683499649, lam: 427.199396631\n",
      "Loss: 10.6729287153, lam: 137.447909268\n",
      "Loss: 10.6744720034, lam: 439.18008926\n",
      "Loss: 10.6777512304, lam: 133.698374182\n",
      "Loss: 10.680919873, lam: 451.496777204\n",
      "Loss: 10.682696775, lam: 130.051125217\n",
      "Loss: 10.687692118, lam: 464.158883361\n",
      "Loss: 10.6877576206, lam: 126.50337204\n"
     ]
    }
   ],
   "source": [
    "print(\"Minimal loss\", min(loss_dict))\n",
    "index = np.argmin(loss_dict)\n",
    "indecies = np.argsort(loss_dict)[::-1][-50:][::-1]\n",
    "print(\"Minimizing lr and mu: \", lam_dict[index])\n",
    "for i in range(50):\n",
    "    print(\"Loss: \" + str(loss_dict[indecies[i]]) + \", lam: \" + str(lam_dict[indecies[i]]))"
   ]
  },
  {
   "cell_type": "markdown",
   "metadata": {},
   "source": [
    "Good results for: \n",
    "    lam = 31.62277\n",
    "    lam = 1.58\n",
    "    lam = "
   ]
  },
  {
   "cell_type": "markdown",
   "metadata": {},
   "source": [
    "One final, very focused search within a small range"
   ]
  },
  {
   "cell_type": "code",
   "execution_count": 14,
   "metadata": {
    "collapsed": false
   },
   "outputs": [
    {
     "name": "stdout",
     "output_type": "stream",
     "text": [
      "('Total samples: ', 900)\n",
      "(180, 15)\n",
      "(180,)\n"
     ]
    }
   ],
   "source": [
    "from helper import *\n",
    "from normalEq import *\n",
    "\n",
    "k = 5 #number of folds for cross validation\n",
    "\n",
    "if X_data.shape[0] % k != 0:\n",
    "    print(\"Number of samples not divisible by k!\")\n",
    "    sys.exit(0)\n",
    "    \n",
    "print(\"Total samples: \", X_data.shape[0])\n",
    "\n",
    "total_error = 0.0\n",
    "\n",
    "X = np.split(X_data[:,2:], k, axis=0)\n",
    "y = np.split(X_data[:,1], k, axis=0)\n",
    "\n",
    "print(X[0].shape)\n",
    "print(y[0].shape)\n",
    "\n",
    "loss_dict = []\n",
    "lam_dict = []\n",
    "\n",
    "#lam_range = np.logspace(-5, 5, num=317)#[1e-8, 1e-3, 1e2] #we choose a prime number\n",
    "lam_range = np.logspace(-16, -12, num=101)\n",
    "lam_range = np.logspace(0.2, 4.5, num=101)\n",
    "lam_range = np.logspace(2, 3, num=101)\n",
    "\n",
    "old_loss = 1000000 #so the first best number gets chosen\n",
    "#Apply cross validation\n",
    "for lam in lam_range:\n",
    "    loss = 0\n",
    "    for i in range(k):\n",
    "        X_train, y_train, X_cv, y_cv = get_train_cross_dataset(X, y, i)\n",
    "        \n",
    "        #pass X_train and X_cv through the kernel function first!\n",
    "        X_train = poly3d_kernel(X_train)\n",
    "        X_cv = poly3d_kernel(X_cv)\n",
    "        \n",
    "\n",
    "        #apply to training function, then measure the error\n",
    "        weights = reg_normal_eq(X_train, y_train, lam)\n",
    "        \n",
    "        ##Measure loss\n",
    "        predictions = np.dot(X_cv, weights)\n",
    "        loss = rms(predictions, y_cv)    \n",
    "        \n",
    "        if loss < old_loss:\n",
    "            best_weights = weights\n",
    "    \n",
    "    total_error += loss    \n",
    "    total_error /= k\n",
    "       \n",
    "    lam_dict.append(lam)\n",
    "    loss_dict.append(total_error)    \n",
    "    \n",
    "#print best_weights    "
   ]
  },
  {
   "cell_type": "code",
   "execution_count": 15,
   "metadata": {
    "collapsed": false
   },
   "outputs": [
    {
     "data": {
      "image/png": "[encoded data removed]",
      "text/plain": [
       "<matplotlib.figure.Figure at 0x116bb8dd0>"
      ]
     },
     "metadata": {},
     "output_type": "display_data"
    }
   ],
   "source": [
    "plt.subplot(3, 1, 1)\n",
    "plt.title('Absolute training loss')\n",
    "plt.xlabel('Lambda')\n",
    "plt.semilogx(lam_dict, loss_dict, 'o')\n",
    "#plt.plot(lam_dict, 'o', label='baseline')\n",
    "#plt.plot(loss_dict, 'o', label='batchnorm')\n",
    "plt.show()"
   ]
  },
  {
   "cell_type": "code",
   "execution_count": 18,
   "metadata": {
    "collapsed": false
   },
   "outputs": [
    {
     "name": "stdout",
     "output_type": "stream",
     "text": [
      "('Minimal loss', 8.5863388641780496)\n",
      "('Minimizing lr and mu: ', 100.0)\n",
      "Loss: 8.58633886418, lam: 100.0\n",
      "Loss: 10.2997881779, lam: 102.329299228\n",
      "Loss: 10.6135336643, lam: 251.188643151\n",
      "Loss: 10.6135453328, lam: 257.039578277\n",
      "Loss: 10.6137200576, lam: 245.470891569\n",
      "Loss: 10.6137579988, lam: 263.02679919\n",
      "Loss: 10.614101445, lam: 239.883291902\n",
      "Loss: 10.6141744615, lam: 269.153480393\n",
      "Loss: 10.6146746317, lam: 234.422881532\n",
      "Loss: 10.6147973799, lam: 275.422870334\n",
      "Loss: 10.6154363008, lam: 229.086765277\n",
      "Loss: 10.6156292685, lam: 281.838293126\n",
      "Loss: 10.6163830177, lam: 223.872113857\n",
      "Loss: 10.616672494, lam: 288.403150313\n",
      "Loss: 10.6175112366, lam: 218.776162395\n",
      "Loss: 10.6179292716, lam: 295.120922667\n",
      "Loss: 10.6188173047, lam: 213.79620895\n",
      "Loss: 10.6194016629, lam: 301.99517204\n",
      "Loss: 10.620297469, lam: 208.929613085\n",
      "Loss: 10.6210915722, lam: 309.029543251\n"
     ]
    }
   ],
   "source": [
    "print(\"Minimal loss\", min(loss_dict))\n",
    "index = np.argmin(loss_dict)\n",
    "indecies = np.argsort(loss_dict)[::-1][-20:][::-1]\n",
    "print(\"Minimizing lr and mu: \", lam_dict[index])\n",
    "for i in range(20):\n",
    "    print(\"Loss: \" + str(loss_dict[indecies[i]]) + \", lam: \" + str(lam_dict[indecies[i]]))"
   ]
  },
  {
   "cell_type": "markdown",
   "metadata": {},
   "source": [
    "Final evaluation: Which lambda is the best?"
   ]
  },
  {
   "cell_type": "code",
   "execution_count": 20,
   "metadata": {
    "collapsed": false
   },
   "outputs": [
    {
     "name": "stdout",
     "output_type": "stream",
     "text": [
      "('Lambda: ', 102.329299228, ' Loss: ', 10.711926460520825)\n",
      "('Lambda: ', 251.188643151, ' Loss: ', 10.633174944919677)\n"
     ]
    }
   ],
   "source": [
    "from helper import *\n",
    "from normalEq import * \n",
    "\n",
    "X_train, y_train, X_cv, y_cv = get_train_cross_dataset(X, y, 0)\n",
    "\n",
    "for lam in [102.329299228, 251.188643151]:\n",
    "    loss = 0\n",
    "    for i in range(k):\n",
    "        X_train, y_train, X_cv, y_cv = get_train_cross_dataset(X, y, i)\n",
    "        \n",
    "        #pass X_train and X_cv through the kernel function first!\n",
    "        X_train = poly3d_kernel(X_train)\n",
    "        X_cv = poly3d_kernel(X_cv)\n",
    "        \n",
    "\n",
    "        #apply to training function, then measure the error\n",
    "        weights = reg_normal_eq(X_train, y_train, lam)\n",
    "        \n",
    "        ##Measure loss\n",
    "        predictions = np.dot(X_cv, weights)\n",
    "        loss = rms(predictions, y_cv)    \n",
    "        \n",
    "        if loss < old_loss:\n",
    "            best_weights = weights\n",
    "    \n",
    "    total_error += loss    \n",
    "    total_error /= k\n",
    "    print(\"Lambda: \", lam, \" Loss: \", total_error)\n"
   ]
  },
  {
   "cell_type": "markdown",
   "metadata": {},
   "source": [
    "## Bring the function into the submission format: Post-Processing\n",
    "We have trained the weights using the training data (X_train). Remember that the sample submission data looks like the following. That means we need to predict for the test data."
   ]
  },
  {
   "cell_type": "code",
   "execution_count": 4,
   "metadata": {
    "collapsed": true
   },
   "outputs": [],
   "source": [
    "if False:\n",
    "    print(\"Sample\")\n",
    "    print(data_sample.head(cases))\n",
    "    print(data_sample.tail(cases))\n",
    "    print(\"Test\")\n",
    "    print(data_test.head(cases))\n",
    "    print(data_test.tail(cases))\n",
    "    print(X_finaltest.shape)\n",
    "    print(weights.shape)\n",
    "    print(y_pred_test.shape)\n",
    "    print(y_pred_test)"
   ]
  },
  {
   "cell_type": "code",
   "execution_count": 6,
   "metadata": {
    "collapsed": false
   },
   "outputs": [
    {
     "name": "stdout",
     "output_type": "stream",
     "text": [
      "(2000, 2)\n",
      "[[  900.            53.49228872]\n",
      " [  901.            27.3390026 ]\n",
      " [  902.            -9.98899448]\n",
      " ..., \n",
      " [ 2897.            17.69077445]\n",
      " [ 2898.            28.63786021]\n",
      " [ 2899.            39.01257638]]\n"
     ]
    }
   ],
   "source": [
    "from helper import *\n",
    "from normalEq import *\n",
    "\n",
    "X = poly3d_kernel(X_data[:,2:])\n",
    "y = X_data[:,1]\n",
    "weights = reg_normal_eq(X, y, 251.188643151)\n",
    "\n",
    "X_sub = poly3d_kernel(X_test)\n",
    "\n",
    "y_pred_test = np.dot(X_sub, weights)\n",
    "sub_data = np.column_stack((data_test.values[:,0], y_pred_test))\n",
    "print(sub_data.shape)\n",
    "print(sub_data)"
   ]
  },
  {
   "cell_type": "code",
   "execution_count": 7,
   "metadata": {
    "collapsed": false
   },
   "outputs": [
    {
     "name": "stdout",
     "output_type": "stream",
     "text": [
      "        Id           y\n",
      "0      900   53.492289\n",
      "1      901   27.339003\n",
      "2      902   -9.988994\n",
      "3      903  -21.773733\n",
      "4      904    6.711756\n",
      "5      905  -37.203606\n",
      "6      906   69.536275\n",
      "7      907   14.449010\n",
      "8      908   35.003231\n",
      "9      909  144.163952\n",
      "10     910  -18.813980\n",
      "11     911  -77.307395\n",
      "12     912    4.818249\n",
      "13     913  -13.274296\n",
      "14     914   35.360832\n",
      "15     915   35.466325\n",
      "16     916  -10.843638\n",
      "17     917  -99.292618\n",
      "18     918   56.940347\n",
      "19     919  -19.994224\n",
      "20     920   91.719123\n",
      "21     921   79.567530\n",
      "22     922   73.920691\n",
      "23     923   22.969027\n",
      "24     924   -6.228230\n",
      "25     925   11.995506\n",
      "26     926    4.839270\n",
      "27     927  -17.682200\n",
      "28     928  -23.646234\n",
      "29     929  -22.457698\n",
      "...    ...         ...\n",
      "1970  2870    4.421983\n",
      "1971  2871   21.132255\n",
      "1972  2872   25.513626\n",
      "1973  2873    8.071692\n",
      "1974  2874    1.285401\n",
      "1975  2875   -6.729717\n",
      "1976  2876   66.649099\n",
      "1977  2877   31.062332\n",
      "1978  2878  -52.090013\n",
      "1979  2879  -42.572250\n",
      "1980  2880   53.325136\n",
      "1981  2881  -43.664592\n",
      "1982  2882  -32.142756\n",
      "1983  2883   48.795346\n",
      "1984  2884   38.232419\n",
      "1985  2885  -93.982765\n",
      "1986  2886   79.217128\n",
      "1987  2887    5.208657\n",
      "1988  2888   -3.983036\n",
      "1989  2889   14.448676\n",
      "1990  2890  -19.580880\n",
      "1991  2891   16.804452\n",
      "1992  2892  -19.814988\n",
      "1993  2893    9.651451\n",
      "1994  2894    9.200647\n",
      "1995  2895    9.684390\n",
      "1996  2896   -2.075844\n",
      "1997  2897   17.690774\n",
      "1998  2898   28.637860\n",
      "1999  2899   39.012576\n",
      "\n",
      "[2000 rows x 2 columns]\n"
     ]
    }
   ],
   "source": [
    "#pd.set_option('max_info_rows', 11)\n",
    "#pd.set_option('precision',20)\n",
    "submission = pd.DataFrame(sub_data, columns = [\"Id\", \"y\"])\n",
    "submission.Id = submission.Id.astype(int)\n",
    "print(submission)"
   ]
  },
  {
   "cell_type": "code",
   "execution_count": 8,
   "metadata": {
    "collapsed": true
   },
   "outputs": [],
   "source": [
    "csv_file = submission.to_csv('submission.csv')"
   ]
  },
  {
   "cell_type": "markdown",
   "metadata": {},
   "source": [
    "## Gradient Descent"
   ]
  },
  {
   "cell_type": "markdown",
   "metadata": {},
   "source": [
    "### Gradient Descent without Kernel"
   ]
  },
  {
   "cell_type": "markdown",
   "metadata": {},
   "source": [
    "First of all, let's check if gradient descent actually works"
   ]
  },
  {
   "cell_type": "code",
   "execution_count": 16,
   "metadata": {
    "collapsed": false
   },
   "outputs": [
    {
     "name": "stdout",
     "output_type": "stream",
     "text": [
      "[51.965120872234081, 45.034856117168871, 39.923536147476511, 36.063201985223685, 33.065500280474332, 30.715866762972631, 28.843115849635634, 27.334242629321373, 26.102238350182638, 25.085663238951142, 24.237925320308019, 23.524637847582845, 22.919451251220874, 22.402200956476747, 21.957107658112925, 21.571735477952924, 21.23614206508886, 20.942313693662758, 20.683728647192357, 20.455042730609794]\n",
      "[66.117207899462741, 60.726139618107055, 59.889497154708643, 58.064781784497043, 57.350867874123608, 56.572031693087808, 56.117171618614059, 55.7225420050911, 55.445139892726701, 55.218778490415723, 55.044532579618178, 54.902231358680986, 54.786812874376011, 54.690475170563339, 54.609341841454636, 54.539717675210355, 54.479188981008043, 54.425761325111793, 54.377976070581695, 54.334673022647884]\n"
     ]
    }
   ],
   "source": [
    "from helper import *\n",
    "from sgd import *\n",
    "\n",
    "lr = 0.1\n",
    "mu = 0.1\n",
    "\n",
    "w = np.random.normal(0.0, 1.0, size=(X_train.shape[1])) #must be adaptable to X\n",
    "\n",
    "train_loss_list, cv_loss_list, w = run_sgd(X[0], y[0], X[1], y[1], w, mu, lr, rms, MAX_STEPS=20, batch_size=20)\n",
    "\n",
    "print(train_loss_list)\n",
    "print(cv_loss_list)\n"
   ]
  },
  {
   "cell_type": "markdown",
   "metadata": {},
   "source": [
    "Seems fine, as all loss values decrese"
   ]
  },
  {
   "cell_type": "code",
   "execution_count": 17,
   "metadata": {
    "collapsed": false,
    "scrolled": true
   },
   "outputs": [
    {
     "name": "stdout",
     "output_type": "stream",
     "text": [
      "('Total samples: ', 900)\n",
      "(180, 15)\n",
      "(180,)\n",
      "(0.0848, 1e-10, 47.27974861009087)\n",
      "(0.0848, 1.0263157894736842e-10, 44.985030701958564)\n",
      "(0.0848, 1.0526315789473684e-10, 45.499723784325866)\n",
      "(0.0848, 1.0789473684210527e-10, 46.62820187910993)\n",
      "(0.0848, 1.1052631578947369e-10, 46.910527914760905)\n",
      "(0.0848, 1.1315789473684211e-10, 46.473305224028515)\n",
      "(0.0848, 1.1578947368421053e-10, 46.664280768138148)\n",
      "(0.0848, 1.1842105263157895e-10, 48.321728308839674)\n",
      "(0.0848, 1.2105263157894737e-10, 45.073283342194536)\n",
      "(0.0848, 1.2368421052631579e-10, 46.284067414309618)\n",
      "(0.0848, 1.263157894736842e-10, 48.525630130411834)\n",
      "(0.0848, 1.2894736842105262e-10, 45.76230274207397)\n",
      "(0.0848, 1.3157894736842104e-10, 48.13365337181564)\n",
      "(0.0848, 1.3421052631578949e-10, 46.909722842705044)\n",
      "(0.0848, 1.3684210526315788e-10, 46.233590288031976)\n",
      "(0.0848, 1.3947368421052632e-10, 45.892454707434332)\n",
      "(0.0848, 1.4210526315789474e-10, 45.306919479738497)\n",
      "(0.0848, 1.4473684210526316e-10, 47.794425685280927)\n",
      "(0.0848, 1.4736842105263158e-10, 46.774006119244767)\n",
      "(0.0848, 1.5e-10, 46.047704015655427)\n",
      "(0.084810526315789475, 1e-10, 45.511861085153107)\n",
      "(0.084810526315789475, 1.0263157894736842e-10, 45.453824694528365)\n",
      "(0.084810526315789475, 1.0526315789473684e-10, 46.794249768718444)\n",
      "(0.084810526315789475, 1.0789473684210527e-10, 46.614682653477779)\n",
      "(0.084810526315789475, 1.1052631578947369e-10, 47.415739414987485)\n",
      "(0.084810526315789475, 1.1315789473684211e-10, 48.326603097122749)\n",
      "(0.084810526315789475, 1.1578947368421053e-10, 46.567362656644889)\n",
      "(0.084810526315789475, 1.1842105263157895e-10, 46.831855931859195)\n",
      "(0.084810526315789475, 1.2105263157894737e-10, 47.746717465860812)\n",
      "(0.084810526315789475, 1.2368421052631579e-10, 46.125325511713513)\n",
      "(0.084810526315789475, 1.263157894736842e-10, 47.682319062731963)\n",
      "(0.084810526315789475, 1.2894736842105262e-10, 46.466274461131874)\n",
      "(0.084810526315789475, 1.3157894736842104e-10, 47.22257061924077)\n",
      "(0.084810526315789475, 1.3421052631578949e-10, 45.736035863775818)\n",
      "(0.084810526315789475, 1.3684210526315788e-10, 45.855155229060479)\n",
      "(0.084810526315789475, 1.3947368421052632e-10, 47.276317759978674)\n",
      "(0.084810526315789475, 1.4210526315789474e-10, 47.896263533578974)\n",
      "(0.084810526315789475, 1.4473684210526316e-10, 45.503435752319)\n",
      "(0.084810526315789475, 1.4736842105263158e-10, 45.605823142718727)\n",
      "(0.084810526315789475, 1.5e-10, 46.924117637855559)\n",
      "(0.08482105263157895, 1e-10, 47.50695574907747)\n",
      "(0.08482105263157895, 1.0263157894736842e-10, 46.245055588259021)\n",
      "(0.08482105263157895, 1.0526315789473684e-10, 46.909347334304073)\n",
      "(0.08482105263157895, 1.0789473684210527e-10, 46.155066799758799)\n",
      "(0.08482105263157895, 1.1052631578947369e-10, 46.449651657407955)\n",
      "(0.08482105263157895, 1.1315789473684211e-10, 47.114544282176603)\n",
      "(0.08482105263157895, 1.1578947368421053e-10, 46.419838442039534)\n",
      "(0.08482105263157895, 1.1842105263157895e-10, 48.706169902964731)\n",
      "(0.08482105263157895, 1.2105263157894737e-10, 47.433899460561534)\n",
      "(0.08482105263157895, 1.2368421052631579e-10, 45.224135473248239)\n",
      "(0.08482105263157895, 1.263157894736842e-10, 47.753591571055964)\n",
      "(0.08482105263157895, 1.2894736842105262e-10, 48.099761648155244)\n",
      "(0.08482105263157895, 1.3157894736842104e-10, 48.97243653923762)\n",
      "(0.08482105263157895, 1.3421052631578949e-10, 46.639706341379529)\n",
      "(0.08482105263157895, 1.3684210526315788e-10, 45.794347438265405)\n",
      "(0.08482105263157895, 1.3947368421052632e-10, 46.794828059051312)\n",
      "(0.08482105263157895, 1.4210526315789474e-10, 45.164310108587827)\n",
      "(0.08482105263157895, 1.4473684210526316e-10, 45.857169218170128)\n",
      "(0.08482105263157895, 1.4736842105263158e-10, 47.706399593225271)\n",
      "(0.08482105263157895, 1.5e-10, 46.253714599267049)\n",
      "(0.084831578947368425, 1e-10, 46.569852653024014)\n",
      "(0.084831578947368425, 1.0263157894736842e-10, 46.604664647300659)\n",
      "(0.084831578947368425, 1.0526315789473684e-10, 47.874382720009841)\n",
      "(0.084831578947368425, 1.0789473684210527e-10, 46.972158722500239)\n",
      "(0.084831578947368425, 1.1052631578947369e-10, 47.4168286968562)\n",
      "(0.084831578947368425, 1.1315789473684211e-10, 48.178958783052458)\n",
      "(0.084831578947368425, 1.1578947368421053e-10, 46.712585250049806)\n",
      "(0.084831578947368425, 1.1842105263157895e-10, 46.216657611148179)\n",
      "(0.084831578947368425, 1.2105263157894737e-10, 47.581307186366267)\n",
      "(0.084831578947368425, 1.2368421052631579e-10, 46.799962672631523)\n",
      "(0.084831578947368425, 1.263157894736842e-10, 46.429532762729934)\n",
      "(0.084831578947368425, 1.2894736842105262e-10, 47.14855487242977)\n",
      "(0.084831578947368425, 1.3157894736842104e-10, 47.072806552141387)\n",
      "(0.084831578947368425, 1.3421052631578949e-10, 48.057619185034838)\n",
      "(0.084831578947368425, 1.3684210526315788e-10, 45.803978022433022)\n",
      "(0.084831578947368425, 1.3947368421052632e-10, 47.440588561927321)\n",
      "(0.084831578947368425, 1.4210526315789474e-10, 47.866091910057762)\n",
      "(0.084831578947368425, 1.4473684210526316e-10, 46.55957476705877)\n",
      "(0.084831578947368425, 1.4736842105263158e-10, 46.282234375778621)\n",
      "(0.084831578947368425, 1.5e-10, 48.182464436866461)\n",
      "(0.084842105263157899, 1e-10, 45.446940981712672)\n",
      "(0.084842105263157899, 1.0263157894736842e-10, 46.721421583751123)\n",
      "(0.084842105263157899, 1.0526315789473684e-10, 47.16430534675029)\n",
      "(0.084842105263157899, 1.0789473684210527e-10, 47.564091181872051)\n",
      "(0.084842105263157899, 1.1052631578947369e-10, 47.182772412629362)\n",
      "(0.084842105263157899, 1.1315789473684211e-10, 47.488366147214165)\n",
      "(0.084842105263157899, 1.1578947368421053e-10, 46.6372711798343)\n",
      "(0.084842105263157899, 1.1842105263157895e-10, 46.697961197370986)\n",
      "(0.084842105263157899, 1.2105263157894737e-10, 46.840997685265556)\n",
      "(0.084842105263157899, 1.2368421052631579e-10, 46.057333498949468)\n",
      "(0.084842105263157899, 1.263157894736842e-10, 47.121745706891453)\n",
      "(0.084842105263157899, 1.2894736842105262e-10, 45.088170260037728)\n",
      "(0.084842105263157899, 1.3157894736842104e-10, 46.31162429581493)\n",
      "(0.084842105263157899, 1.3421052631578949e-10, 48.159707604135789)\n",
      "(0.084842105263157899, 1.3684210526315788e-10, 45.919533525721)\n",
      "(0.084842105263157899, 1.3947368421052632e-10, 46.454697830783253)\n",
      "(0.084842105263157899, 1.4210526315789474e-10, 47.914088007601251)\n",
      "(0.084842105263157899, 1.4473684210526316e-10, 47.859215255159768)\n",
      "(0.084842105263157899, 1.4736842105263158e-10, 46.588592288180301)\n",
      "(0.084842105263157899, 1.5e-10, 45.672297000244271)\n",
      "(0.084852631578947374, 1e-10, 45.646993962256374)\n",
      "(0.084852631578947374, 1.0263157894736842e-10, 47.683540930204487)\n",
      "(0.084852631578947374, 1.0526315789473684e-10, 49.210937927669306)\n",
      "(0.084852631578947374, 1.0789473684210527e-10, 47.229608522043584)\n",
      "(0.084852631578947374, 1.1052631578947369e-10, 44.854699451331577)\n",
      "(0.084852631578947374, 1.1315789473684211e-10, 46.638262038738347)\n",
      "(0.084852631578947374, 1.1578947368421053e-10, 49.702876685946194)\n",
      "(0.084852631578947374, 1.1842105263157895e-10, 46.752453876299739)\n",
      "(0.084852631578947374, 1.2105263157894737e-10, 46.289175611119262)\n",
      "(0.084852631578947374, 1.2368421052631579e-10, 47.650844702794103)\n",
      "(0.084852631578947374, 1.263157894736842e-10, 46.332744382720144)\n",
      "(0.084852631578947374, 1.2894736842105262e-10, 45.873859830744962)\n",
      "(0.084852631578947374, 1.3157894736842104e-10, 47.173766382523148)\n",
      "(0.084852631578947374, 1.3421052631578949e-10, 46.939567825807316)\n",
      "(0.084852631578947374, 1.3684210526315788e-10, 46.293537343254584)\n",
      "(0.084852631578947374, 1.3947368421052632e-10, 46.592963706224857)\n",
      "(0.084852631578947374, 1.4210526315789474e-10, 48.797342766665594)\n",
      "(0.084852631578947374, 1.4473684210526316e-10, 46.074091946514201)\n",
      "(0.084852631578947374, 1.4736842105263158e-10, 47.613154423717731)\n",
      "(0.084852631578947374, 1.5e-10, 49.748979997942726)\n",
      "(0.084863157894736849, 1e-10, 46.231493492344057)\n",
      "(0.084863157894736849, 1.0263157894736842e-10, 48.241904974727213)\n",
      "(0.084863157894736849, 1.0526315789473684e-10, 46.926413853653699)\n",
      "(0.084863157894736849, 1.0789473684210527e-10, 45.777768376531107)\n",
      "(0.084863157894736849, 1.1052631578947369e-10, 46.638068263224284)\n",
      "(0.084863157894736849, 1.1315789473684211e-10, 45.781379887800163)\n",
      "(0.084863157894736849, 1.1578947368421053e-10, 46.942289539562765)\n",
      "(0.084863157894736849, 1.1842105263157895e-10, 45.898507697183845)\n",
      "(0.084863157894736849, 1.2105263157894737e-10, 46.394354463354389)\n",
      "(0.084863157894736849, 1.2368421052631579e-10, 47.732310089163249)\n",
      "(0.084863157894736849, 1.263157894736842e-10, 46.273650093468497)\n",
      "(0.084863157894736849, 1.2894736842105262e-10, 46.472958275800224)\n",
      "(0.084863157894736849, 1.3157894736842104e-10, 46.257876026197017)\n",
      "(0.084863157894736849, 1.3421052631578949e-10, 46.944404529370772)\n",
      "(0.084863157894736849, 1.3684210526315788e-10, 46.692638296815325)\n",
      "(0.084863157894736849, 1.3947368421052632e-10, 45.805903678219366)\n",
      "(0.084863157894736849, 1.4210526315789474e-10, 46.55862701739148)\n",
      "(0.084863157894736849, 1.4473684210526316e-10, 46.745374260818593)\n",
      "(0.084863157894736849, 1.4736842105263158e-10, 47.686471249157748)\n",
      "(0.084863157894736849, 1.5e-10, 46.329523426220746)\n",
      "(0.084873684210526323, 1e-10, 47.39397480605875)\n",
      "(0.084873684210526323, 1.0263157894736842e-10, 45.757355920491555)\n",
      "(0.084873684210526323, 1.0526315789473684e-10, 46.968420541439983)\n",
      "(0.084873684210526323, 1.0789473684210527e-10, 46.760833611358372)\n",
      "(0.084873684210526323, 1.1052631578947369e-10, 46.121617932135429)\n",
      "(0.084873684210526323, 1.1315789473684211e-10, 45.933854877678428)\n",
      "(0.084873684210526323, 1.1578947368421053e-10, 45.502374761293439)\n",
      "(0.084873684210526323, 1.1842105263157895e-10, 46.584663322314228)\n",
      "(0.084873684210526323, 1.2105263157894737e-10, 46.482324781629814)\n",
      "(0.084873684210526323, 1.2368421052631579e-10, 46.056131743516247)\n",
      "(0.084873684210526323, 1.263157894736842e-10, 45.141856834561587)\n",
      "(0.084873684210526323, 1.2894736842105262e-10, 44.829389830872699)\n",
      "(0.084873684210526323, 1.3157894736842104e-10, 45.957106645196646)\n",
      "(0.084873684210526323, 1.3421052631578949e-10, 45.523317820432581)\n",
      "(0.084873684210526323, 1.3684210526315788e-10, 45.725702006910048)\n",
      "(0.084873684210526323, 1.3947368421052632e-10, 47.574129233147552)\n",
      "(0.084873684210526323, 1.4210526315789474e-10, 46.953720084282644)\n",
      "(0.084873684210526323, 1.4473684210526316e-10, 46.482996451463507)\n",
      "(0.084873684210526323, 1.4736842105263158e-10, 48.034300517819119)\n",
      "(0.084873684210526323, 1.5e-10, 46.29306488067656)\n",
      "(0.084884210526315798, 1e-10, 46.782188346882457)\n",
      "(0.084884210526315798, 1.0263157894736842e-10, 47.055446259729862)\n",
      "(0.084884210526315798, 1.0526315789473684e-10, 45.72503136964162)\n",
      "(0.084884210526315798, 1.0789473684210527e-10, 47.542357765828008)\n",
      "(0.084884210526315798, 1.1052631578947369e-10, 46.889277473309221)\n",
      "(0.084884210526315798, 1.1315789473684211e-10, 48.012949329624561)\n",
      "(0.084884210526315798, 1.1578947368421053e-10, 46.52168836405739)\n",
      "(0.084884210526315798, 1.1842105263157895e-10, 48.393315959789938)\n",
      "(0.084884210526315798, 1.2105263157894737e-10, 44.911719457246008)\n",
      "(0.084884210526315798, 1.2368421052631579e-10, 45.547694891377844)\n",
      "(0.084884210526315798, 1.263157894736842e-10, 47.226333861517304)\n",
      "(0.084884210526315798, 1.2894736842105262e-10, 46.777584709226801)\n",
      "(0.084884210526315798, 1.3157894736842104e-10, 48.239826777360022)\n",
      "(0.084884210526315798, 1.3421052631578949e-10, 46.860215965851907)\n",
      "(0.084884210526315798, 1.3684210526315788e-10, 45.814674195291559)\n",
      "(0.084884210526315798, 1.3947368421052632e-10, 47.885049091135201)\n",
      "(0.084884210526315798, 1.4210526315789474e-10, 46.545117742095563)\n",
      "(0.084884210526315798, 1.4473684210526316e-10, 47.153100070313982)\n",
      "(0.084884210526315798, 1.4736842105263158e-10, 46.603805113852651)\n",
      "(0.084884210526315798, 1.5e-10, 47.384380359210162)\n",
      "(0.084894736842105273, 1e-10, 49.411553352077959)\n",
      "(0.084894736842105273, 1.0263157894736842e-10, 46.071626593522055)\n",
      "(0.084894736842105273, 1.0526315789473684e-10, 45.638594864698632)\n",
      "(0.084894736842105273, 1.0789473684210527e-10, 46.9354707568652)\n",
      "(0.084894736842105273, 1.1052631578947369e-10, 47.156351819747009)\n",
      "(0.084894736842105273, 1.1315789473684211e-10, 46.255515808061595)\n",
      "(0.084894736842105273, 1.1578947368421053e-10, 47.875436494799338)\n",
      "(0.084894736842105273, 1.1842105263157895e-10, 46.906909195378397)\n",
      "(0.084894736842105273, 1.2105263157894737e-10, 45.863232143460756)\n",
      "(0.084894736842105273, 1.2368421052631579e-10, 46.252408000135297)\n",
      "(0.084894736842105273, 1.263157894736842e-10, 47.217271293452384)\n",
      "(0.084894736842105273, 1.2894736842105262e-10, 47.265387097305833)\n",
      "(0.084894736842105273, 1.3157894736842104e-10, 46.564685074001218)\n",
      "(0.084894736842105273, 1.3421052631578949e-10, 47.297278246780706)\n",
      "(0.084894736842105273, 1.3684210526315788e-10, 47.183544621482831)\n",
      "(0.084894736842105273, 1.3947368421052632e-10, 46.954371801899811)\n",
      "(0.084894736842105273, 1.4210526315789474e-10, 46.33244637066592)\n",
      "(0.084894736842105273, 1.4473684210526316e-10, 46.904398825982206)\n",
      "(0.084894736842105273, 1.4736842105263158e-10, 46.530540844041475)\n",
      "(0.084894736842105273, 1.5e-10, 47.038014413216978)\n",
      "(0.084905263157894734, 1e-10, 47.061694251019489)\n",
      "(0.084905263157894734, 1.0263157894736842e-10, 46.287521373211092)\n",
      "(0.084905263157894734, 1.0526315789473684e-10, 48.12074985986078)\n",
      "(0.084905263157894734, 1.0789473684210527e-10, 46.55672107567559)\n",
      "(0.084905263157894734, 1.1052631578947369e-10, 46.978116862042533)\n",
      "(0.084905263157894734, 1.1315789473684211e-10, 45.739321236401331)\n",
      "(0.084905263157894734, 1.1578947368421053e-10, 48.076245477937377)\n",
      "(0.084905263157894734, 1.1842105263157895e-10, 46.895790637350018)\n",
      "(0.084905263157894734, 1.2105263157894737e-10, 49.596261609892352)\n",
      "(0.084905263157894734, 1.2368421052631579e-10, 46.435883884806259)\n",
      "(0.084905263157894734, 1.263157894736842e-10, 47.234032826446324)\n",
      "(0.084905263157894734, 1.2894736842105262e-10, 45.749619096761613)\n",
      "(0.084905263157894734, 1.3157894736842104e-10, 47.1034690629983)\n",
      "(0.084905263157894734, 1.3421052631578949e-10, 46.026524909994855)\n",
      "(0.084905263157894734, 1.3684210526315788e-10, 46.000898160578011)\n",
      "(0.084905263157894734, 1.3947368421052632e-10, 45.843248024926368)\n",
      "(0.084905263157894734, 1.4210526315789474e-10, 46.438917439819001)\n",
      "(0.084905263157894734, 1.4473684210526316e-10, 46.994236733127366)\n",
      "(0.084905263157894734, 1.4736842105263158e-10, 46.68232213348675)\n",
      "(0.084905263157894734, 1.5e-10, 46.414670618420935)\n",
      "(0.084915789473684208, 1e-10, 47.274845630246347)\n",
      "(0.084915789473684208, 1.0263157894736842e-10, 46.510580092025165)\n",
      "(0.084915789473684208, 1.0526315789473684e-10, 46.750327392068321)\n",
      "(0.084915789473684208, 1.0789473684210527e-10, 46.759648051458655)\n",
      "(0.084915789473684208, 1.1052631578947369e-10, 47.074626071591602)\n",
      "(0.084915789473684208, 1.1315789473684211e-10, 47.526461009820956)\n",
      "(0.084915789473684208, 1.1578947368421053e-10, 45.777343896999561)\n",
      "(0.084915789473684208, 1.1842105263157895e-10, 47.590697058655948)\n",
      "(0.084915789473684208, 1.2105263157894737e-10, 46.592403819029528)\n",
      "(0.084915789473684208, 1.2368421052631579e-10, 47.141430438418389)\n",
      "(0.084915789473684208, 1.263157894736842e-10, 47.383699206091883)\n",
      "(0.084915789473684208, 1.2894736842105262e-10, 47.59130902330871)\n",
      "(0.084915789473684208, 1.3157894736842104e-10, 46.605046995499904)\n",
      "(0.084915789473684208, 1.3421052631578949e-10, 46.9752197903385)\n",
      "(0.084915789473684208, 1.3684210526315788e-10, 45.995215408487446)\n",
      "(0.084915789473684208, 1.3947368421052632e-10, 46.130696118878234)\n",
      "(0.084915789473684208, 1.4210526315789474e-10, 48.182236591789746)\n",
      "(0.084915789473684208, 1.4473684210526316e-10, 46.331490480524927)\n",
      "(0.084915789473684208, 1.4736842105263158e-10, 45.959893145437754)\n",
      "(0.084915789473684208, 1.5e-10, 47.434131620288696)\n",
      "(0.084926315789473683, 1e-10, 46.639459523514986)\n",
      "(0.084926315789473683, 1.0263157894736842e-10, 46.309960098940763)\n",
      "(0.084926315789473683, 1.0526315789473684e-10, 46.607484453206496)\n",
      "(0.084926315789473683, 1.0789473684210527e-10, 45.847636820894337)\n",
      "(0.084926315789473683, 1.1052631578947369e-10, 47.557444312762392)\n",
      "(0.084926315789473683, 1.1315789473684211e-10, 47.959917107691027)\n",
      "(0.084926315789473683, 1.1578947368421053e-10, 47.003052102756648)\n",
      "(0.084926315789473683, 1.1842105263157895e-10, 47.311221703443962)\n",
      "(0.084926315789473683, 1.2105263157894737e-10, 46.18551675528564)\n",
      "(0.084926315789473683, 1.2368421052631579e-10, 46.680175808952427)\n",
      "(0.084926315789473683, 1.263157894736842e-10, 45.88624013109974)\n",
      "(0.084926315789473683, 1.2894736842105262e-10, 46.582205631141889)\n",
      "(0.084926315789473683, 1.3157894736842104e-10, 48.912189588949289)\n",
      "(0.084926315789473683, 1.3421052631578949e-10, 47.681271444404544)\n",
      "(0.084926315789473683, 1.3684210526315788e-10, 48.2356885214665)\n",
      "(0.084926315789473683, 1.3947368421052632e-10, 47.338819695907958)\n",
      "(0.084926315789473683, 1.4210526315789474e-10, 46.077691821943844)\n",
      "(0.084926315789473683, 1.4473684210526316e-10, 46.00207879829275)\n",
      "(0.084926315789473683, 1.4736842105263158e-10, 46.580266388496334)\n",
      "(0.084926315789473683, 1.5e-10, 47.160731901882976)\n",
      "(0.084936842105263158, 1e-10, 46.30641375725672)\n",
      "(0.084936842105263158, 1.0263157894736842e-10, 46.036647784501014)\n",
      "(0.084936842105263158, 1.0526315789473684e-10, 45.997827244170111)\n",
      "(0.084936842105263158, 1.0789473684210527e-10, 47.408095844432225)\n",
      "(0.084936842105263158, 1.1052631578947369e-10, 47.110806113480749)\n",
      "(0.084936842105263158, 1.1315789473684211e-10, 46.554236105203394)\n",
      "(0.084936842105263158, 1.1578947368421053e-10, 46.608160806387346)\n",
      "(0.084936842105263158, 1.1842105263157895e-10, 46.857888416473585)\n",
      "(0.084936842105263158, 1.2105263157894737e-10, 46.841851790088739)\n",
      "(0.084936842105263158, 1.2368421052631579e-10, 47.56738731236058)\n",
      "(0.084936842105263158, 1.263157894736842e-10, 46.863186889214404)\n",
      "(0.084936842105263158, 1.2894736842105262e-10, 47.047893243499288)\n",
      "(0.084936842105263158, 1.3157894736842104e-10, 47.786821989598202)\n",
      "(0.084936842105263158, 1.3421052631578949e-10, 46.418939559535318)\n",
      "(0.084936842105263158, 1.3684210526315788e-10, 45.649288889476779)\n",
      "(0.084936842105263158, 1.3947368421052632e-10, 46.768419429229311)\n",
      "(0.084936842105263158, 1.4210526315789474e-10, 46.396996854639887)\n",
      "(0.084936842105263158, 1.4473684210526316e-10, 46.784856835977941)\n",
      "(0.084936842105263158, 1.4736842105263158e-10, 46.024363585507999)\n",
      "(0.084936842105263158, 1.5e-10, 47.19739614797161)\n",
      "(0.084947368421052633, 1e-10, 46.300094912053041)\n",
      "(0.084947368421052633, 1.0263157894736842e-10, 46.959009828643829)\n",
      "(0.084947368421052633, 1.0526315789473684e-10, 46.157072105692365)\n",
      "(0.084947368421052633, 1.0789473684210527e-10, 47.03263075169599)\n",
      "(0.084947368421052633, 1.1052631578947369e-10, 46.104379193044664)\n",
      "(0.084947368421052633, 1.1315789473684211e-10, 45.900292581826406)\n",
      "(0.084947368421052633, 1.1578947368421053e-10, 46.286469302290598)\n",
      "(0.084947368421052633, 1.1842105263157895e-10, 48.381616317555746)\n",
      "(0.084947368421052633, 1.2105263157894737e-10, 46.605496447029473)\n",
      "(0.084947368421052633, 1.2368421052631579e-10, 46.588466241451322)\n",
      "(0.084947368421052633, 1.263157894736842e-10, 45.819413324516354)\n",
      "(0.084947368421052633, 1.2894736842105262e-10, 47.859266710038263)\n",
      "(0.084947368421052633, 1.3157894736842104e-10, 47.441559340720161)\n",
      "(0.084947368421052633, 1.3421052631578949e-10, 47.690322144285091)\n",
      "(0.084947368421052633, 1.3684210526315788e-10, 48.689475778800137)\n",
      "(0.084947368421052633, 1.3947368421052632e-10, 46.935326624990374)\n",
      "(0.084947368421052633, 1.4210526315789474e-10, 48.014155012288988)\n",
      "(0.084947368421052633, 1.4473684210526316e-10, 44.819885732632102)\n",
      "(0.084947368421052633, 1.4736842105263158e-10, 46.973472789618697)\n",
      "(0.084947368421052633, 1.5e-10, 46.932861524979486)\n",
      "(0.084957894736842107, 1e-10, 46.148627708567815)\n",
      "(0.084957894736842107, 1.0263157894736842e-10, 46.03524776211313)\n",
      "(0.084957894736842107, 1.0526315789473684e-10, 46.553123776139245)\n",
      "(0.084957894736842107, 1.0789473684210527e-10, 46.979121942184058)\n",
      "(0.084957894736842107, 1.1052631578947369e-10, 48.832415162822912)\n",
      "(0.084957894736842107, 1.1315789473684211e-10, 46.607407461247575)\n",
      "(0.084957894736842107, 1.1578947368421053e-10, 47.014093052935308)\n",
      "(0.084957894736842107, 1.1842105263157895e-10, 47.920471734903558)\n",
      "(0.084957894736842107, 1.2105263157894737e-10, 46.414788717950998)\n",
      "(0.084957894736842107, 1.2368421052631579e-10, 46.901290287154062)\n",
      "(0.084957894736842107, 1.263157894736842e-10, 47.32609329912902)\n",
      "(0.084957894736842107, 1.2894736842105262e-10, 46.125823751766951)\n",
      "(0.084957894736842107, 1.3157894736842104e-10, 46.789971246825459)\n",
      "(0.084957894736842107, 1.3421052631578949e-10, 47.165300627953698)\n",
      "(0.084957894736842107, 1.3684210526315788e-10, 47.26314680204559)\n",
      "(0.084957894736842107, 1.3947368421052632e-10, 49.611693800882882)\n",
      "(0.084957894736842107, 1.4210526315789474e-10, 46.49477682371451)\n",
      "(0.084957894736842107, 1.4473684210526316e-10, 47.216701138517941)\n",
      "(0.084957894736842107, 1.4736842105263158e-10, 46.085243841256421)\n",
      "(0.084957894736842107, 1.5e-10, 45.428815428305953)\n",
      "(0.084968421052631582, 1e-10, 46.934298055277026)\n",
      "(0.084968421052631582, 1.0263157894736842e-10, 47.91069031561937)\n",
      "(0.084968421052631582, 1.0526315789473684e-10, 45.248634515149888)\n",
      "(0.084968421052631582, 1.0789473684210527e-10, 46.904476442225956)\n",
      "(0.084968421052631582, 1.1052631578947369e-10, 45.856064839117423)\n",
      "(0.084968421052631582, 1.1315789473684211e-10, 47.127947076141574)\n",
      "(0.084968421052631582, 1.1578947368421053e-10, 45.708421553031556)\n",
      "(0.084968421052631582, 1.1842105263157895e-10, 47.052295096740131)\n",
      "(0.084968421052631582, 1.2105263157894737e-10, 47.097736348073042)\n",
      "(0.084968421052631582, 1.2368421052631579e-10, 46.754907481821625)\n",
      "(0.084968421052631582, 1.263157894736842e-10, 47.352539153934586)\n",
      "(0.084968421052631582, 1.2894736842105262e-10, 46.229509299142478)\n",
      "(0.084968421052631582, 1.3157894736842104e-10, 47.353735048038743)\n",
      "(0.084968421052631582, 1.3421052631578949e-10, 47.679164808923971)\n",
      "(0.084968421052631582, 1.3684210526315788e-10, 45.606850020116859)\n",
      "(0.084968421052631582, 1.3947368421052632e-10, 46.496001130476451)\n",
      "(0.084968421052631582, 1.4210526315789474e-10, 48.16046118279764)\n",
      "(0.084968421052631582, 1.4473684210526316e-10, 48.168052915537984)\n",
      "(0.084968421052631582, 1.4736842105263158e-10, 46.932937757054944)\n",
      "(0.084968421052631582, 1.5e-10, 48.476371305547715)\n",
      "(0.084978947368421057, 1e-10, 47.694583730950981)\n",
      "(0.084978947368421057, 1.0263157894736842e-10, 45.966015619266955)\n",
      "(0.084978947368421057, 1.0526315789473684e-10, 46.459497531962008)\n",
      "(0.084978947368421057, 1.0789473684210527e-10, 47.181444169359132)\n",
      "(0.084978947368421057, 1.1052631578947369e-10, 46.384409073564498)\n",
      "(0.084978947368421057, 1.1315789473684211e-10, 47.240587468634907)\n",
      "(0.084978947368421057, 1.1578947368421053e-10, 45.560959595959289)\n",
      "(0.084978947368421057, 1.1842105263157895e-10, 47.922319662167837)\n",
      "(0.084978947368421057, 1.2105263157894737e-10, 46.908899893756605)\n",
      "(0.084978947368421057, 1.2368421052631579e-10, 45.301093237899181)\n",
      "(0.084978947368421057, 1.263157894736842e-10, 46.75215747525516)\n",
      "(0.084978947368421057, 1.2894736842105262e-10, 48.391427903464674)\n",
      "(0.084978947368421057, 1.3157894736842104e-10, 47.778792493919255)\n",
      "(0.084978947368421057, 1.3421052631578949e-10, 47.065554410222219)\n",
      "(0.084978947368421057, 1.3684210526315788e-10, 47.439635000050714)\n",
      "(0.084978947368421057, 1.3947368421052632e-10, 46.617882744908869)\n",
      "(0.084978947368421057, 1.4210526315789474e-10, 46.868046572071265)\n",
      "(0.084978947368421057, 1.4473684210526316e-10, 47.895052073320578)\n",
      "(0.084978947368421057, 1.4736842105263158e-10, 45.452740837497522)\n",
      "(0.084978947368421057, 1.5e-10, 47.513107396765804)\n",
      "(0.084989473684210531, 1e-10, 47.189081663758643)\n",
      "(0.084989473684210531, 1.0263157894736842e-10, 45.733397993681436)\n",
      "(0.084989473684210531, 1.0526315789473684e-10, 44.709527570774526)\n",
      "(0.084989473684210531, 1.0789473684210527e-10, 47.776521557940455)\n",
      "(0.084989473684210531, 1.1052631578947369e-10, 45.453858543595416)\n",
      "(0.084989473684210531, 1.1315789473684211e-10, 47.531388595872201)\n",
      "(0.084989473684210531, 1.1578947368421053e-10, 47.39695177589202)\n",
      "(0.084989473684210531, 1.1842105263157895e-10, 45.821316562427896)\n",
      "(0.084989473684210531, 1.2105263157894737e-10, 47.305164610628239)\n",
      "(0.084989473684210531, 1.2368421052631579e-10, 45.954185890921117)\n",
      "(0.084989473684210531, 1.263157894736842e-10, 46.231618223342139)\n",
      "(0.084989473684210531, 1.2894736842105262e-10, 46.913664668433668)\n",
      "(0.084989473684210531, 1.3157894736842104e-10, 46.101901824498803)\n",
      "(0.084989473684210531, 1.3421052631578949e-10, 47.010019655133149)\n",
      "(0.084989473684210531, 1.3684210526315788e-10, 48.462555843793091)\n",
      "(0.084989473684210531, 1.3947368421052632e-10, 48.762678248408399)\n",
      "(0.084989473684210531, 1.4210526315789474e-10, 46.042037084395673)\n",
      "(0.084989473684210531, 1.4473684210526316e-10, 46.180978466899603)\n",
      "(0.084989473684210531, 1.4736842105263158e-10, 46.736854374899735)\n",
      "(0.084989473684210531, 1.5e-10, 46.995078817268421)\n",
      "(0.085000000000000006, 1e-10, 46.453026962985028)\n",
      "(0.085000000000000006, 1.0263157894736842e-10, 47.037882707105801)\n",
      "(0.085000000000000006, 1.0526315789473684e-10, 45.856382435946898)\n",
      "(0.085000000000000006, 1.0789473684210527e-10, 46.867492601729133)\n",
      "(0.085000000000000006, 1.1052631578947369e-10, 47.932389769763688)\n",
      "(0.085000000000000006, 1.1315789473684211e-10, 46.253780516052132)\n",
      "(0.085000000000000006, 1.1578947368421053e-10, 45.67887354208252)\n",
      "(0.085000000000000006, 1.1842105263157895e-10, 46.484960338875638)\n",
      "(0.085000000000000006, 1.2105263157894737e-10, 47.427454474430562)\n",
      "(0.085000000000000006, 1.2368421052631579e-10, 46.492182885217218)\n",
      "(0.085000000000000006, 1.263157894736842e-10, 46.267322567417402)\n",
      "(0.085000000000000006, 1.2894736842105262e-10, 46.532279034155735)\n",
      "(0.085000000000000006, 1.3157894736842104e-10, 47.703990728458962)\n",
      "(0.085000000000000006, 1.3421052631578949e-10, 48.23655773733357)\n",
      "(0.085000000000000006, 1.3684210526315788e-10, 45.770101344986045)\n",
      "(0.085000000000000006, 1.3947368421052632e-10, 47.431739271364741)\n",
      "(0.085000000000000006, 1.4210526315789474e-10, 47.134552436866031)\n",
      "(0.085000000000000006, 1.4473684210526316e-10, 45.067548291909219)\n",
      "(0.085000000000000006, 1.4736842105263158e-10, 47.522381187702806)\n",
      "(0.085000000000000006, 1.5e-10, 47.8320365111055)\n"
     ]
    }
   ],
   "source": [
    "from helper import *\n",
    "from sgd import *\n",
    "\n",
    "k = 5 #number of folds for cross validation\n",
    "\n",
    "if X_data.shape[0] % k != 0:\n",
    "    print(\"Number of samples not divisible by k!\")\n",
    "    sys.exit(0)\n",
    "    \n",
    "print(\"Total samples: \", X_data.shape[0])\n",
    "\n",
    "total_error = 0.0\n",
    "\n",
    "X = np.split(X_data[:,2:], k, axis=0)\n",
    "y = np.split(X_data[:,1], k, axis=0)\n",
    "\n",
    "print(X[0].shape)\n",
    "print(y[0].shape)\n",
    "\n",
    "loss_dict = []\n",
    "#lr_dict = []\n",
    "#mu_dict = []\n",
    "para_dict = []\n",
    "\n",
    "#lr_range = np.logspace(-1.150, -1.100, num=20)\n",
    "lr_range = np.linspace(0.0848, 0.0850, num=20)\n",
    "#mu_range = np.logspace(-10, -8, num=10)\n",
    "mu_range = np.linspace(1.00e-10, 1.50e-10, num=20)\n",
    "\n",
    "#Apply cross validation\n",
    "for lr in lr_range:\n",
    "    for mu in mu_range:\n",
    "        \n",
    "        #Initialize everything\n",
    "        w = np.random.normal(0.0, 1.0, size=(X_train.shape[1])) #must be adaptable to X\n",
    "\n",
    "        \n",
    "        total_error = 0\n",
    "         \n",
    "        for i in range(k):\n",
    "            X_train, y_train, X_cv, y_cv = get_train_cross_dataset(X, y, i)\n",
    "            \n",
    "            #use dictionary as input instead of direct parameters maybe\n",
    "            train_loss_dict, cv_loss_dict, w = run_sgd(\n",
    "                                                        X_train=X_train, \n",
    "                                                        y_train=y_train,\n",
    "                                                        X_cv=X_cv, \n",
    "                                                        y_cv=y_cv,\n",
    "                                                        w=w, \n",
    "                                                        mu=mu, \n",
    "                                                        lr=lr, \n",
    "                                                        fn_loss=rms, \n",
    "                                                        MAX_STEPS=100\n",
    "                                                        )    \n",
    "            ##Measure loss\n",
    "            loss = cv_loss_dict[-1] #last one describes the achieved loss\n",
    "            total_error += loss\n",
    "            \n",
    "            \n",
    "        total_error /= k\n",
    "        \n",
    "        #lr_dict.append(lr)\n",
    "        #mu_dict.append(mu)\n",
    "        print((lr, mu, total_error))\n",
    "        para_dict.append((lr, mu))\n",
    "        loss_dict.append(total_error)  \n",
    "\n",
    "#print(lr_dict)\n",
    "#print(mu_dict)\n",
    "#print(loss_dict)\n",
    "    "
   ]
  },
  {
   "cell_type": "code",
   "execution_count": 18,
   "metadata": {
    "collapsed": false
   },
   "outputs": [
    {
     "data": {
      "image/png": "[encoded data removed]",
      "text/plain": [
       "<matplotlib.figure.Figure at 0x115e86b50>"
      ]
     },
     "metadata": {},
     "output_type": "display_data"
    }
   ],
   "source": [
    "plt.subplot(3, 1, 1)\n",
    "plt.title('Absolute training loss')\n",
    "plt.xlabel('Combinations')\n",
    "plt.plot(loss_dict, 'o')\n",
    "#plt.plot(lam_dict, 'o', label='baseline')\n",
    "#plt.plot(loss_dict, 'o', label='batchnorm')\n",
    "plt.show()"
   ]
  },
  {
   "cell_type": "code",
   "execution_count": 19,
   "metadata": {
    "collapsed": false
   },
   "outputs": [
    {
     "name": "stdout",
     "output_type": "stream",
     "text": [
      "('Minimal loss', 44.709527570774526)\n",
      "('Minimizing lr and mu: ', (0.084989473684210531, 1.0526315789473684e-10))\n",
      "Loss: 48.7973427667, lr and mu: (0.084852631578947374, 1.4210526315789474e-10)\n",
      "Loss: 48.8324151628, lr and mu: (0.084957894736842107, 1.1052631578947369e-10)\n",
      "Loss: 48.9121895889, lr and mu: (0.084926315789473683, 1.3157894736842104e-10)\n",
      "Loss: 48.9724365392, lr and mu: (0.08482105263157895, 1.3157894736842104e-10)\n",
      "Loss: 49.2109379277, lr and mu: (0.084852631578947374, 1.0526315789473684e-10)\n",
      "Loss: 49.4115533521, lr and mu: (0.084894736842105273, 1e-10)\n",
      "Loss: 49.5962616099, lr and mu: (0.084905263157894734, 1.2105263157894737e-10)\n",
      "Loss: 49.6116938009, lr and mu: (0.084957894736842107, 1.3947368421052632e-10)\n",
      "Loss: 49.7028766859, lr and mu: (0.084852631578947374, 1.1578947368421053e-10)\n",
      "Loss: 49.7489799979, lr and mu: (0.084852631578947374, 1.5e-10)\n"
     ]
    }
   ],
   "source": [
    "print(\"Minimal loss\", min(loss_dict))\n",
    "index = np.argmin(loss_dict)\n",
    "indecies = np.argsort(loss_dict)[-10:]\n",
    "print(\"Minimizing lr and mu: \", para_dict[index])\n",
    "for i in range(10):\n",
    "    print(\"Loss: \" + str(loss_dict[indecies[i]]) + \", lr and mu: \" + str(para_dict[indecies[i]]))"
   ]
  },
  {
   "cell_type": "markdown",
   "metadata": {},
   "source": [
    "#### Training Error vs CV Error"
   ]
  },
  {
   "cell_type": "code",
   "execution_count": 20,
   "metadata": {
    "collapsed": true
   },
   "outputs": [],
   "source": [
    "STEPS = 10000\n",
    "lr = 0.084926315789473683\n",
    "mu = 1.3157894736842104e-10\n",
    "\n",
    "w = np.random.normal(0.0, 1.0, size=(X_train.shape[1])) #must be adaptable to X\n",
    "\n",
    "train_loss_dict, cv_loss_dict, w = run_sgd(\n",
    "                                            X_train=X_train, \n",
    "                                            y_train=y_train,\n",
    "                                            X_cv=X_cv, \n",
    "                                            y_cv=y_cv,\n",
    "                                            w=w, \n",
    "                                            mu=mu, \n",
    "                                            lr=lr, \n",
    "                                            fn_loss=rms, \n",
    "                                            MAX_STEPS=10000\n",
    "                                        )"
   ]
  },
  {
   "cell_type": "code",
   "execution_count": 21,
   "metadata": {
    "collapsed": false
   },
   "outputs": [
    {
     "data": {
      "image/png": "[encoded data removed]",
      "text/plain": [
       "<matplotlib.figure.Figure at 0x115f37050>"
      ]
     },
     "metadata": {},
     "output_type": "display_data"
    }
   ],
   "source": [
    "#Show plot CV error vs training error\n",
    "plt.subplot(3, 1, 1)\n",
    "plt.title('Absolute training loss')\n",
    "plt.xlabel('Combinations')\n",
    "plt.plot(np.arange(STEPS), train_loss_dict, 'o', np.arange(STEPS), cv_loss_dict, 'r--')\n",
    "\n",
    "plt.show()"
   ]
  },
  {
   "cell_type": "markdown",
   "metadata": {},
   "source": [
    "### Gradient Descent with polynomial Kernel of degree d = 2"
   ]
  },
  {
   "cell_type": "code",
   "execution_count": null,
   "metadata": {
    "collapsed": true
   },
   "outputs": [],
   "source": []
  },
  {
   "cell_type": "markdown",
   "metadata": {
    "collapsed": true
   },
   "source": [
    "## Bring the function into the submission format: Post-Processing\n",
    "We have trained the weights using the training data (X_train). Remember that the sample submission data looks like the following. That means we need to predict for the test data."
   ]
  },
  {
   "cell_type": "code",
   "execution_count": 9,
   "metadata": {
    "collapsed": false
   },
   "outputs": [],
   "source": [
    "if False:\n",
    "    print(\"Sample\")\n",
    "    print(data_sample.head(cases))\n",
    "    print(data_sample.tail(cases))\n",
    "    print(\"Test\")\n",
    "    print(data_test.head(cases))\n",
    "    print(data_test.tail(cases))\n",
    "    print(X_finaltest.shape)\n",
    "    print(weights.shape)\n",
    "    print(y_pred_test.shape)\n",
    "    print(y_pred_test)"
   ]
  },
  {
   "cell_type": "markdown",
   "metadata": {},
   "source": [
    "First of all, calculate the predictions. Don't forget to stack a bias column. The submission format includes the ID's taken from the X-training data. Each invidual record has a predicted 'y' record aswell."
   ]
  },
  {
   "cell_type": "code",
   "execution_count": 10,
   "metadata": {
    "collapsed": false
   },
   "outputs": [
    {
     "ename": "ValueError",
     "evalue": "shapes (2000,11) and (10,) not aligned: 11 (dim 1) != 10 (dim 0)",
     "output_type": "error",
     "traceback": [
      "\u001b[0;31m---------------------------------------------------------------------------\u001b[0m",
      "\u001b[0;31mValueError\u001b[0m                                Traceback (most recent call last)",
      "\u001b[0;32m<ipython-input-10-a1d313d33a7b>\u001b[0m in \u001b[0;36m<module>\u001b[0;34m()\u001b[0m\n\u001b[0;32m----> 1\u001b[0;31m \u001b[0my_pred_test\u001b[0m \u001b[0;34m=\u001b[0m \u001b[0mnp\u001b[0m\u001b[0;34m.\u001b[0m\u001b[0mdot\u001b[0m\u001b[0;34m(\u001b[0m\u001b[0mnp\u001b[0m\u001b[0;34m.\u001b[0m\u001b[0mcolumn_stack\u001b[0m\u001b[0;34m(\u001b[0m\u001b[0;34m(\u001b[0m\u001b[0mX_finaltest\u001b[0m\u001b[0;34m,\u001b[0m \u001b[0mnp\u001b[0m\u001b[0;34m.\u001b[0m\u001b[0mones\u001b[0m\u001b[0;34m(\u001b[0m\u001b[0mX_finaltest\u001b[0m\u001b[0;34m.\u001b[0m\u001b[0mshape\u001b[0m\u001b[0;34m[\u001b[0m\u001b[0;36m0\u001b[0m\u001b[0;34m]\u001b[0m\u001b[0;34m)\u001b[0m\u001b[0;34m)\u001b[0m\u001b[0;34m)\u001b[0m\u001b[0;34m,\u001b[0m \u001b[0mweights\u001b[0m\u001b[0;34m)\u001b[0m\u001b[0;34m\u001b[0m\u001b[0m\n\u001b[0m\u001b[1;32m      2\u001b[0m \u001b[0msub_data\u001b[0m \u001b[0;34m=\u001b[0m \u001b[0mnp\u001b[0m\u001b[0;34m.\u001b[0m\u001b[0mcolumn_stack\u001b[0m\u001b[0;34m(\u001b[0m\u001b[0;34m(\u001b[0m\u001b[0mdata_test\u001b[0m\u001b[0;34m.\u001b[0m\u001b[0mvalues\u001b[0m\u001b[0;34m[\u001b[0m\u001b[0;34m:\u001b[0m\u001b[0;34m,\u001b[0m\u001b[0;36m0\u001b[0m\u001b[0;34m]\u001b[0m\u001b[0;34m,\u001b[0m \u001b[0my_pred_test\u001b[0m\u001b[0;34m)\u001b[0m\u001b[0;34m)\u001b[0m\u001b[0;34m\u001b[0m\u001b[0m\n\u001b[1;32m      3\u001b[0m \u001b[0;32mprint\u001b[0m\u001b[0;34m(\u001b[0m\u001b[0msub_data\u001b[0m\u001b[0;34m.\u001b[0m\u001b[0mshape\u001b[0m\u001b[0;34m)\u001b[0m\u001b[0;34m\u001b[0m\u001b[0m\n\u001b[1;32m      4\u001b[0m \u001b[0;32mprint\u001b[0m\u001b[0;34m(\u001b[0m\u001b[0msub_data\u001b[0m\u001b[0;34m)\u001b[0m\u001b[0;34m\u001b[0m\u001b[0m\n",
      "\u001b[0;31mValueError\u001b[0m: shapes (2000,11) and (10,) not aligned: 11 (dim 1) != 10 (dim 0)"
     ]
    }
   ],
   "source": [
    "y_pred_test = np.dot(np.column_stack((X_finaltest, np.ones(X_finaltest.shape[0]))), weights)\n",
    "sub_data = np.column_stack((data_test.values[:,0], y_pred_test))\n",
    "print(sub_data.shape)\n",
    "print(sub_data)"
   ]
  },
  {
   "cell_type": "markdown",
   "metadata": {},
   "source": [
    "This look alright... Let's wrap it in a pandas-dataframe (that's what the datastructures including the headers with 'ID' and 'y' are called)"
   ]
  },
  {
   "cell_type": "code",
   "execution_count": 78,
   "metadata": {
    "collapsed": false,
    "scrolled": true
   },
   "outputs": [
    {
     "name": "stdout",
     "output_type": "stream",
     "text": [
      "         Id                         y\n",
      "0     10000  -66.00242349023130827845\n",
      "1     10001  451.40650440115518904349\n",
      "2     10002 -461.67641706029962733737\n",
      "3     10003   40.50120875372320483621\n",
      "4     10004 -126.74472245403632086891\n",
      "5     10005 -342.53455181925158967715\n",
      "6     10006 -396.55554211359054761488\n",
      "7     10007  335.54127907908764427702\n",
      "8     10008  -99.51242087062264829456\n",
      "9     10009  304.81253980627650435054\n",
      "10    10010   68.89453048978556637394\n",
      "11    10011  412.36919545590848201755\n",
      "12    10012   54.94237102476856193789\n",
      "13    10013  -17.00555075478039768200\n",
      "14    10014 -597.84995757226056412037\n",
      "15    10015  443.50228878641490837254\n",
      "16    10016  144.77448697804288713087\n",
      "17    10017  -57.41116367253620467181\n",
      "18    10018  134.38782757746042761937\n",
      "19    10019 -108.98377598910846586477\n",
      "20    10020  153.82482842506630049684\n",
      "21    10021  611.73598360220182712510\n",
      "22    10022  588.38965033842225693661\n",
      "23    10023 -131.01679995802052758336\n",
      "24    10024  -61.13562114123003965460\n",
      "25    10025 -374.24849531697236670880\n",
      "26    10026   74.15799307965411912846\n",
      "27    10027  137.43837873610536348679\n",
      "28    10028  420.08661179679069164195\n",
      "29    10029  196.76562571344160801345\n",
      "...     ...                       ...\n",
      "1970  11970 -228.37612245128613608358\n",
      "1971  11971  198.06160680946024399418\n",
      "1972  11972 -713.00647693430278195592\n",
      "1973  11973  -89.68186474183370648916\n",
      "1974  11974 -480.00457016777994567747\n",
      "1975  11975 -271.73339592270008324704\n",
      "1976  11976  565.32363993667070189986\n",
      "1977  11977   96.11148263232833244274\n",
      "1978  11978  178.61335856961233048423\n",
      "1979  11979  -61.17433245470591174353\n",
      "1980  11980 -368.69168724005919557385\n",
      "1981  11981    4.84774657817800846971\n",
      "1982  11982  414.41382134440124218600\n",
      "1983  11983 -760.31831679305116722389\n",
      "1984  11984   84.91271532686188550088\n",
      "1985  11985 -251.84732552029109342584\n",
      "1986  11986  280.70758458951968350448\n",
      "1987  11987 -391.25027825107639500857\n",
      "1988  11988  608.49911717037446123868\n",
      "1989  11989  -27.80846060721255952330\n",
      "1990  11990 -123.41411926925461273186\n",
      "1991  11991 -130.82924419408300309442\n",
      "1992  11992   18.55306889260260305718\n",
      "1993  11993 -433.16537587721256841178\n",
      "1994  11994 -303.70912611646485856909\n",
      "1995  11995  464.71525498507958218397\n",
      "1996  11996  496.48533446727839191226\n",
      "1997  11997  -35.13540941579512377757\n",
      "1998  11998 -131.67918453438889514473\n",
      "1999  11999  417.26915462133581513626\n",
      "\n",
      "[2000 rows x 2 columns]\n"
     ]
    }
   ],
   "source": [
    "pd.set_option('max_info_rows', 11)\n",
    "pd.set_option('precision',20)\n",
    "submission = pd.DataFrame(sub_data, columns = [\"Id\", \"y\"])\n",
    "submission.Id = submission.Id.astype(int)\n",
    "print(submission)"
   ]
  },
  {
   "cell_type": "markdown",
   "metadata": {},
   "source": [
    "*** I'M NOT SURE IF IT HAS TO BE 1-point PRECISION (last record to be 417.3, instead of 417.269155). ***"
   ]
  },
  {
   "cell_type": "markdown",
   "metadata": {},
   "source": [
    "Not let's export the submission file as a csv"
   ]
  },
  {
   "cell_type": "code",
   "execution_count": 14,
   "metadata": {
    "collapsed": false
   },
   "outputs": [],
   "source": [
    "csv_file = submission.to_csv('final_submission.csv')"
   ]
  },
  {
   "cell_type": "code",
   "execution_count": null,
   "metadata": {
    "collapsed": true
   },
   "outputs": [],
   "source": []
  }
 ],
 "metadata": {
  "anaconda-cloud": {},
  "kernelspec": {
   "display_name": "Python [py27]",
   "language": "python",
   "name": "Python [py27]"
  },
  "language_info": {
   "codemirror_mode": {
    "name": "ipython",
    "version": 2
   },
   "file_extension": ".py",
   "mimetype": "text/x-python",
   "name": "python",
   "nbconvert_exporter": "python",
   "pygments_lexer": "ipython2",
   "version": "2.7.12"
  }
 },
 "nbformat": 4,
 "nbformat_minor": 0
}
