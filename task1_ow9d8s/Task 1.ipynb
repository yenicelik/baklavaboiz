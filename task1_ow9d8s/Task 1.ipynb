{
 "cells": [
  {
   "cell_type": "code",
   "execution_count": 1,
   "metadata": {
    "collapsed": false
   },
   "outputs": [
    {
     "name": "stderr",
     "output_type": "stream",
     "text": [
      "/home/yenicelik/anaconda2/lib/python2.7/site-packages/matplotlib/font_manager.py:273: UserWarning: Matplotlib is building the font cache using fc-list. This may take a moment.\n",
      "  warnings.warn('Matplotlib is building the font cache using fc-list. This may take a moment.')\n"
     ]
    }
   ],
   "source": [
    "import sys\n",
    "try:\n",
    "    import numpy as np\n",
    "    import pandas as pd\n",
    "    import matplotlib.pyplot as plt\n",
    "except:\n",
    "    import pip\n",
    "    pip.main(['install', \"--upgrade\", \"pip\"])\n",
    "    pip.main(['install', \"numpy\"])\n",
    "    pip.main(['install', \"matplotlib\"])\n",
    "    pip.main(['install', \"ipython\"])\n",
    "    pip.main(['install', \"jupyter\"])\n",
    "    pip.main(['install', \"pandas\"])\n",
    "    import numpy as np\n",
    "    import pandas as pd\n",
    "    \n",
    "%matplotlib inline\n",
    "plt.rcParams['figure.figsize'] = (10.0, 8.0) # set default size of plots\n",
    "plt.rcParams['image.interpolation'] = 'nearest'\n",
    "plt.rcParams['image.cmap'] = 'gray'\n",
    "%load_ext autoreload\n",
    "%autoreload 2"
   ]
  },
  {
   "cell_type": "markdown",
   "metadata": {},
   "source": [
    "## Importing the data\n",
    "We use the pandas library for this. The data is split into 3 files:\n",
    "- sample.csv :: Some stuff we can look at to know how the bigger and slower-to-load datafiles look like\n",
    "- test.csv :: Validation data, which we use to 'grade' our model by\n",
    "- train.csv :: Data we use to train our model with (to find the 'optimal' parameters)"
   ]
  },
  {
   "cell_type": "code",
   "execution_count": 2,
   "metadata": {
    "collapsed": false
   },
   "outputs": [
    {
     "name": "stdout",
     "output_type": "stream",
     "text": [
      "Sample\n",
      "    Id         y\n",
      "0  900  6.055126\n",
      "Test\n",
      "    Id        x1        x2       x3       x4        x5        x6        x7  \\\n",
      "0  900  0.658913  1.489215  1.65309  2.68705  0.613798  1.599903  1.345002   \n",
      "\n",
      "         x8       x9       x10       x11       x12       x13       x14  \\\n",
      "0  1.617774 -0.48859  2.893903  3.800831 -0.018902  0.857224  0.881235   \n",
      "\n",
      "       x15  \n",
      "0  0.57476  \n",
      "Train\n",
      "   Id           y        x1        x2        x3        x4       x5        x6  \\\n",
      "0   0  116.376061  1.276266 -0.854628  1.623901  2.145311  2.03719  2.886639   \n",
      "\n",
      "         x7        x8        x9       x10       x11      x12       x13  \\\n",
      "0  0.888302  0.637899  1.148675  0.562217  3.171257  2.15231 -0.818812   \n",
      "\n",
      "        x14      x15  \n",
      "0  0.861951  1.53984  \n"
     ]
    }
   ],
   "source": [
    "data_sample = pd.read_csv('sample.csv')\n",
    "data_test = pd.read_csv('test.csv')\n",
    "data_train = pd.read_csv('train.csv')\n",
    "\n",
    "cases = 1\n",
    "if True:\n",
    "    print(\"Sample\")\n",
    "    print(data_sample.head(cases))\n",
    "    print(\"Test\")\n",
    "    print(data_test.head(cases))\n",
    "    print(\"Train\")\n",
    "    print(data_train.head(cases))"
   ]
  },
  {
   "cell_type": "markdown",
   "metadata": {},
   "source": [
    "The data contains 'headers' (Thing like 'Id', 'y', 'x1', 'x2', etc.). For pure data processing we need to get rid of this (because these are not numebrs), and just retrieve the numerical values within the matrices. CV stands for cross-validation. Printing the shapes is just to make sure the import was successful."
   ]
  },
  {
   "cell_type": "code",
   "execution_count": 3,
   "metadata": {
    "collapsed": false
   },
   "outputs": [
    {
     "name": "stdout",
     "output_type": "stream",
     "text": [
      "X_train\n",
      "(900, 17)\n",
      "y_sample\n",
      "(2000, 2)\n",
      "X_finaltest\n",
      "(2000, 15)\n",
      "And has types\n",
      "<type 'numpy.float64'>\n"
     ]
    }
   ],
   "source": [
    "X_data = data_train.values\n",
    "y_sample = data_sample.values\n",
    "X_test = data_test.values[:,1:]\n",
    "\n",
    "if True:\n",
    "    print(\"X_train\")\n",
    "    print(X_data.shape)\n",
    "    print(\"y_sample\")\n",
    "    print(y_sample.shape)\n",
    "    print(\"X_finaltest\")\n",
    "    print(X_test.shape)\n",
    "\n",
    "    print(\"And has types\")\n",
    "    print(type(X_test[0,0]))"
   ]
  },
  {
   "cell_type": "markdown",
   "metadata": {},
   "source": [
    "## Function Definitions and Applications\n",
    "Here we define the functions we will use to predict the weights (normalEq, or maybe even stochastic gradient descent), and also the given error function (rms). Trying out different algorithms and testing them through cross-validation. Look at the external files for the algorithms."
   ]
  },
  {
   "cell_type": "markdown",
   "metadata": {},
   "source": [
    "### Normal Equations \n",
    "#### with regulaizer parameters = lam\n",
    "We test a total of 10000 different values for lambda in between 1e-20 and 1e10"
   ]
  },
  {
   "cell_type": "code",
   "execution_count": 29,
   "metadata": {
    "collapsed": false,
    "scrolled": true
   },
   "outputs": [
    {
     "name": "stdout",
     "output_type": "stream",
     "text": [
      "('Total samples: ', 900)\n",
      "(180, 15)\n",
      "(180,)\n"
     ]
    }
   ],
   "source": [
    "from helper import *\n",
    "from normalEq import *\n",
    "\n",
    "k = 5 #number of folds for cross validation\n",
    "\n",
    "if X_data.shape[0] % k != 0:\n",
    "    print(\"Number of samples not divisible by k!\")\n",
    "    sys.exit(0)\n",
    "    \n",
    "print(\"Total samples: \", X_data.shape[0])\n",
    "\n",
    "total_error = 0.0\n",
    "\n",
    "X = np.split(X_data[:,2:], k, axis=0)\n",
    "y = np.split(X_data[:,1], k, axis=0)\n",
    "\n",
    "print(X[0].shape)\n",
    "print(y[0].shape)\n",
    "\n",
    "loss_dict = []\n",
    "lam_dict = []\n",
    "\n",
    "lam_range = np.logspace(-14, 10, num=10000)#[1e-8, 1e-3, 1e2]\n",
    "\n",
    "#Apply cross validation\n",
    "for lam in lam_range:\n",
    "    loss = 0\n",
    "    for i in range(k):\n",
    "        X_train, y_train, X_cv, y_cv = get_train_cross_dataset(X, y, i)\n",
    "\n",
    "        #apply to training function, then measure the error\n",
    "        weights = reg_normal_eq(X_train, y_train, lam)\n",
    "        \n",
    "        ##Measure loss\n",
    "        predictions = np.dot(X_cv, weights)\n",
    "        loss = rms(predictions, y_cv)    \n",
    "    \n",
    "    total_error += loss    \n",
    "    total_error /= k\n",
    "    \n",
    "    lam_dict.append(lam)\n",
    "    loss_dict.append(total_error)    \n",
    "    "
   ]
  },
  {
   "cell_type": "code",
   "execution_count": 30,
   "metadata": {
    "collapsed": false
   },
   "outputs": [
    {
     "data": {
      "image/png": "[encoded data removed]",
      "text/plain": [
       "<matplotlib.figure.Figure at 0x7fdcdd2f05d0>"
      ]
     },
     "metadata": {},
     "output_type": "display_data"
    }
   ],
   "source": [
    "plt.subplot(3, 1, 1)\n",
    "plt.title('Absolute training loss')\n",
    "plt.xlabel('Lambda')\n",
    "plt.semilogx(lam_dict, loss_dict, 'o')\n",
    "#plt.plot(lam_dict, 'o', label='baseline')\n",
    "#plt.plot(loss_dict, 'o', label='batchnorm')\n",
    "plt.show()"
   ]
  },
  {
   "cell_type": "code",
   "execution_count": 31,
   "metadata": {
    "collapsed": false
   },
   "outputs": [
    {
     "name": "stdout",
     "output_type": "stream",
     "text": [
      "('The minimal error is given when lambda equals: ', 1e-14)\n"
     ]
    }
   ],
   "source": [
    "print(\"The minimal error is given when lambda equals: \", lam_dict[np.argmin(loss_dict)])"
   ]
  },
  {
   "cell_type": "markdown",
   "metadata": {},
   "source": [
    "### Gradient Descent without Kernel"
   ]
  },
  {
   "cell_type": "markdown",
   "metadata": {},
   "source": [
    "First of all, let's check if gradient descent actually works"
   ]
  },
  {
   "cell_type": "code",
   "execution_count": 32,
   "metadata": {
    "collapsed": false
   },
   "outputs": [
    {
     "name": "stdout",
     "output_type": "stream",
     "text": [
      "[62.299131404154025, 58.222312597201928, 54.888359150466066, 52.19840819729788, 49.968796807577874, 48.146690683716486, 46.629215534494108, 45.379931797525593, 44.336972392747576, 43.473272367162622, 42.750248575619381, 42.147964992719501, 41.64190847798816, 41.217738432416112, 40.859686323692479, 40.557630789639056, 40.301310950834271, 40.083662351788242, 39.897925814916277, 39.739192050000469]\n",
      "[65.838348466492107, 59.731682624108849, 58.28513504276642, 54.821019155074126, 53.542839601501946, 51.494998052763087, 50.501993661094204, 49.254144809473999, 48.534693284909238, 47.757944500041248, 47.257284320100936, 46.766697577299858, 46.426696041132558, 46.113934829632299, 45.88667834321366, 45.686284261740091, 45.536177548399813, 45.407662843370119, 45.309588681821801, 45.227457175561639]\n"
     ]
    }
   ],
   "source": [
    "from helper import *\n",
    "from sgd import *\n",
    "\n",
    "lr = 0.1\n",
    "mu = 0.1\n",
    "\n",
    "w = np.random.normal(0.0, 1.0, size=(X_train.shape[1])) #must be adaptable to X\n",
    "\n",
    "train_loss_list, cv_loss_list, w = run_sgd(X[0], y[0], X[1], y[1], w, mu, lr, rms, MAX_STEPS=20)\n",
    "\n",
    "print(train_loss_list)\n",
    "print(cv_loss_list)\n"
   ]
  },
  {
   "cell_type": "markdown",
   "metadata": {},
   "source": [
    "Seems fine, as all loss values decrese"
   ]
  },
  {
   "cell_type": "code",
   "execution_count": 95,
   "metadata": {
    "collapsed": false,
    "scrolled": true
   },
   "outputs": [
    {
     "name": "stdout",
     "output_type": "stream",
     "text": [
      "('Total samples: ', 900)\n",
      "(180, 15)\n",
      "(180,)\n",
      "(0.01, 1e-14, 44.242569978348556)\n",
      "(0.01, 5.4555947811685145e-14, 44.262890042477935)\n",
      "(0.01, 2.9763514416313133e-13, 44.222899117896972)\n",
      "(0.01, 1.6237767391887176e-12, 44.260672175630404)\n",
      "(0.01, 8.8586679041008326e-12, 44.197731010362318)\n",
      "(0.01, 4.8329302385717519e-11, 44.258689084586912)\n",
      "(0.01, 2.6366508987303556e-10, 44.280322941443956)\n",
      "(0.01, 1.4384498882876659e-09, 44.140804367728187)\n",
      "(0.01, 7.8475997035146226e-09, 44.322637262142017)\n",
      "(0.01, 4.2813323987193873e-08, 44.224323103798739)\n",
      "(0.01, 2.3357214690901212e-07, 44.227047099450679)\n",
      "(0.01, 1.2742749857031322e-06, 44.253501517378098)\n",
      "(0.01, 6.9519279617755912e-06, 44.149764083244747)\n",
      "(0.01, 3.7926901907322381e-05, 44.265344425593966)\n",
      "(0.01, 0.00020691380811147902, 44.271534552391032)\n",
      "(0.01, 0.0011288378916846883, 44.304383419827793)\n",
      "(0.01, 0.0061584821106602542, 44.280066956822651)\n",
      "(0.01, 0.033598182862837743, 44.355282016181903)\n",
      "(0.01, 0.183298071083243, 44.884863781794444)\n",
      "(0.01, 1.0, 49.394833566344936)\n",
      "(0.012742749857031334, 1e-14, 43.823149984529941)\n",
      "(0.012742749857031334, 5.4555947811685145e-14, 43.785608335797612)\n",
      "(0.012742749857031334, 2.9763514416313133e-13, 43.857705588022476)\n",
      "(0.012742749857031334, 1.6237767391887176e-12, 43.827068339816698)\n",
      "(0.012742749857031334, 8.8586679041008326e-12, 43.886170792759124)\n",
      "(0.012742749857031334, 4.8329302385717519e-11, 43.832283353257552)\n",
      "(0.012742749857031334, 2.6366508987303556e-10, 43.819343538411097)\n",
      "(0.012742749857031334, 1.4384498882876659e-09, 43.891776533727025)\n",
      "(0.012742749857031334, 7.8475997035146226e-09, 43.862616267100442)\n",
      "(0.012742749857031334, 4.2813323987193873e-08, 43.766246161768848)\n",
      "(0.012742749857031334, 2.3357214690901212e-07, 43.793171862514058)\n",
      "(0.012742749857031334, 1.2742749857031322e-06, 43.831661898688154)\n",
      "(0.012742749857031334, 6.9519279617755912e-06, 43.753670243760965)\n",
      "(0.012742749857031334, 3.7926901907322381e-05, 43.861973202124815)\n",
      "(0.012742749857031334, 0.00020691380811147902, 43.825503637066838)\n",
      "(0.012742749857031334, 0.0011288378916846883, 43.80362035336946)\n",
      "(0.012742749857031334, 0.0061584821106602542, 43.833671596054941)\n",
      "(0.012742749857031334, 0.033598182862837743, 43.895225606572566)\n",
      "(0.012742749857031334, 0.183298071083243, 44.472653039491526)\n",
      "(0.012742749857031334, 1.0, 49.175199613454929)\n",
      "(0.016237767391887217, 1e-14, 43.522388465680244)\n",
      "(0.016237767391887217, 5.4555947811685145e-14, 43.573816457199847)\n",
      "(0.016237767391887217, 2.9763514416313133e-13, 43.519345237875498)\n",
      "(0.016237767391887217, 1.6237767391887176e-12, 43.557667570184591)\n",
      "(0.016237767391887217, 8.8586679041008326e-12, 43.545248045589183)\n",
      "(0.016237767391887217, 4.8329302385717519e-11, 43.574926896741751)\n",
      "(0.016237767391887217, 2.6366508987303556e-10, 43.602184424751457)\n",
      "(0.016237767391887217, 1.4384498882876659e-09, 43.541127911259593)\n",
      "(0.016237767391887217, 7.8475997035146226e-09, 43.536732240989977)\n",
      "(0.016237767391887217, 4.2813323987193873e-08, 43.53652648030485)\n",
      "(0.016237767391887217, 2.3357214690901212e-07, 43.51989352945634)\n",
      "(0.016237767391887217, 1.2742749857031322e-06, 43.541212182532604)\n",
      "(0.016237767391887217, 6.9519279617755912e-06, 43.544441956874458)\n",
      "(0.016237767391887217, 3.7926901907322381e-05, 43.565579271564367)\n",
      "(0.016237767391887217, 0.00020691380811147902, 43.537335123404908)\n",
      "(0.016237767391887217, 0.0011288378916846883, 43.536354835397013)\n",
      "(0.016237767391887217, 0.0061584821106602542, 43.569686342105832)\n",
      "(0.016237767391887217, 0.033598182862837743, 43.607077752959455)\n",
      "(0.016237767391887217, 0.183298071083243, 44.122788252610633)\n",
      "(0.016237767391887217, 1.0, 49.07383532090067)\n",
      "(0.020691380811147901, 1e-14, 43.365276516335868)\n",
      "(0.020691380811147901, 5.4555947811685145e-14, 43.383432149260628)\n",
      "(0.020691380811147901, 2.9763514416313133e-13, 43.365892629111272)\n",
      "(0.020691380811147901, 1.6237767391887176e-12, 43.378538445976062)\n",
      "(0.020691380811147901, 8.8586679041008326e-12, 43.363600778457247)\n",
      "(0.020691380811147901, 4.8329302385717519e-11, 43.375871230146906)\n",
      "(0.020691380811147901, 2.6366508987303556e-10, 43.379469935936868)\n",
      "(0.020691380811147901, 1.4384498882876659e-09, 43.391579367016405)\n",
      "(0.020691380811147901, 7.8475997035146226e-09, 43.37231691131597)\n",
      "(0.020691380811147901, 4.2813323987193873e-08, 43.3765253892064)\n",
      "(0.020691380811147901, 2.3357214690901212e-07, 43.378109008913718)\n",
      "(0.020691380811147901, 1.2742749857031322e-06, 43.368133777380947)\n",
      "(0.020691380811147901, 6.9519279617755912e-06, 43.366440468866202)\n",
      "(0.020691380811147901, 3.7926901907322381e-05, 43.361459456683505)\n",
      "(0.020691380811147901, 0.00020691380811147902, 43.3753620148983)\n",
      "(0.020691380811147901, 0.0011288378916846883, 43.367710281156874)\n",
      "(0.020691380811147901, 0.0061584821106602542, 43.365111389110496)\n",
      "(0.020691380811147901, 0.033598182862837743, 43.406074143757287)\n",
      "(0.020691380811147901, 0.183298071083243, 43.952603605965514)\n",
      "(0.020691380811147901, 1.0, 49.023751034909665)\n",
      "(0.026366508987303583, 1e-14, 43.281005678005911)\n",
      "(0.026366508987303583, 5.4555947811685145e-14, 43.276778181246748)\n",
      "(0.026366508987303583, 2.9763514416313133e-13, 43.274315745615972)\n",
      "(0.026366508987303583, 1.6237767391887176e-12, 43.256793169923597)\n",
      "(0.026366508987303583, 8.8586679041008326e-12, 43.26618349647309)\n",
      "(0.026366508987303583, 4.8329302385717519e-11, 43.268885058725488)\n",
      "(0.026366508987303583, 2.6366508987303556e-10, 43.268974894248871)\n",
      "(0.026366508987303583, 1.4384498882876659e-09, 43.275486925211524)\n",
      "(0.026366508987303583, 7.8475997035146226e-09, 43.274327163577297)\n",
      "(0.026366508987303583, 4.2813323987193873e-08, 43.270093682820495)\n",
      "(0.026366508987303583, 2.3357214690901212e-07, 43.261592933104666)\n",
      "(0.026366508987303583, 1.2742749857031322e-06, 43.273464448214135)\n",
      "(0.026366508987303583, 6.9519279617755912e-06, 43.278798284382347)\n",
      "(0.026366508987303583, 3.7926901907322381e-05, 43.272821770574225)\n",
      "(0.026366508987303583, 0.00020691380811147902, 43.262107180383623)\n",
      "(0.026366508987303583, 0.0011288378916846883, 43.271259504278476)\n",
      "(0.026366508987303583, 0.0061584821106602542, 43.284953137419095)\n",
      "(0.026366508987303583, 0.033598182862837743, 43.294875987769451)\n",
      "(0.026366508987303583, 0.183298071083243, 43.834289544223012)\n",
      "(0.026366508987303583, 1.0, 48.997818322629563)\n",
      "(0.033598182862837812, 1e-14, 43.228190782304019)\n",
      "(0.033598182862837812, 5.4555947811685145e-14, 43.22537981259434)\n",
      "(0.033598182862837812, 2.9763514416313133e-13, 43.224806593910863)\n",
      "(0.033598182862837812, 1.6237767391887176e-12, 43.224080915438265)\n",
      "(0.033598182862837812, 8.8586679041008326e-12, 43.226505656505211)\n",
      "(0.033598182862837812, 4.8329302385717519e-11, 43.224274802609692)\n",
      "(0.033598182862837812, 2.6366508987303556e-10, 43.226590707976769)\n",
      "(0.033598182862837812, 1.4384498882876659e-09, 43.222531409024462)\n",
      "(0.033598182862837812, 7.8475997035146226e-09, 43.226944775079588)\n",
      "(0.033598182862837812, 4.2813323987193873e-08, 43.227827249301292)\n",
      "(0.033598182862837812, 2.3357214690901212e-07, 43.228479105950314)\n",
      "(0.033598182862837812, 1.2742749857031322e-06, 43.225728280426452)\n",
      "(0.033598182862837812, 6.9519279617755912e-06, 43.226352593802083)\n",
      "(0.033598182862837812, 3.7926901907322381e-05, 43.22478156477834)\n",
      "(0.033598182862837812, 0.00020691380811147902, 43.226167301686871)\n",
      "(0.033598182862837812, 0.0011288378916846883, 43.21869454995705)\n",
      "(0.033598182862837812, 0.0061584821106602542, 43.226405438457185)\n",
      "(0.033598182862837812, 0.033598182862837743, 43.244489763235194)\n",
      "(0.033598182862837812, 0.183298071083243, 43.783943870410397)\n",
      "(0.033598182862837812, 1.0, 48.989158418266484)\n",
      "(0.042813323987193938, 1e-14, 43.205742886176225)\n",
      "(0.042813323987193938, 5.4555947811685145e-14, 43.208054036210349)\n",
      "(0.042813323987193938, 2.9763514416313133e-13, 43.206230264872111)\n",
      "(0.042813323987193938, 1.6237767391887176e-12, 43.207142050632811)\n",
      "(0.042813323987193938, 8.8586679041008326e-12, 43.205538435726638)\n",
      "(0.042813323987193938, 4.8329302385717519e-11, 43.20837650633888)\n",
      "(0.042813323987193938, 2.6366508987303556e-10, 43.207256342965437)\n",
      "(0.042813323987193938, 1.4384498882876659e-09, 43.207453196071341)\n",
      "(0.042813323987193938, 7.8475997035146226e-09, 43.206636662779331)\n",
      "(0.042813323987193938, 4.2813323987193873e-08, 43.206056329476347)\n",
      "(0.042813323987193938, 2.3357214690901212e-07, 43.207827890421903)\n",
      "(0.042813323987193938, 1.2742749857031322e-06, 43.206337685170624)\n",
      "(0.042813323987193938, 6.9519279617755912e-06, 43.207579191482843)\n",
      "(0.042813323987193938, 3.7926901907322381e-05, 43.209442475154063)\n",
      "(0.042813323987193938, 0.00020691380811147902, 43.205269793589892)\n",
      "(0.042813323987193938, 0.0011288378916846883, 43.207172415330874)\n",
      "(0.042813323987193938, 0.0061584821106602542, 43.206130802571735)\n",
      "(0.042813323987193938, 0.033598182862837743, 43.221896041898049)\n",
      "(0.042813323987193938, 0.183298071083243, 43.758619589602986)\n",
      "(0.042813323987193938, 1.0, 48.986973180437587)\n",
      "(0.054555947811685199, 1e-14, 43.200862203749111)\n",
      "(0.054555947811685199, 5.4555947811685145e-14, 43.201047661554895)\n",
      "(0.054555947811685199, 2.9763514416313133e-13, 43.201051745728741)\n",
      "(0.054555947811685199, 1.6237767391887176e-12, 43.201487882553707)\n",
      "(0.054555947811685199, 8.8586679041008326e-12, 43.201182782650299)\n",
      "(0.054555947811685199, 4.8329302385717519e-11, 43.200863775447644)\n",
      "(0.054555947811685199, 2.6366508987303556e-10, 43.20052719753221)\n",
      "(0.054555947811685199, 1.4384498882876659e-09, 43.201104867021336)\n",
      "(0.054555947811685199, 7.8475997035146226e-09, 43.200834936060033)\n",
      "(0.054555947811685199, 4.2813323987193873e-08, 43.201092961862926)\n",
      "(0.054555947811685199, 2.3357214690901212e-07, 43.201349554658826)\n",
      "(0.054555947811685199, 1.2742749857031322e-06, 43.201204295361435)\n",
      "(0.054555947811685199, 6.9519279617755912e-06, 43.201398903980518)\n",
      "(0.054555947811685199, 3.7926901907322381e-05, 43.20137041879677)\n",
      "(0.054555947811685199, 0.00020691380811147902, 43.201127389226542)\n",
      "(0.054555947811685199, 0.0011288378916846883, 43.200746690759871)\n",
      "(0.054555947811685199, 0.0061584821106602542, 43.199393544820708)\n",
      "(0.054555947811685199, 0.033598182862837743, 43.212942552246922)\n",
      "(0.054555947811685199, 0.183298071083243, 43.749369811454088)\n",
      "(0.054555947811685199, 1.0, 48.986659097782095)\n",
      "(0.069519279617756058, 1e-14, 43.199497899333736)\n",
      "(0.069519279617756058, 5.4555947811685145e-14, 43.199373738331225)\n",
      "(0.069519279617756058, 2.9763514416313133e-13, 43.199450527486952)\n",
      "(0.069519279617756058, 1.6237767391887176e-12, 43.199403228344835)\n",
      "(0.069519279617756058, 8.8586679041008326e-12, 43.199527094901597)\n",
      "(0.069519279617756058, 4.8329302385717519e-11, 43.199592494991194)\n",
      "(0.069519279617756058, 2.6366508987303556e-10, 43.199510213597954)\n",
      "(0.069519279617756058, 1.4384498882876659e-09, 43.19963376066724)\n",
      "(0.069519279617756058, 7.8475997035146226e-09, 43.199582557240426)\n",
      "(0.069519279617756058, 4.2813323987193873e-08, 43.199474639497133)\n",
      "(0.069519279617756058, 2.3357214690901212e-07, 43.199704155561101)\n",
      "(0.069519279617756058, 1.2742749857031322e-06, 43.199528131783531)\n",
      "(0.069519279617756058, 6.9519279617755912e-06, 43.19941605518752)\n",
      "(0.069519279617756058, 3.7926901907322381e-05, 43.199456184800646)\n",
      "(0.069519279617756058, 0.00020691380811147902, 43.199397491334324)\n",
      "(0.069519279617756058, 0.0011288378916846883, 43.198852643573971)\n",
      "(0.069519279617756058, 0.0061584821106602542, 43.197339001634774)\n",
      "(0.069519279617756058, 0.033598182862837743, 43.210794355859186)\n",
      "(0.069519279617756058, 0.183298071083243, 43.747248476272297)\n",
      "(0.069519279617756058, 1.0, 48.986629985109218)\n",
      "(0.088586679041008226, 1e-14, 43.199134151578974)\n",
      "(0.088586679041008226, 5.4555947811685145e-14, 43.199142395193697)\n",
      "(0.088586679041008226, 2.9763514416313133e-13, 43.199168136669257)\n",
      "(0.088586679041008226, 1.6237767391887176e-12, 43.199168635385718)\n",
      "(0.088586679041008226, 8.8586679041008326e-12, 43.199178022549475)\n",
      "(0.088586679041008226, 4.8329302385717519e-11, 43.199134201550109)\n",
      "(0.088586679041008226, 2.6366508987303556e-10, 43.199171005471669)\n",
      "(0.088586679041008226, 1.4384498882876659e-09, 43.199167117222487)\n",
      "(0.088586679041008226, 7.8475997035146226e-09, 43.199167342405417)\n",
      "(0.088586679041008226, 4.2813323987193873e-08, 43.199147087026574)\n",
      "(0.088586679041008226, 2.3357214690901212e-07, 43.199164302792859)\n",
      "(0.088586679041008226, 1.2742749857031322e-06, 43.199155055513586)\n",
      "(0.088586679041008226, 6.9519279617755912e-06, 43.199163075359081)\n",
      "(0.088586679041008226, 3.7926901907322381e-05, 43.199136540656859)\n",
      "(0.088586679041008226, 0.00020691380811147902, 43.199023273767281)\n",
      "(0.088586679041008226, 0.0011288378916846883, 43.198601104837898)\n",
      "(0.088586679041008226, 0.0061584821106602542, 43.196882877577721)\n",
      "(0.088586679041008226, 0.033598182862837743, 43.210153308534949)\n",
      "(0.088586679041008226, 0.183298071083243, 43.746698529437573)\n",
      "(0.088586679041008226, 1.0, 48.986628534550597)\n",
      "(0.11288378916846889, 1e-14, 43.199085695973849)\n",
      "(0.11288378916846889, 5.4555947811685145e-14, 43.199084095941693)\n",
      "(0.11288378916846889, 2.9763514416313133e-13, 43.199087347781287)\n",
      "(0.11288378916846889, 1.6237767391887176e-12, 43.199089886269086)\n",
      "(0.11288378916846889, 8.8586679041008326e-12, 43.19908878158293)\n",
      "(0.11288378916846889, 4.8329302385717519e-11, 43.19908634091334)\n",
      "(0.11288378916846889, 2.6366508987303556e-10, 43.199086552613117)\n",
      "(0.11288378916846889, 1.4384498882876659e-09, 43.199088659703314)\n",
      "(0.11288378916846889, 7.8475997035146226e-09, 43.199087075946878)\n",
      "(0.11288378916846889, 4.2813323987193873e-08, 43.199084543734628)\n",
      "(0.11288378916846889, 2.3357214690901212e-07, 43.199082892854733)\n",
      "(0.11288378916846889, 1.2742749857031322e-06, 43.199086859482392)\n",
      "(0.11288378916846889, 6.9519279617755912e-06, 43.199081158946981)\n",
      "(0.11288378916846889, 3.7926901907322381e-05, 43.19906623190316)\n",
      "(0.11288378916846889, 0.00020691380811147902, 43.19897551818017)\n",
      "(0.11288378916846889, 0.0011288378916846883, 43.198518228078328)\n",
      "(0.11288378916846889, 0.0061584821106602542, 43.196832466532577)\n",
      "(0.11288378916846889, 0.033598182862837743, 43.210055228040048)\n",
      "(0.11288378916846889, 0.183298071083243, 43.746641421733486)\n",
      "(0.11288378916846889, 1.0, 48.986390503351359)\n",
      "(0.14384498882876628, 1e-14, 1.3024605394905556e+55)\n",
      "(0.14384498882876628, 5.4555947811685145e-14, 1.1159440816286539e+55)\n",
      "(0.14384498882876628, 2.9763514416313133e-13, 1.1927752499762218e+55)\n",
      "(0.14384498882876628, 1.6237767391887176e-12, 2.523812234283081e+55)\n",
      "(0.14384498882876628, 8.8586679041008326e-12, 1.4302099791373868e+55)\n",
      "(0.14384498882876628, 4.8329302385717519e-11, 4.9390181015028565e+54)\n",
      "(0.14384498882876628, 2.6366508987303556e-10, 2.9324910016352603e+55)\n",
      "(0.14384498882876628, 1.4384498882876659e-09, 2.8252148217646044e+55)\n",
      "(0.14384498882876628, 7.8475997035146226e-09, 1.1741765621862886e+55)\n",
      "(0.14384498882876628, 4.2813323987193873e-08, 7.0406345145252754e+54)\n",
      "(0.14384498882876628, 2.3357214690901212e-07, 3.8482743545483767e+54)\n",
      "(0.14384498882876628, 1.2742749857031322e-06, 5.0466323496668462e+54)\n",
      "(0.14384498882876628, 6.9519279617755912e-06, 1.9296344610528707e+55)\n",
      "(0.14384498882876628, 3.7926901907322381e-05, 3.1448146899938975e+55)\n",
      "(0.14384498882876628, 0.00020691380811147902, 1.4493993718963312e+55)\n",
      "(0.14384498882876628, 0.0011288378916846883, 1.1747449851552602e+54)\n",
      "(0.14384498882876628, 0.0061584821106602542, 5.9786822983323403e+52)\n",
      "(0.14384498882876628, 0.033598182862837743, 8.6992804069568035e+54)\n",
      "(0.14384498882876628, 0.183298071083243, 8.6315308498028004e+59)\n",
      "(0.14384498882876628, 1.0, 1.7290669265926074e+77)\n",
      "(0.18329807108324356, 1e-14, 2.2769286756126354e+141)\n",
      "(0.18329807108324356, 5.4555947811685145e-14, 1.9409163013793604e+141)\n",
      "(0.18329807108324356, 2.9763514416313133e-13, 1.1325512655746755e+141)\n",
      "(0.18329807108324356, 1.6237767391887176e-12, 1.6472728055522053e+141)\n",
      "(0.18329807108324356, 8.8586679041008326e-12, 8.4292867750469728e+140)\n",
      "(0.18329807108324356, 4.8329302385717519e-11, 7.426384287414606e+140)\n",
      "(0.18329807108324356, 2.6366508987303556e-10, 1.9685146218234889e+141)\n",
      "(0.18329807108324356, 1.4384498882876659e-09, 3.6095387864759798e+141)\n",
      "(0.18329807108324356, 7.8475997035146226e-09, 3.2025605394910199e+140)\n",
      "(0.18329807108324356, 4.2813323987193873e-08, 2.6918201687507087e+141)\n",
      "(0.18329807108324356, 2.3357214690901212e-07, 9.42950410558074e+140)\n",
      "(0.18329807108324356, 1.2742749857031322e-06, 1.2631652580565437e+140)\n",
      "(0.18329807108324356, 6.9519279617755912e-06, 8.3199445519912507e+140)\n",
      "(0.18329807108324356, 3.7926901907322381e-05, 1.1911366463564024e+141)\n",
      "(0.18329807108324356, 0.00020691380811147902, 1.7258487883186869e+141)\n",
      "(0.18329807108324356, 0.0011288378916846883, 8.7699872126438475e+140)\n",
      "(0.18329807108324356, 0.0061584821106602542, 2.465419499024285e+141)\n",
      "(0.18329807108324356, 0.033598182862837743, 2.6165647151150012e+141)\n",
      "(0.18329807108324356, 0.183298071083243, 5.24543792781918e+144)\n",
      "(0.18329807108324356, 1.0, inf)\n",
      "(0.23357214690901212, 1e-14, inf)\n",
      "(0.23357214690901212, 5.4555947811685145e-14, inf)\n",
      "(0.23357214690901212, 2.9763514416313133e-13, inf)\n",
      "(0.23357214690901212, 1.6237767391887176e-12, inf)\n",
      "(0.23357214690901212, 8.8586679041008326e-12, inf)\n",
      "(0.23357214690901212, 4.8329302385717519e-11, inf)\n",
      "(0.23357214690901212, 2.6366508987303556e-10, inf)\n",
      "(0.23357214690901212, 1.4384498882876659e-09, inf)\n",
      "(0.23357214690901212, 7.8475997035146226e-09, inf)\n",
      "(0.23357214690901212, 4.2813323987193873e-08, inf)\n",
      "(0.23357214690901212, 2.3357214690901212e-07, inf)\n",
      "(0.23357214690901212, 1.2742749857031322e-06, inf)\n",
      "(0.23357214690901212, 6.9519279617755912e-06, inf)\n",
      "(0.23357214690901212, 3.7926901907322381e-05, inf)\n",
      "(0.23357214690901212, 0.00020691380811147902, inf)\n",
      "(0.23357214690901212, 0.0011288378916846883, inf)\n",
      "(0.23357214690901212, 0.0061584821106602542, inf)\n",
      "(0.23357214690901212, 0.033598182862837743, inf)\n",
      "(0.23357214690901212, 0.183298071083243, inf)\n",
      "(0.23357214690901212, 1.0, inf)\n",
      "(0.29763514416313175, 1e-14, inf)\n",
      "(0.29763514416313175, 5.4555947811685145e-14, inf)\n",
      "(0.29763514416313175, 2.9763514416313133e-13, inf)\n",
      "(0.29763514416313175, 1.6237767391887176e-12, inf)\n",
      "(0.29763514416313175, 8.8586679041008326e-12, inf)\n",
      "(0.29763514416313175, 4.8329302385717519e-11, inf)\n",
      "(0.29763514416313175, 2.6366508987303556e-10, inf)\n",
      "(0.29763514416313175, 1.4384498882876659e-09, inf)\n",
      "(0.29763514416313175, 7.8475997035146226e-09, inf)\n",
      "(0.29763514416313175, 4.2813323987193873e-08, inf)\n",
      "(0.29763514416313175, 2.3357214690901212e-07, inf)\n",
      "(0.29763514416313175, 1.2742749857031322e-06, inf)\n",
      "(0.29763514416313175, 6.9519279617755912e-06, inf)\n",
      "(0.29763514416313175, 3.7926901907322381e-05, inf)\n",
      "(0.29763514416313175, 0.00020691380811147902, inf)\n",
      "(0.29763514416313175, 0.0011288378916846883, inf)\n",
      "(0.29763514416313175, 0.0061584821106602542, inf)\n",
      "(0.29763514416313175, 0.033598182862837743, inf)\n",
      "(0.29763514416313175, 0.183298071083243, inf)\n",
      "(0.29763514416313175, 1.0, inf)\n",
      "(0.37926901907322497, 1e-14, nan)\n",
      "(0.37926901907322497, 5.4555947811685145e-14, nan)\n",
      "(0.37926901907322497, 2.9763514416313133e-13, nan)\n",
      "(0.37926901907322497, 1.6237767391887176e-12, nan)\n",
      "(0.37926901907322497, 8.8586679041008326e-12, nan)\n",
      "(0.37926901907322497, 4.8329302385717519e-11, nan)\n",
      "(0.37926901907322497, 2.6366508987303556e-10, nan)\n",
      "(0.37926901907322497, 1.4384498882876659e-09, nan)\n",
      "(0.37926901907322497, 7.8475997035146226e-09, nan)\n",
      "(0.37926901907322497, 4.2813323987193873e-08, nan)\n",
      "(0.37926901907322497, 2.3357214690901212e-07, nan)\n",
      "(0.37926901907322497, 1.2742749857031322e-06, nan)\n",
      "(0.37926901907322497, 6.9519279617755912e-06, nan)\n",
      "(0.37926901907322497, 3.7926901907322381e-05, nan)\n",
      "(0.37926901907322497, 0.00020691380811147902, nan)\n",
      "(0.37926901907322497, 0.0011288378916846883, nan)\n",
      "(0.37926901907322497, 0.0061584821106602542, nan)\n",
      "(0.37926901907322497, 0.033598182862837743, nan)\n",
      "(0.37926901907322497, 0.183298071083243, nan)\n",
      "(0.37926901907322497, 1.0, nan)\n",
      "(0.48329302385717521, 1e-14, nan)\n",
      "(0.48329302385717521, 5.4555947811685145e-14, nan)\n",
      "(0.48329302385717521, 2.9763514416313133e-13, nan)\n",
      "(0.48329302385717521, 1.6237767391887176e-12, nan)\n",
      "(0.48329302385717521, 8.8586679041008326e-12, nan)\n",
      "(0.48329302385717521, 4.8329302385717519e-11, nan)\n",
      "(0.48329302385717521, 2.6366508987303556e-10, nan)\n",
      "(0.48329302385717521, 1.4384498882876659e-09, nan)\n",
      "(0.48329302385717521, 7.8475997035146226e-09, nan)\n",
      "(0.48329302385717521, 4.2813323987193873e-08, nan)\n",
      "(0.48329302385717521, 2.3357214690901212e-07, nan)\n",
      "(0.48329302385717521, 1.2742749857031322e-06, nan)\n",
      "(0.48329302385717521, 6.9519279617755912e-06, nan)\n",
      "(0.48329302385717521, 3.7926901907322381e-05, nan)\n",
      "(0.48329302385717521, 0.00020691380811147902, nan)\n",
      "(0.48329302385717521, 0.0011288378916846883, nan)\n",
      "(0.48329302385717521, 0.0061584821106602542, nan)\n",
      "(0.48329302385717521, 0.033598182862837743, nan)\n",
      "(0.48329302385717521, 0.183298071083243, nan)\n",
      "(0.48329302385717521, 1.0, nan)\n",
      "(0.61584821106602605, 1e-14, nan)\n",
      "(0.61584821106602605, 5.4555947811685145e-14, nan)\n",
      "(0.61584821106602605, 2.9763514416313133e-13, nan)\n",
      "(0.61584821106602605, 1.6237767391887176e-12, nan)\n",
      "(0.61584821106602605, 8.8586679041008326e-12, nan)\n",
      "(0.61584821106602605, 4.8329302385717519e-11, nan)\n",
      "(0.61584821106602605, 2.6366508987303556e-10, nan)\n",
      "(0.61584821106602605, 1.4384498882876659e-09, nan)\n",
      "(0.61584821106602605, 7.8475997035146226e-09, nan)\n",
      "(0.61584821106602605, 4.2813323987193873e-08, nan)\n",
      "(0.61584821106602605, 2.3357214690901212e-07, nan)\n",
      "(0.61584821106602605, 1.2742749857031322e-06, nan)\n",
      "(0.61584821106602605, 6.9519279617755912e-06, nan)\n",
      "(0.61584821106602605, 3.7926901907322381e-05, nan)\n",
      "(0.61584821106602605, 0.00020691380811147902, nan)\n",
      "(0.61584821106602605, 0.0011288378916846883, nan)\n",
      "(0.61584821106602605, 0.0061584821106602542, nan)\n",
      "(0.61584821106602605, 0.033598182862837743, nan)\n",
      "(0.61584821106602605, 0.183298071083243, nan)\n",
      "(0.61584821106602605, 1.0, nan)\n",
      "(0.78475997035146106, 1e-14, nan)\n",
      "(0.78475997035146106, 5.4555947811685145e-14, nan)\n",
      "(0.78475997035146106, 2.9763514416313133e-13, nan)\n",
      "(0.78475997035146106, 1.6237767391887176e-12, nan)\n",
      "(0.78475997035146106, 8.8586679041008326e-12, nan)\n",
      "(0.78475997035146106, 4.8329302385717519e-11, nan)\n",
      "(0.78475997035146106, 2.6366508987303556e-10, nan)\n",
      "(0.78475997035146106, 1.4384498882876659e-09, nan)\n",
      "(0.78475997035146106, 7.8475997035146226e-09, nan)\n",
      "(0.78475997035146106, 4.2813323987193873e-08, nan)\n",
      "(0.78475997035146106, 2.3357214690901212e-07, nan)\n",
      "(0.78475997035146106, 1.2742749857031322e-06, nan)\n",
      "(0.78475997035146106, 6.9519279617755912e-06, nan)\n",
      "(0.78475997035146106, 3.7926901907322381e-05, nan)\n",
      "(0.78475997035146106, 0.00020691380811147902, nan)\n",
      "(0.78475997035146106, 0.0011288378916846883, nan)\n",
      "(0.78475997035146106, 0.0061584821106602542, nan)\n",
      "(0.78475997035146106, 0.033598182862837743, nan)\n",
      "(0.78475997035146106, 0.183298071083243, nan)\n",
      "(0.78475997035146106, 1.0, nan)\n",
      "(1.0, 1e-14, nan)\n",
      "(1.0, 5.4555947811685145e-14, nan)\n",
      "(1.0, 2.9763514416313133e-13, nan)\n",
      "(1.0, 1.6237767391887176e-12, nan)\n",
      "(1.0, 8.8586679041008326e-12, nan)\n",
      "(1.0, 4.8329302385717519e-11, nan)\n",
      "(1.0, 2.6366508987303556e-10, nan)\n",
      "(1.0, 1.4384498882876659e-09, nan)\n",
      "(1.0, 7.8475997035146226e-09, nan)\n",
      "(1.0, 4.2813323987193873e-08, nan)\n",
      "(1.0, 2.3357214690901212e-07, nan)\n",
      "(1.0, 1.2742749857031322e-06, nan)\n",
      "(1.0, 6.9519279617755912e-06, nan)\n",
      "(1.0, 3.7926901907322381e-05, nan)\n",
      "(1.0, 0.00020691380811147902, nan)\n",
      "(1.0, 0.0011288378916846883, nan)\n",
      "(1.0, 0.0061584821106602542, nan)\n",
      "(1.0, 0.033598182862837743, nan)\n",
      "(1.0, 0.183298071083243, nan)\n",
      "(1.0, 1.0, nan)\n"
     ]
    }
   ],
   "source": [
    "from helper import *\n",
    "from sgd import *\n",
    "\n",
    "k = 5 #number of folds for cross validation\n",
    "\n",
    "if X_data.shape[0] % k != 0:\n",
    "    print(\"Number of samples not divisible by k!\")\n",
    "    sys.exit(0)\n",
    "    \n",
    "print(\"Total samples: \", X_data.shape[0])\n",
    "\n",
    "total_error = 0.0\n",
    "\n",
    "X = np.split(X_data[:,2:], k, axis=0)\n",
    "y = np.split(X_data[:,1], k, axis=0)\n",
    "\n",
    "print(X[0].shape)\n",
    "print(y[0].shape)\n",
    "\n",
    "loss_dict = []\n",
    "#lr_dict = []\n",
    "#mu_dict = []\n",
    "para_dict = []\n",
    "\n",
    "lr_range = np.logspace(-2, 0, num=20)\n",
    "mu_range = np.logspace(-14, 0, num=20)\n",
    "\n",
    "#Apply cross validation\n",
    "for lr in lr_range:\n",
    "    for mu in mu_range:\n",
    "        \n",
    "        #Initialize everything\n",
    "        w = np.random.normal(0.0, 1.0, size=(X_train.shape[1])) #must be adaptable to X\n",
    "\n",
    "        \n",
    "        total_error = 0\n",
    "         \n",
    "        for i in range(k):\n",
    "            X_train, y_train, X_cv, y_cv = get_train_cross_dataset(X, y, i)\n",
    "            \n",
    "            train_loss_dict, cv_loss_dict, w = run_sgd(\n",
    "                                                        X_train=X_train, \n",
    "                                                        y_train=y_train,\n",
    "                                                        X_cv=X_cv, \n",
    "                                                        y_cv=y_cv,\n",
    "                                                        w=w, \n",
    "                                                        mu=mu, \n",
    "                                                        lr=lr, \n",
    "                                                        fn_loss=rms, \n",
    "                                                        MAX_STEPS=100\n",
    "                                                        )    \n",
    "            ##Measure loss\n",
    "            loss = cv_loss_dict[-1] #last one describes the achieved loss\n",
    "            total_error += loss\n",
    "            \n",
    "            \n",
    "        total_error /= k\n",
    "        \n",
    "        #lr_dict.append(lr)\n",
    "        #mu_dict.append(mu)\n",
    "        print((lr, mu, total_error))\n",
    "        para_dict.append((lr, mu))\n",
    "        loss_dict.append(total_error)  \n",
    "\n",
    "#print(lr_dict)\n",
    "#print(mu_dict)\n",
    "#print(loss_dict)\n",
    "    "
   ]
  },
  {
   "cell_type": "code",
   "execution_count": 96,
   "metadata": {
    "collapsed": false
   },
   "outputs": [
    {
     "data": {
      "image/png": "[encoded data removed]",
      "text/plain": [
       "<matplotlib.figure.Figure at 0x7fdcdcfc7450>"
      ]
     },
     "metadata": {},
     "output_type": "display_data"
    }
   ],
   "source": [
    "plt.subplot(3, 1, 1)\n",
    "plt.title('Absolute training loss')\n",
    "plt.xlabel('Combinations')\n",
    "plt.plot(loss_dict, 'o')\n",
    "#plt.plot(lam_dict, 'o', label='baseline')\n",
    "#plt.plot(loss_dict, 'o', label='batchnorm')\n",
    "plt.show()"
   ]
  },
  {
   "cell_type": "code",
   "execution_count": 97,
   "metadata": {
    "collapsed": false
   },
   "outputs": [
    {
     "name": "stdout",
     "output_type": "stream",
     "text": [
      "('Minimal loss', 43.196832466532577)\n",
      "('Minimizing lr and mu: ', (0.37926901907322497, 1e-14))\n"
     ]
    }
   ],
   "source": [
    "print(\"Minimal loss\", min(loss_dict))\n",
    "index = np.argmin(loss_dict)\n",
    "print(\"Minimizing lr and mu: \", para_dict[index])"
   ]
  },
  {
   "cell_type": "markdown",
   "metadata": {},
   "source": [
    "#### Training Error vs CV Error"
   ]
  },
  {
   "cell_type": "code",
   "execution_count": null,
   "metadata": {
    "collapsed": true
   },
   "outputs": [],
   "source": [
    "STEPS = 10000\n",
    "\n",
    "X_train, y_train, X_cv, y_cv = get_train_cross_dataset(X, y, i)\n",
    "            \n",
    "train_loss_dict, cv_loss_dict, w = run_sgd(\n",
    "                                            X_train=X_train, \n",
    "                                            y_train=y_train,\n",
    "                                            X_cv=X_cv, \n",
    "                                            y_cv=y_cv,\n",
    "                                            w=w, \n",
    "                                            mu=mu, \n",
    "                                            lr=lr, \n",
    "                                            fn_loss=rms, \n",
    "                                            MAX_STEPS=10000\n",
    "                                        )"
   ]
  },
  {
   "cell_type": "code",
   "execution_count": 61,
   "metadata": {
    "collapsed": false
   },
   "outputs": [
    {
     "ename": "NameError",
     "evalue": "name 'STEPS' is not defined",
     "output_type": "error",
     "traceback": [
      "\u001b[0;31m---------------------------------------------------------------------------\u001b[0m",
      "\u001b[0;31mNameError\u001b[0m                                 Traceback (most recent call last)",
      "\u001b[0;32m<ipython-input-61-025358119beb>\u001b[0m in \u001b[0;36m<module>\u001b[0;34m()\u001b[0m\n\u001b[1;32m      3\u001b[0m \u001b[0mplt\u001b[0m\u001b[0;34m.\u001b[0m\u001b[0mtitle\u001b[0m\u001b[0;34m(\u001b[0m\u001b[0;34m'Absolute training loss'\u001b[0m\u001b[0;34m)\u001b[0m\u001b[0;34m\u001b[0m\u001b[0m\n\u001b[1;32m      4\u001b[0m \u001b[0mplt\u001b[0m\u001b[0;34m.\u001b[0m\u001b[0mxlabel\u001b[0m\u001b[0;34m(\u001b[0m\u001b[0;34m'Combinations'\u001b[0m\u001b[0;34m)\u001b[0m\u001b[0;34m\u001b[0m\u001b[0m\n\u001b[0;32m----> 5\u001b[0;31m \u001b[0mplt\u001b[0m\u001b[0;34m.\u001b[0m\u001b[0mplot\u001b[0m\u001b[0;34m(\u001b[0m\u001b[0mnp\u001b[0m\u001b[0;34m.\u001b[0m\u001b[0marange\u001b[0m\u001b[0;34m(\u001b[0m\u001b[0mSTEPS\u001b[0m\u001b[0;34m)\u001b[0m\u001b[0;34m,\u001b[0m \u001b[0mtrain_loss_dict\u001b[0m\u001b[0;34m,\u001b[0m \u001b[0;34m'o'\u001b[0m\u001b[0;34m,\u001b[0m \u001b[0mnp\u001b[0m\u001b[0;34m.\u001b[0m\u001b[0marange\u001b[0m\u001b[0;34m(\u001b[0m\u001b[0mSTEPS\u001b[0m\u001b[0;34m)\u001b[0m\u001b[0;34m,\u001b[0m \u001b[0mcv_loss_dict\u001b[0m\u001b[0;34m,\u001b[0m \u001b[0;34m'r--'\u001b[0m\u001b[0;34m)\u001b[0m\u001b[0;34m\u001b[0m\u001b[0m\n\u001b[0m\u001b[1;32m      6\u001b[0m \u001b[0;34m\u001b[0m\u001b[0m\n\u001b[1;32m      7\u001b[0m \u001b[0mplt\u001b[0m\u001b[0;34m.\u001b[0m\u001b[0mshow\u001b[0m\u001b[0;34m(\u001b[0m\u001b[0;34m)\u001b[0m\u001b[0;34m\u001b[0m\u001b[0m\n",
      "\u001b[0;31mNameError\u001b[0m: name 'STEPS' is not defined"
     ]
    },
    {
     "data": {
      "image/png": "[encoded data removed]",
      "text/plain": [
       "<matplotlib.figure.Figure at 0x7fdcdd090f10>"
      ]
     },
     "metadata": {},
     "output_type": "display_data"
    }
   ],
   "source": [
    "#Show plot CV error vs training error\n",
    "plt.subplot(3, 1, 1)\n",
    "plt.title('Absolute training loss')\n",
    "plt.xlabel('Combinations')\n",
    "plt.plot(np.arange(STEPS), train_loss_dict, 'o', np.arange(STEPS), cv_loss_dict, 'r--')\n",
    "\n",
    "plt.show()"
   ]
  },
  {
   "cell_type": "markdown",
   "metadata": {},
   "source": [
    "### Gradient Descent with polynomial Kernel of degree d = 2"
   ]
  },
  {
   "cell_type": "code",
   "execution_count": null,
   "metadata": {
    "collapsed": true
   },
   "outputs": [],
   "source": []
  },
  {
   "cell_type": "markdown",
   "metadata": {
    "collapsed": true
   },
   "source": [
    "## Bring the function into the submission format: Post-Processing\n",
    "We have trained the weights using the training data (X_train). Remember that the sample submission data looks like the following. That means we need to predict for the test data."
   ]
  },
  {
   "cell_type": "code",
   "execution_count": 9,
   "metadata": {
    "collapsed": false
   },
   "outputs": [],
   "source": [
    "if False:\n",
    "    print(\"Sample\")\n",
    "    print(data_sample.head(cases))\n",
    "    print(data_sample.tail(cases))\n",
    "    print(\"Test\")\n",
    "    print(data_test.head(cases))\n",
    "    print(data_test.tail(cases))\n",
    "    print(X_finaltest.shape)\n",
    "    print(weights.shape)\n",
    "    print(y_pred_test.shape)\n",
    "    print(y_pred_test)"
   ]
  },
  {
   "cell_type": "markdown",
   "metadata": {},
   "source": [
    "First of all, calculate the predictions. Don't forget to stack a bias column. The submission format includes the ID's taken from the X-training data. Each invidual record has a predicted 'y' record aswell."
   ]
  },
  {
   "cell_type": "code",
   "execution_count": 10,
   "metadata": {
    "collapsed": false
   },
   "outputs": [
    {
     "ename": "ValueError",
     "evalue": "shapes (2000,11) and (10,) not aligned: 11 (dim 1) != 10 (dim 0)",
     "output_type": "error",
     "traceback": [
      "\u001b[0;31m---------------------------------------------------------------------------\u001b[0m",
      "\u001b[0;31mValueError\u001b[0m                                Traceback (most recent call last)",
      "\u001b[0;32m<ipython-input-10-a1d313d33a7b>\u001b[0m in \u001b[0;36m<module>\u001b[0;34m()\u001b[0m\n\u001b[0;32m----> 1\u001b[0;31m \u001b[0my_pred_test\u001b[0m \u001b[0;34m=\u001b[0m \u001b[0mnp\u001b[0m\u001b[0;34m.\u001b[0m\u001b[0mdot\u001b[0m\u001b[0;34m(\u001b[0m\u001b[0mnp\u001b[0m\u001b[0;34m.\u001b[0m\u001b[0mcolumn_stack\u001b[0m\u001b[0;34m(\u001b[0m\u001b[0;34m(\u001b[0m\u001b[0mX_finaltest\u001b[0m\u001b[0;34m,\u001b[0m \u001b[0mnp\u001b[0m\u001b[0;34m.\u001b[0m\u001b[0mones\u001b[0m\u001b[0;34m(\u001b[0m\u001b[0mX_finaltest\u001b[0m\u001b[0;34m.\u001b[0m\u001b[0mshape\u001b[0m\u001b[0;34m[\u001b[0m\u001b[0;36m0\u001b[0m\u001b[0;34m]\u001b[0m\u001b[0;34m)\u001b[0m\u001b[0;34m)\u001b[0m\u001b[0;34m)\u001b[0m\u001b[0;34m,\u001b[0m \u001b[0mweights\u001b[0m\u001b[0;34m)\u001b[0m\u001b[0;34m\u001b[0m\u001b[0m\n\u001b[0m\u001b[1;32m      2\u001b[0m \u001b[0msub_data\u001b[0m \u001b[0;34m=\u001b[0m \u001b[0mnp\u001b[0m\u001b[0;34m.\u001b[0m\u001b[0mcolumn_stack\u001b[0m\u001b[0;34m(\u001b[0m\u001b[0;34m(\u001b[0m\u001b[0mdata_test\u001b[0m\u001b[0;34m.\u001b[0m\u001b[0mvalues\u001b[0m\u001b[0;34m[\u001b[0m\u001b[0;34m:\u001b[0m\u001b[0;34m,\u001b[0m\u001b[0;36m0\u001b[0m\u001b[0;34m]\u001b[0m\u001b[0;34m,\u001b[0m \u001b[0my_pred_test\u001b[0m\u001b[0;34m)\u001b[0m\u001b[0;34m)\u001b[0m\u001b[0;34m\u001b[0m\u001b[0m\n\u001b[1;32m      3\u001b[0m \u001b[0;32mprint\u001b[0m\u001b[0;34m(\u001b[0m\u001b[0msub_data\u001b[0m\u001b[0;34m.\u001b[0m\u001b[0mshape\u001b[0m\u001b[0;34m)\u001b[0m\u001b[0;34m\u001b[0m\u001b[0m\n\u001b[1;32m      4\u001b[0m \u001b[0;32mprint\u001b[0m\u001b[0;34m(\u001b[0m\u001b[0msub_data\u001b[0m\u001b[0;34m)\u001b[0m\u001b[0;34m\u001b[0m\u001b[0m\n",
      "\u001b[0;31mValueError\u001b[0m: shapes (2000,11) and (10,) not aligned: 11 (dim 1) != 10 (dim 0)"
     ]
    }
   ],
   "source": [
    "y_pred_test = np.dot(np.column_stack((X_finaltest, np.ones(X_finaltest.shape[0]))), weights)\n",
    "sub_data = np.column_stack((data_test.values[:,0], y_pred_test))\n",
    "print(sub_data.shape)\n",
    "print(sub_data)"
   ]
  },
  {
   "cell_type": "markdown",
   "metadata": {},
   "source": [
    "This look alright... Let's wrap it in a pandas-dataframe (that's what the datastructures including the headers with 'ID' and 'y' are called)"
   ]
  },
  {
   "cell_type": "code",
   "execution_count": 78,
   "metadata": {
    "collapsed": false
   },
   "outputs": [
    {
     "name": "stdout",
     "output_type": "stream",
     "text": [
      "         Id                         y\n",
      "0     10000  -66.00242349023130827845\n",
      "1     10001  451.40650440115518904349\n",
      "2     10002 -461.67641706029962733737\n",
      "3     10003   40.50120875372320483621\n",
      "4     10004 -126.74472245403632086891\n",
      "5     10005 -342.53455181925158967715\n",
      "6     10006 -396.55554211359054761488\n",
      "7     10007  335.54127907908764427702\n",
      "8     10008  -99.51242087062264829456\n",
      "9     10009  304.81253980627650435054\n",
      "10    10010   68.89453048978556637394\n",
      "11    10011  412.36919545590848201755\n",
      "12    10012   54.94237102476856193789\n",
      "13    10013  -17.00555075478039768200\n",
      "14    10014 -597.84995757226056412037\n",
      "15    10015  443.50228878641490837254\n",
      "16    10016  144.77448697804288713087\n",
      "17    10017  -57.41116367253620467181\n",
      "18    10018  134.38782757746042761937\n",
      "19    10019 -108.98377598910846586477\n",
      "20    10020  153.82482842506630049684\n",
      "21    10021  611.73598360220182712510\n",
      "22    10022  588.38965033842225693661\n",
      "23    10023 -131.01679995802052758336\n",
      "24    10024  -61.13562114123003965460\n",
      "25    10025 -374.24849531697236670880\n",
      "26    10026   74.15799307965411912846\n",
      "27    10027  137.43837873610536348679\n",
      "28    10028  420.08661179679069164195\n",
      "29    10029  196.76562571344160801345\n",
      "...     ...                       ...\n",
      "1970  11970 -228.37612245128613608358\n",
      "1971  11971  198.06160680946024399418\n",
      "1972  11972 -713.00647693430278195592\n",
      "1973  11973  -89.68186474183370648916\n",
      "1974  11974 -480.00457016777994567747\n",
      "1975  11975 -271.73339592270008324704\n",
      "1976  11976  565.32363993667070189986\n",
      "1977  11977   96.11148263232833244274\n",
      "1978  11978  178.61335856961233048423\n",
      "1979  11979  -61.17433245470591174353\n",
      "1980  11980 -368.69168724005919557385\n",
      "1981  11981    4.84774657817800846971\n",
      "1982  11982  414.41382134440124218600\n",
      "1983  11983 -760.31831679305116722389\n",
      "1984  11984   84.91271532686188550088\n",
      "1985  11985 -251.84732552029109342584\n",
      "1986  11986  280.70758458951968350448\n",
      "1987  11987 -391.25027825107639500857\n",
      "1988  11988  608.49911717037446123868\n",
      "1989  11989  -27.80846060721255952330\n",
      "1990  11990 -123.41411926925461273186\n",
      "1991  11991 -130.82924419408300309442\n",
      "1992  11992   18.55306889260260305718\n",
      "1993  11993 -433.16537587721256841178\n",
      "1994  11994 -303.70912611646485856909\n",
      "1995  11995  464.71525498507958218397\n",
      "1996  11996  496.48533446727839191226\n",
      "1997  11997  -35.13540941579512377757\n",
      "1998  11998 -131.67918453438889514473\n",
      "1999  11999  417.26915462133581513626\n",
      "\n",
      "[2000 rows x 2 columns]\n"
     ]
    }
   ],
   "source": [
    "pd.set_option('max_info_rows', 11)\n",
    "pd.set_option('precision',20)\n",
    "submission = pd.DataFrame(sub_data, columns = [\"Id\", \"y\"])\n",
    "submission.Id = submission.Id.astype(int)\n",
    "print(submission)"
   ]
  },
  {
   "cell_type": "markdown",
   "metadata": {},
   "source": [
    "*** I'M NOT SURE IF IT HAS TO BE 1-point PRECISION (last record to be 417.3, instead of 417.269155). ***"
   ]
  },
  {
   "cell_type": "markdown",
   "metadata": {},
   "source": [
    "Not let's export the submission file as a csv"
   ]
  },
  {
   "cell_type": "code",
   "execution_count": 14,
   "metadata": {
    "collapsed": false
   },
   "outputs": [],
   "source": [
    "csv_file = submission.to_csv('final_submission.csv')"
   ]
  },
  {
   "cell_type": "code",
   "execution_count": null,
   "metadata": {
    "collapsed": true
   },
   "outputs": [],
   "source": []
  }
 ],
 "metadata": {
  "anaconda-cloud": {},
  "kernelspec": {
   "display_name": "Python [conda root]",
   "language": "python",
   "name": "conda-root-py"
  },
  "language_info": {
   "codemirror_mode": {
    "name": "ipython",
    "version": 2
   },
   "file_extension": ".py",
   "mimetype": "text/x-python",
   "name": "python",
   "nbconvert_exporter": "python",
   "pygments_lexer": "ipython2",
   "version": "2.7.12"
  }
 },
 "nbformat": 4,
 "nbformat_minor": 0
}
