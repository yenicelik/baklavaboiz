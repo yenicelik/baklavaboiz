{
 "cells": [
  {
   "cell_type": "code",
   "execution_count": 1,
   "metadata": {
    "collapsed": false
   },
   "outputs": [
    {
     "name": "stderr",
     "output_type": "stream",
     "text": [
      "/home/yenicelik/anaconda2/lib/python2.7/site-packages/matplotlib/font_manager.py:273: UserWarning: Matplotlib is building the font cache using fc-list. This may take a moment.\n",
      "  warnings.warn('Matplotlib is building the font cache using fc-list. This may take a moment.')\n"
     ]
    }
   ],
   "source": [
    "import sys\n",
    "try:\n",
    "    import numpy as np\n",
    "    import pandas as pd\n",
    "    import matplotlib.pyplot as plt\n",
    "except:\n",
    "    import pip\n",
    "    pip.main(['install', \"--upgrade\", \"pip\"])\n",
    "    pip.main(['install', \"numpy\"])\n",
    "    pip.main(['install', \"matplotlib\"])\n",
    "    pip.main(['install', \"ipython\"])\n",
    "    pip.main(['install', \"jupyter\"])\n",
    "    pip.main(['install', \"pandas\"])\n",
    "    import numpy as np\n",
    "    import pandas as pd\n",
    "    \n",
    "%matplotlib inline\n",
    "plt.rcParams['figure.figsize'] = (10.0, 8.0) # set default size of plots\n",
    "plt.rcParams['image.interpolation'] = 'nearest'\n",
    "plt.rcParams['image.cmap'] = 'gray'\n",
    "%load_ext autoreload\n",
    "%autoreload 2"
   ]
  },
  {
   "cell_type": "markdown",
   "metadata": {},
   "source": [
    "## Importing the data\n",
    "We use the pandas library for this. The data is split into 3 files:\n",
    "- sample.csv :: Some stuff we can look at to know how the bigger and slower-to-load datafiles look like\n",
    "- test.csv :: Validation data, which we use to 'grade' our model by\n",
    "- train.csv :: Data we use to train our model with (to find the 'optimal' parameters)"
   ]
  },
  {
   "cell_type": "code",
   "execution_count": 2,
   "metadata": {
    "collapsed": false
   },
   "outputs": [
    {
     "name": "stdout",
     "output_type": "stream",
     "text": [
      "Sample\n",
      "    Id         y\n",
      "0  900  6.055126\n",
      "Test\n",
      "    Id        x1        x2       x3       x4        x5        x6        x7  \\\n",
      "0  900  0.658913  1.489215  1.65309  2.68705  0.613798  1.599903  1.345002   \n",
      "\n",
      "         x8       x9       x10       x11       x12       x13       x14  \\\n",
      "0  1.617774 -0.48859  2.893903  3.800831 -0.018902  0.857224  0.881235   \n",
      "\n",
      "       x15  \n",
      "0  0.57476  \n",
      "Train\n",
      "   Id           y        x1        x2        x3        x4       x5        x6  \\\n",
      "0   0  116.376061  1.276266 -0.854628  1.623901  2.145311  2.03719  2.886639   \n",
      "\n",
      "         x7        x8        x9       x10       x11      x12       x13  \\\n",
      "0  0.888302  0.637899  1.148675  0.562217  3.171257  2.15231 -0.818812   \n",
      "\n",
      "        x14      x15  \n",
      "0  0.861951  1.53984  \n"
     ]
    }
   ],
   "source": [
    "data_sample = pd.read_csv('sample.csv')\n",
    "data_test = pd.read_csv('test.csv')\n",
    "data_train = pd.read_csv('train.csv')\n",
    "\n",
    "cases = 1\n",
    "if True:\n",
    "    print(\"Sample\")\n",
    "    print(data_sample.head(cases))\n",
    "    print(\"Test\")\n",
    "    print(data_test.head(cases))\n",
    "    print(\"Train\")\n",
    "    print(data_train.head(cases))"
   ]
  },
  {
   "cell_type": "markdown",
   "metadata": {},
   "source": [
    "The data contains 'headers' (Thing like 'Id', 'y', 'x1', 'x2', etc.). For pure data processing we need to get rid of this (because these are not numebrs), and just retrieve the numerical values within the matrices. CV stands for cross-validation. Printing the shapes is just to make sure the import was successful."
   ]
  },
  {
   "cell_type": "code",
   "execution_count": 3,
   "metadata": {
    "collapsed": false
   },
   "outputs": [
    {
     "name": "stdout",
     "output_type": "stream",
     "text": [
      "X_train\n",
      "(900, 17)\n",
      "y_sample\n",
      "(2000, 2)\n",
      "X_finaltest\n",
      "(2000, 15)\n",
      "And has types\n",
      "<type 'numpy.float64'>\n"
     ]
    }
   ],
   "source": [
    "X_data = data_train.values\n",
    "y_sample = data_sample.values\n",
    "X_test = data_test.values[:,1:]\n",
    "\n",
    "if True:\n",
    "    print(\"X_train\")\n",
    "    print(X_data.shape)\n",
    "    print(\"y_sample\")\n",
    "    print(y_sample.shape)\n",
    "    print(\"X_finaltest\")\n",
    "    print(X_test.shape)\n",
    "\n",
    "    print(\"And has types\")\n",
    "    print(type(X_test[0,0]))"
   ]
  },
  {
   "cell_type": "markdown",
   "metadata": {},
   "source": [
    "## Function Definitions and Applications\n",
    "Here we define the functions we will use to predict the weights (normalEq, or maybe even stochastic gradient descent), and also the given error function (rms). Trying out different algorithms and testing them through cross-validation. Look at the external files for the algorithms."
   ]
  },
  {
   "cell_type": "markdown",
   "metadata": {},
   "source": [
    "### Normal Equations \n",
    "#### with regulaizer parameters = lam\n",
    "We test a total of 10000 different values for lambda in between 1e-20 and 1e10"
   ]
  },
  {
   "cell_type": "code",
   "execution_count": 29,
   "metadata": {
    "collapsed": false,
    "scrolled": true
   },
   "outputs": [
    {
     "name": "stdout",
     "output_type": "stream",
     "text": [
      "('Total samples: ', 900)\n",
      "(180, 15)\n",
      "(180,)\n"
     ]
    }
   ],
   "source": [
    "from helper import *\n",
    "from normalEq import *\n",
    "\n",
    "k = 5 #number of folds for cross validation\n",
    "\n",
    "if X_data.shape[0] % k != 0:\n",
    "    print(\"Number of samples not divisible by k!\")\n",
    "    sys.exit(0)\n",
    "    \n",
    "print(\"Total samples: \", X_data.shape[0])\n",
    "\n",
    "total_error = 0.0\n",
    "\n",
    "X = np.split(X_data[:,2:], k, axis=0)\n",
    "y = np.split(X_data[:,1], k, axis=0)\n",
    "\n",
    "print(X[0].shape)\n",
    "print(y[0].shape)\n",
    "\n",
    "loss_dict = []\n",
    "lam_dict = []\n",
    "\n",
    "lam_range = np.logspace(-14, 10, num=10000)#[1e-8, 1e-3, 1e2]\n",
    "\n",
    "#Apply cross validation\n",
    "for lam in lam_range:\n",
    "    loss = 0\n",
    "    for i in range(k):\n",
    "        X_train, y_train, X_cv, y_cv = get_train_cross_dataset(X, y, i)\n",
    "\n",
    "        #apply to training function, then measure the error\n",
    "        weights = reg_normal_eq(X_train, y_train, lam)\n",
    "        \n",
    "        ##Measure loss\n",
    "        predictions = np.dot(X_cv, weights)\n",
    "        loss = rms(predictions, y_cv)    \n",
    "    \n",
    "    total_error += loss    \n",
    "    total_error /= k\n",
    "    \n",
    "    lam_dict.append(lam)\n",
    "    loss_dict.append(total_error)    \n",
    "    "
   ]
  },
  {
   "cell_type": "code",
   "execution_count": 30,
   "metadata": {
    "collapsed": false
   },
   "outputs": [
    {
     "data": {
      "image/png": "[encoded data removed]",
      "text/plain": [
       "<matplotlib.figure.Figure at 0x7fdcdd2f05d0>"
      ]
     },
     "metadata": {},
     "output_type": "display_data"
    }
   ],
   "source": [
    "plt.subplot(3, 1, 1)\n",
    "plt.title('Absolute training loss')\n",
    "plt.xlabel('Lambda')\n",
    "plt.semilogx(lam_dict, loss_dict, 'o')\n",
    "#plt.plot(lam_dict, 'o', label='baseline')\n",
    "#plt.plot(loss_dict, 'o', label='batchnorm')\n",
    "plt.show()"
   ]
  },
  {
   "cell_type": "code",
   "execution_count": 31,
   "metadata": {
    "collapsed": false
   },
   "outputs": [
    {
     "name": "stdout",
     "output_type": "stream",
     "text": [
      "('The minimal error is given when lambda equals: ', 1e-14)\n"
     ]
    }
   ],
   "source": [
    "print(\"The minimal error is given when lambda equals: \", lam_dict[np.argmin(loss_dict)])"
   ]
  },
  {
   "cell_type": "markdown",
   "metadata": {},
   "source": [
    "### Gradient Descent without Kernel"
   ]
  },
  {
   "cell_type": "markdown",
   "metadata": {},
   "source": [
    "First of all, let's check if gradient descent actually works"
   ]
  },
  {
   "cell_type": "code",
   "execution_count": 32,
   "metadata": {
    "collapsed": false
   },
   "outputs": [
    {
     "name": "stdout",
     "output_type": "stream",
     "text": [
      "[62.299131404154025, 58.222312597201928, 54.888359150466066, 52.19840819729788, 49.968796807577874, 48.146690683716486, 46.629215534494108, 45.379931797525593, 44.336972392747576, 43.473272367162622, 42.750248575619381, 42.147964992719501, 41.64190847798816, 41.217738432416112, 40.859686323692479, 40.557630789639056, 40.301310950834271, 40.083662351788242, 39.897925814916277, 39.739192050000469]\n",
      "[65.838348466492107, 59.731682624108849, 58.28513504276642, 54.821019155074126, 53.542839601501946, 51.494998052763087, 50.501993661094204, 49.254144809473999, 48.534693284909238, 47.757944500041248, 47.257284320100936, 46.766697577299858, 46.426696041132558, 46.113934829632299, 45.88667834321366, 45.686284261740091, 45.536177548399813, 45.407662843370119, 45.309588681821801, 45.227457175561639]\n"
     ]
    }
   ],
   "source": [
    "from helper import *\n",
    "from sgd import *\n",
    "\n",
    "lr = 0.1\n",
    "mu = 0.1\n",
    "\n",
    "w = np.random.normal(0.0, 1.0, size=(X_train.shape[1])) #must be adaptable to X\n",
    "\n",
    "train_loss_list, cv_loss_list, w = run_sgd(X[0], y[0], X[1], y[1], w, mu, lr, rms, MAX_STEPS=20)\n",
    "\n",
    "print(train_loss_list)\n",
    "print(cv_loss_list)\n"
   ]
  },
  {
   "cell_type": "markdown",
   "metadata": {},
   "source": [
    "Seems fine, as all loss values decrese"
   ]
  },
  {
   "cell_type": "code",
   "execution_count": 71,
   "metadata": {
    "collapsed": false,
    "scrolled": true
   },
   "outputs": [
    {
     "name": "stdout",
     "output_type": "stream",
     "text": [
      "('Total samples: ', 900)\n",
      "(180, 15)\n",
      "(180,)\n",
      "(0.01, 1e-08, 44.208684455878732)\n",
      "(0.01, 1.8329807108324374e-08, 44.22343291821916)\n",
      "(0.01, 3.3598182862837814e-08, 44.251709982746874)\n",
      "(0.01, 6.1584821106602674e-08, 44.185235340983908)\n",
      "(0.01, 1.1288378916846883e-07, 44.273842435686149)\n",
      "(0.01, 2.06913808111479e-07, 44.302432073421713)\n",
      "(0.01, 3.7926901907322539e-07, 44.2608539449662)\n",
      "(0.01, 6.951927961775605e-07, 44.229713461554709)\n",
      "(0.01, 1.2742749857031322e-06, 44.216494256580077)\n",
      "(0.01, 2.3357214690901211e-06, 44.271104961151941)\n",
      "(0.01, 4.2813323987193961e-06, 44.314731734022253)\n",
      "(0.01, 7.8475997035146067e-06, 44.216064556387025)\n",
      "(0.01, 1.4384498882876629e-05, 44.193700589740004)\n",
      "(0.01, 2.6366508987303556e-05, 44.238679820075859)\n",
      "(0.01, 4.8329302385717524e-05, 44.178675457717297)\n",
      "(0.01, 8.8586679041008327e-05, 44.313448057050451)\n",
      "(0.01, 0.0001623776739188721, 44.202320724435296)\n",
      "(0.01, 0.00029763514416313193, 44.210335215907726)\n",
      "(0.01, 0.00054555947811685149, 44.246179741295087)\n",
      "(0.01, 0.001, 44.251735087800775)\n",
      "(0.016237767391887217, 1e-08, 43.546449441400867)\n",
      "(0.016237767391887217, 1.8329807108324374e-08, 43.547124949627083)\n",
      "(0.016237767391887217, 3.3598182862837814e-08, 43.541928408642086)\n",
      "(0.016237767391887217, 6.1584821106602674e-08, 43.571864896344159)\n",
      "(0.016237767391887217, 1.1288378916846883e-07, 43.55243555667461)\n",
      "(0.016237767391887217, 2.06913808111479e-07, 43.545887884084628)\n",
      "(0.016237767391887217, 3.7926901907322539e-07, 43.539725018937631)\n",
      "(0.016237767391887217, 6.951927961775605e-07, 43.58929484423588)\n",
      "(0.016237767391887217, 1.2742749857031322e-06, 43.572213765619914)\n",
      "(0.016237767391887217, 2.3357214690901211e-06, 43.545308859651193)\n",
      "(0.016237767391887217, 4.2813323987193961e-06, 43.576590028291257)\n",
      "(0.016237767391887217, 7.8475997035146067e-06, 43.559675918586173)\n",
      "(0.016237767391887217, 1.4384498882876629e-05, 43.52135418207655)\n",
      "(0.016237767391887217, 2.6366508987303556e-05, 43.568355120665949)\n",
      "(0.016237767391887217, 4.8329302385717524e-05, 43.538692004110793)\n",
      "(0.016237767391887217, 8.8586679041008327e-05, 43.583279205356142)\n",
      "(0.016237767391887217, 0.0001623776739188721, 43.553490935782087)\n",
      "(0.016237767391887217, 0.00029763514416313193, 43.559965184572548)\n",
      "(0.016237767391887217, 0.00054555947811685149, 43.562377427961124)\n",
      "(0.016237767391887217, 0.001, 43.521591367388751)\n",
      "(0.026366508987303583, 1e-08, 43.269692865041996)\n",
      "(0.026366508987303583, 1.8329807108324374e-08, 43.282207442590128)\n",
      "(0.026366508987303583, 3.3598182862837814e-08, 43.274780542261183)\n",
      "(0.026366508987303583, 6.1584821106602674e-08, 43.271361982372667)\n",
      "(0.026366508987303583, 1.1288378916846883e-07, 43.282975579158467)\n",
      "(0.026366508987303583, 2.06913808111479e-07, 43.275172390636065)\n",
      "(0.026366508987303583, 3.7926901907322539e-07, 43.269020134255463)\n",
      "(0.026366508987303583, 6.951927961775605e-07, 43.277095829912945)\n",
      "(0.026366508987303583, 1.2742749857031322e-06, 43.271964261572819)\n",
      "(0.026366508987303583, 2.3357214690901211e-06, 43.267586219674328)\n",
      "(0.026366508987303583, 4.2813323987193961e-06, 43.268663006056798)\n",
      "(0.026366508987303583, 7.8475997035146067e-06, 43.273809188388817)\n",
      "(0.026366508987303583, 1.4384498882876629e-05, 43.282705473239844)\n",
      "(0.026366508987303583, 2.6366508987303556e-05, 43.270425188379491)\n",
      "(0.026366508987303583, 4.8329302385717524e-05, 43.2784481401102)\n",
      "(0.026366508987303583, 8.8586679041008327e-05, 43.260568563006686)\n",
      "(0.026366508987303583, 0.0001623776739188721, 43.270149203491215)\n",
      "(0.026366508987303583, 0.00029763514416313193, 43.27500992213669)\n",
      "(0.026366508987303583, 0.00054555947811685149, 43.260187512774984)\n",
      "(0.026366508987303583, 0.001, 43.280040419033995)\n",
      "(0.042813323987193938, 1e-08, 43.208463307506335)\n",
      "(0.042813323987193938, 1.8329807108324374e-08, 43.204716863440424)\n",
      "(0.042813323987193938, 3.3598182862837814e-08, 43.206261782411659)\n",
      "(0.042813323987193938, 6.1584821106602674e-08, 43.207697254291915)\n",
      "(0.042813323987193938, 1.1288378916846883e-07, 43.207587136140845)\n",
      "(0.042813323987193938, 2.06913808111479e-07, 43.206581942645023)\n",
      "(0.042813323987193938, 3.7926901907322539e-07, 43.206963117534983)\n",
      "(0.042813323987193938, 6.951927961775605e-07, 43.206928936045323)\n",
      "(0.042813323987193938, 1.2742749857031322e-06, 43.206447554709129)\n",
      "(0.042813323987193938, 2.3357214690901211e-06, 43.207248105958328)\n",
      "(0.042813323987193938, 4.2813323987193961e-06, 43.206464735017256)\n",
      "(0.042813323987193938, 7.8475997035146067e-06, 43.207239395777762)\n",
      "(0.042813323987193938, 1.4384498882876629e-05, 43.207659895924607)\n",
      "(0.042813323987193938, 2.6366508987303556e-05, 43.206208012401206)\n",
      "(0.042813323987193938, 4.8329302385717524e-05, 43.206470108734571)\n",
      "(0.042813323987193938, 8.8586679041008327e-05, 43.20704453029515)\n",
      "(0.042813323987193938, 0.0001623776739188721, 43.206384802499748)\n",
      "(0.042813323987193938, 0.00029763514416313193, 43.20747525903397)\n",
      "(0.042813323987193938, 0.00054555947811685149, 43.207798347799653)\n",
      "(0.042813323987193938, 0.001, 43.207495148038298)\n",
      "(0.069519279617756058, 1e-08, 43.199393917841626)\n",
      "(0.069519279617756058, 1.8329807108324374e-08, 43.19944328037699)\n",
      "(0.069519279617756058, 3.3598182862837814e-08, 43.199433038639313)\n",
      "(0.069519279617756058, 6.1584821106602674e-08, 43.199456560551553)\n",
      "(0.069519279617756058, 1.1288378916846883e-07, 43.199521751146634)\n",
      "(0.069519279617756058, 2.06913808111479e-07, 43.199580658082432)\n",
      "(0.069519279617756058, 3.7926901907322539e-07, 43.199483168251284)\n",
      "(0.069519279617756058, 6.951927961775605e-07, 43.199668586140724)\n",
      "(0.069519279617756058, 1.2742749857031322e-06, 43.199724484102646)\n",
      "(0.069519279617756058, 2.3357214690901211e-06, 43.199453781424495)\n",
      "(0.069519279617756058, 4.2813323987193961e-06, 43.199497118991559)\n",
      "(0.069519279617756058, 7.8475997035146067e-06, 43.199526585949961)\n",
      "(0.069519279617756058, 1.4384498882876629e-05, 43.199622047566372)\n",
      "(0.069519279617756058, 2.6366508987303556e-05, 43.199408638433674)\n",
      "(0.069519279617756058, 4.8329302385717524e-05, 43.199500298768214)\n",
      "(0.069519279617756058, 8.8586679041008327e-05, 43.199422569697241)\n",
      "(0.069519279617756058, 0.0001623776739188721, 43.199327098551812)\n",
      "(0.069519279617756058, 0.00029763514416313193, 43.199229331800673)\n",
      "(0.069519279617756058, 0.00054555947811685149, 43.199188842831134)\n",
      "(0.069519279617756058, 0.001, 43.199146426502949)\n",
      "(0.11288378916846889, 1e-08, 43.19908563616746)\n",
      "(0.11288378916846889, 1.8329807108324374e-08, 43.199085161319516)\n",
      "(0.11288378916846889, 3.3598182862837814e-08, 43.199085386653941)\n",
      "(0.11288378916846889, 6.1584821106602674e-08, 43.199089775070462)\n",
      "(0.11288378916846889, 1.1288378916846883e-07, 43.199089135311354)\n",
      "(0.11288378916846889, 2.06913808111479e-07, 43.1990882794654)\n",
      "(0.11288378916846889, 3.7926901907322539e-07, 43.199086162176641)\n",
      "(0.11288378916846889, 6.951927961775605e-07, 43.199086248518533)\n",
      "(0.11288378916846889, 1.2742749857031322e-06, 43.199086012401864)\n",
      "(0.11288378916846889, 2.3357214690901211e-06, 43.199083033888513)\n",
      "(0.11288378916846889, 4.2813323987193961e-06, 43.199089608949308)\n",
      "(0.11288378916846889, 7.8475997035146067e-06, 43.199083542179906)\n",
      "(0.11288378916846889, 1.4384498882876629e-05, 43.199078703701879)\n",
      "(0.11288378916846889, 2.6366508987303556e-05, 43.199073379609537)\n",
      "(0.11288378916846889, 4.8329302385717524e-05, 43.199057769975539)\n",
      "(0.11288378916846889, 8.8586679041008327e-05, 43.199042674923909)\n",
      "(0.11288378916846889, 0.0001623776739188721, 43.199001573478355)\n",
      "(0.11288378916846889, 0.00029763514416313193, 43.198929212020026)\n",
      "(0.11288378916846889, 0.00054555947811685149, 43.198800141585039)\n",
      "(0.11288378916846889, 0.001, 43.198585014454011)\n",
      "(0.18329807108324356, 1e-08, 8.7811731453706878e+140)\n",
      "(0.18329807108324356, 1.8329807108324374e-08, 1.145790319870302e+140)\n",
      "(0.18329807108324356, 3.3598182862837814e-08, 3.1603468293665722e+141)\n",
      "(0.18329807108324356, 6.1584821106602674e-08, 3.3362005720860255e+141)\n",
      "(0.18329807108324356, 1.1288378916846883e-07, 3.854059521768175e+140)\n",
      "(0.18329807108324356, 2.06913808111479e-07, 6.2335012133379062e+140)\n",
      "(0.18329807108324356, 3.7926901907322539e-07, 1.1120838542290191e+141)\n",
      "(0.18329807108324356, 6.951927961775605e-07, 4.2472568787643133e+141)\n",
      "(0.18329807108324356, 1.2742749857031322e-06, 1.2018582463512988e+141)\n",
      "(0.18329807108324356, 2.3357214690901211e-06, 4.5956102346743459e+140)\n",
      "(0.18329807108324356, 4.2813323987193961e-06, 1.543975677268639e+141)\n",
      "(0.18329807108324356, 7.8475997035146067e-06, 7.4281951317353833e+140)\n",
      "(0.18329807108324356, 1.4384498882876629e-05, 2.9628381850049262e+141)\n",
      "(0.18329807108324356, 2.6366508987303556e-05, 7.5560737954431692e+140)\n",
      "(0.18329807108324356, 4.8329302385717524e-05, 7.1311666299602022e+140)\n",
      "(0.18329807108324356, 8.8586679041008327e-05, 1.389420954636672e+141)\n",
      "(0.18329807108324356, 0.0001623776739188721, 3.3007062808140624e+141)\n",
      "(0.18329807108324356, 0.00029763514416313193, 2.9240769719321911e+141)\n",
      "(0.18329807108324356, 0.00054555947811685149, 5.1669266697663442e+140)\n",
      "(0.18329807108324356, 0.001, 1.5889118923769176e+141)\n",
      "(0.29763514416313175, 1e-08, inf)\n",
      "(0.29763514416313175, 1.8329807108324374e-08, inf)\n",
      "(0.29763514416313175, 3.3598182862837814e-08, inf)\n",
      "(0.29763514416313175, 6.1584821106602674e-08, inf)\n",
      "(0.29763514416313175, 1.1288378916846883e-07, inf)\n",
      "(0.29763514416313175, 2.06913808111479e-07, inf)\n",
      "(0.29763514416313175, 3.7926901907322539e-07, inf)\n",
      "(0.29763514416313175, 6.951927961775605e-07, inf)\n",
      "(0.29763514416313175, 1.2742749857031322e-06, inf)\n",
      "(0.29763514416313175, 2.3357214690901211e-06, inf)\n",
      "(0.29763514416313175, 4.2813323987193961e-06, inf)\n",
      "(0.29763514416313175, 7.8475997035146067e-06, inf)\n",
      "(0.29763514416313175, 1.4384498882876629e-05, inf)\n",
      "(0.29763514416313175, 2.6366508987303556e-05, inf)\n",
      "(0.29763514416313175, 4.8329302385717524e-05, inf)\n",
      "(0.29763514416313175, 8.8586679041008327e-05, inf)\n",
      "(0.29763514416313175, 0.0001623776739188721, inf)\n",
      "(0.29763514416313175, 0.00029763514416313193, inf)\n",
      "(0.29763514416313175, 0.00054555947811685149, inf)\n",
      "(0.29763514416313175, 0.001, inf)\n",
      "(0.48329302385717521, 1e-08, nan)\n",
      "(0.48329302385717521, 1.8329807108324374e-08, nan)\n",
      "(0.48329302385717521, 3.3598182862837814e-08, nan)\n",
      "(0.48329302385717521, 6.1584821106602674e-08, nan)\n",
      "(0.48329302385717521, 1.1288378916846883e-07, nan)\n",
      "(0.48329302385717521, 2.06913808111479e-07, nan)\n",
      "(0.48329302385717521, 3.7926901907322539e-07, nan)\n",
      "(0.48329302385717521, 6.951927961775605e-07, nan)\n",
      "(0.48329302385717521, 1.2742749857031322e-06, nan)\n",
      "(0.48329302385717521, 2.3357214690901211e-06, nan)\n",
      "(0.48329302385717521, 4.2813323987193961e-06, nan)\n",
      "(0.48329302385717521, 7.8475997035146067e-06, nan)\n",
      "(0.48329302385717521, 1.4384498882876629e-05, nan)\n",
      "(0.48329302385717521, 2.6366508987303556e-05, nan)\n",
      "(0.48329302385717521, 4.8329302385717524e-05, nan)\n",
      "(0.48329302385717521, 8.8586679041008327e-05, nan)\n",
      "(0.48329302385717521, 0.0001623776739188721, nan)\n",
      "(0.48329302385717521, 0.00029763514416313193, nan)\n",
      "(0.48329302385717521, 0.00054555947811685149, nan)\n",
      "(0.48329302385717521, 0.001, nan)\n",
      "(0.78475997035146106, 1e-08, nan)\n",
      "(0.78475997035146106, 1.8329807108324374e-08, nan)\n",
      "(0.78475997035146106, 3.3598182862837814e-08, nan)\n",
      "(0.78475997035146106, 6.1584821106602674e-08, nan)\n",
      "(0.78475997035146106, 1.1288378916846883e-07, nan)\n",
      "(0.78475997035146106, 2.06913808111479e-07, nan)\n",
      "(0.78475997035146106, 3.7926901907322539e-07, nan)\n",
      "(0.78475997035146106, 6.951927961775605e-07, nan)\n",
      "(0.78475997035146106, 1.2742749857031322e-06, nan)\n",
      "(0.78475997035146106, 2.3357214690901211e-06, nan)\n",
      "(0.78475997035146106, 4.2813323987193961e-06, nan)\n",
      "(0.78475997035146106, 7.8475997035146067e-06, nan)\n",
      "(0.78475997035146106, 1.4384498882876629e-05, nan)\n",
      "(0.78475997035146106, 2.6366508987303556e-05, nan)\n",
      "(0.78475997035146106, 4.8329302385717524e-05, nan)\n",
      "(0.78475997035146106, 8.8586679041008327e-05, nan)\n",
      "(0.78475997035146106, 0.0001623776739188721, nan)\n",
      "(0.78475997035146106, 0.00029763514416313193, nan)\n",
      "(0.78475997035146106, 0.00054555947811685149, nan)\n",
      "(0.78475997035146106, 0.001, nan)\n",
      "(1.2742749857031335, 1e-08, nan)\n",
      "(1.2742749857031335, 1.8329807108324374e-08, nan)\n",
      "(1.2742749857031335, 3.3598182862837814e-08, nan)\n",
      "(1.2742749857031335, 6.1584821106602674e-08, nan)\n",
      "(1.2742749857031335, 1.1288378916846883e-07, nan)\n",
      "(1.2742749857031335, 2.06913808111479e-07, nan)\n",
      "(1.2742749857031335, 3.7926901907322539e-07, nan)\n",
      "(1.2742749857031335, 6.951927961775605e-07, nan)\n",
      "(1.2742749857031335, 1.2742749857031322e-06, nan)\n",
      "(1.2742749857031335, 2.3357214690901211e-06, nan)\n",
      "(1.2742749857031335, 4.2813323987193961e-06, nan)\n",
      "(1.2742749857031335, 7.8475997035146067e-06, nan)\n",
      "(1.2742749857031335, 1.4384498882876629e-05, nan)\n",
      "(1.2742749857031335, 2.6366508987303556e-05, nan)\n",
      "(1.2742749857031335, 4.8329302385717524e-05, nan)\n",
      "(1.2742749857031335, 8.8586679041008327e-05, nan)\n",
      "(1.2742749857031335, 0.0001623776739188721, nan)\n",
      "(1.2742749857031335, 0.00029763514416313193, nan)\n",
      "(1.2742749857031335, 0.00054555947811685149, nan)\n",
      "(1.2742749857031335, 0.001, nan)\n",
      "(2.0691380811147901, 1e-08, nan)\n",
      "(2.0691380811147901, 1.8329807108324374e-08, nan)\n",
      "(2.0691380811147901, 3.3598182862837814e-08, nan)\n",
      "(2.0691380811147901, 6.1584821106602674e-08, nan)\n",
      "(2.0691380811147901, 1.1288378916846883e-07, nan)\n",
      "(2.0691380811147901, 2.06913808111479e-07, nan)\n",
      "(2.0691380811147901, 3.7926901907322539e-07, nan)\n",
      "(2.0691380811147901, 6.951927961775605e-07, nan)\n",
      "(2.0691380811147901, 1.2742749857031322e-06, nan)\n",
      "(2.0691380811147901, 2.3357214690901211e-06, nan)\n",
      "(2.0691380811147901, 4.2813323987193961e-06, nan)\n",
      "(2.0691380811147901, 7.8475997035146067e-06, nan)\n",
      "(2.0691380811147901, 1.4384498882876629e-05, nan)\n",
      "(2.0691380811147901, 2.6366508987303556e-05, nan)\n",
      "(2.0691380811147901, 4.8329302385717524e-05, nan)\n",
      "(2.0691380811147901, 8.8586679041008327e-05, nan)\n",
      "(2.0691380811147901, 0.0001623776739188721, nan)\n",
      "(2.0691380811147901, 0.00029763514416313193, nan)\n",
      "(2.0691380811147901, 0.00054555947811685149, nan)\n",
      "(2.0691380811147901, 0.001, nan)\n",
      "(3.3598182862837809, 1e-08, nan)\n",
      "(3.3598182862837809, 1.8329807108324374e-08, nan)\n",
      "(3.3598182862837809, 3.3598182862837814e-08, nan)\n",
      "(3.3598182862837809, 6.1584821106602674e-08, nan)\n",
      "(3.3598182862837809, 1.1288378916846883e-07, nan)\n",
      "(3.3598182862837809, 2.06913808111479e-07, nan)\n",
      "(3.3598182862837809, 3.7926901907322539e-07, nan)\n",
      "(3.3598182862837809, 6.951927961775605e-07, nan)\n",
      "(3.3598182862837809, 1.2742749857031322e-06, nan)\n",
      "(3.3598182862837809, 2.3357214690901211e-06, nan)\n",
      "(3.3598182862837809, 4.2813323987193961e-06, nan)\n",
      "(3.3598182862837809, 7.8475997035146067e-06, nan)\n",
      "(3.3598182862837809, 1.4384498882876629e-05, nan)\n",
      "(3.3598182862837809, 2.6366508987303556e-05, nan)\n",
      "(3.3598182862837809, 4.8329302385717524e-05, nan)\n",
      "(3.3598182862837809, 8.8586679041008327e-05, nan)\n",
      "(3.3598182862837809, 0.0001623776739188721, nan)\n",
      "(3.3598182862837809, 0.00029763514416313193, nan)\n",
      "(3.3598182862837809, 0.00054555947811685149, nan)\n",
      "(3.3598182862837809, 0.001, nan)\n",
      "(5.4555947811685144, 1e-08, nan)\n",
      "(5.4555947811685144, 1.8329807108324374e-08, nan)\n",
      "(5.4555947811685144, 3.3598182862837814e-08, nan)\n",
      "(5.4555947811685144, 6.1584821106602674e-08, nan)\n",
      "(5.4555947811685144, 1.1288378916846883e-07, nan)\n",
      "(5.4555947811685144, 2.06913808111479e-07, nan)\n",
      "(5.4555947811685144, 3.7926901907322539e-07, nan)\n",
      "(5.4555947811685144, 6.951927961775605e-07, nan)\n",
      "(5.4555947811685144, 1.2742749857031322e-06, nan)\n",
      "(5.4555947811685144, 2.3357214690901211e-06, nan)\n",
      "(5.4555947811685144, 4.2813323987193961e-06, nan)\n",
      "(5.4555947811685144, 7.8475997035146067e-06, nan)\n",
      "(5.4555947811685144, 1.4384498882876629e-05, nan)\n",
      "(5.4555947811685144, 2.6366508987303556e-05, nan)\n",
      "(5.4555947811685144, 4.8329302385717524e-05, nan)\n",
      "(5.4555947811685144, 8.8586679041008327e-05, nan)\n",
      "(5.4555947811685144, 0.0001623776739188721, nan)\n",
      "(5.4555947811685144, 0.00029763514416313193, nan)\n",
      "(5.4555947811685144, 0.00054555947811685149, nan)\n",
      "(5.4555947811685144, 0.001, nan)\n",
      "(8.8586679041008232, 1e-08, nan)\n",
      "(8.8586679041008232, 1.8329807108324374e-08, nan)\n",
      "(8.8586679041008232, 3.3598182862837814e-08, nan)\n",
      "(8.8586679041008232, 6.1584821106602674e-08, nan)\n",
      "(8.8586679041008232, 1.1288378916846883e-07, nan)\n",
      "(8.8586679041008232, 2.06913808111479e-07, nan)\n",
      "(8.8586679041008232, 3.7926901907322539e-07, nan)\n",
      "(8.8586679041008232, 6.951927961775605e-07, nan)\n",
      "(8.8586679041008232, 1.2742749857031322e-06, nan)\n",
      "(8.8586679041008232, 2.3357214690901211e-06, nan)\n",
      "(8.8586679041008232, 4.2813323987193961e-06, nan)\n",
      "(8.8586679041008232, 7.8475997035146067e-06, nan)\n",
      "(8.8586679041008232, 1.4384498882876629e-05, nan)\n",
      "(8.8586679041008232, 2.6366508987303556e-05, nan)\n",
      "(8.8586679041008232, 4.8329302385717524e-05, nan)\n",
      "(8.8586679041008232, 8.8586679041008327e-05, nan)\n",
      "(8.8586679041008232, 0.0001623776739188721, nan)\n",
      "(8.8586679041008232, 0.00029763514416313193, nan)\n",
      "(8.8586679041008232, 0.00054555947811685149, nan)\n",
      "(8.8586679041008232, 0.001, nan)\n",
      "(14.384498882876629, 1e-08, nan)\n",
      "(14.384498882876629, 1.8329807108324374e-08, nan)\n",
      "(14.384498882876629, 3.3598182862837814e-08, nan)\n",
      "(14.384498882876629, 6.1584821106602674e-08, nan)\n",
      "(14.384498882876629, 1.1288378916846883e-07, nan)\n",
      "(14.384498882876629, 2.06913808111479e-07, nan)\n",
      "(14.384498882876629, 3.7926901907322539e-07, nan)\n",
      "(14.384498882876629, 6.951927961775605e-07, nan)\n",
      "(14.384498882876629, 1.2742749857031322e-06, nan)\n",
      "(14.384498882876629, 2.3357214690901211e-06, nan)\n",
      "(14.384498882876629, 4.2813323987193961e-06, nan)\n",
      "(14.384498882876629, 7.8475997035146067e-06, nan)\n",
      "(14.384498882876629, 1.4384498882876629e-05, nan)\n",
      "(14.384498882876629, 2.6366508987303556e-05, nan)\n",
      "(14.384498882876629, 4.8329302385717524e-05, nan)\n",
      "(14.384498882876629, 8.8586679041008327e-05, nan)\n",
      "(14.384498882876629, 0.0001623776739188721, nan)\n",
      "(14.384498882876629, 0.00029763514416313193, nan)\n",
      "(14.384498882876629, 0.00054555947811685149, nan)\n",
      "(14.384498882876629, 0.001, nan)\n",
      "(23.357214690901213, 1e-08, nan)\n",
      "(23.357214690901213, 1.8329807108324374e-08, nan)\n",
      "(23.357214690901213, 3.3598182862837814e-08, nan)\n",
      "(23.357214690901213, 6.1584821106602674e-08, nan)\n",
      "(23.357214690901213, 1.1288378916846883e-07, nan)\n",
      "(23.357214690901213, 2.06913808111479e-07, nan)\n",
      "(23.357214690901213, 3.7926901907322539e-07, nan)\n",
      "(23.357214690901213, 6.951927961775605e-07, nan)\n",
      "(23.357214690901213, 1.2742749857031322e-06, nan)\n",
      "(23.357214690901213, 2.3357214690901211e-06, nan)\n",
      "(23.357214690901213, 4.2813323987193961e-06, nan)\n",
      "(23.357214690901213, 7.8475997035146067e-06, nan)\n",
      "(23.357214690901213, 1.4384498882876629e-05, nan)\n",
      "(23.357214690901213, 2.6366508987303556e-05, nan)\n",
      "(23.357214690901213, 4.8329302385717524e-05, nan)\n",
      "(23.357214690901213, 8.8586679041008327e-05, nan)\n",
      "(23.357214690901213, 0.0001623776739188721, nan)\n",
      "(23.357214690901213, 0.00029763514416313193, nan)\n",
      "(23.357214690901213, 0.00054555947811685149, nan)\n",
      "(23.357214690901213, 0.001, nan)\n",
      "(37.92690190732246, 1e-08, nan)\n",
      "(37.92690190732246, 1.8329807108324374e-08, nan)\n",
      "(37.92690190732246, 3.3598182862837814e-08, nan)\n",
      "(37.92690190732246, 6.1584821106602674e-08, nan)\n",
      "(37.92690190732246, 1.1288378916846883e-07, nan)\n",
      "(37.92690190732246, 2.06913808111479e-07, nan)\n",
      "(37.92690190732246, 3.7926901907322539e-07, nan)\n",
      "(37.92690190732246, 6.951927961775605e-07, nan)\n",
      "(37.92690190732246, 1.2742749857031322e-06, nan)\n",
      "(37.92690190732246, 2.3357214690901211e-06, nan)\n",
      "(37.92690190732246, 4.2813323987193961e-06, nan)\n",
      "(37.92690190732246, 7.8475997035146067e-06, nan)\n",
      "(37.92690190732246, 1.4384498882876629e-05, nan)\n",
      "(37.92690190732246, 2.6366508987303556e-05, nan)\n",
      "(37.92690190732246, 4.8329302385717524e-05, nan)\n",
      "(37.92690190732246, 8.8586679041008327e-05, nan)\n",
      "(37.92690190732246, 0.0001623776739188721, nan)\n",
      "(37.92690190732246, 0.00029763514416313193, nan)\n",
      "(37.92690190732246, 0.00054555947811685149, nan)\n",
      "(37.92690190732246, 0.001, nan)\n",
      "(61.584821106602604, 1e-08, nan)\n",
      "(61.584821106602604, 1.8329807108324374e-08, nan)\n",
      "(61.584821106602604, 3.3598182862837814e-08, nan)\n",
      "(61.584821106602604, 6.1584821106602674e-08, nan)\n",
      "(61.584821106602604, 1.1288378916846883e-07, nan)\n",
      "(61.584821106602604, 2.06913808111479e-07, nan)\n",
      "(61.584821106602604, 3.7926901907322539e-07, nan)\n",
      "(61.584821106602604, 6.951927961775605e-07, nan)\n",
      "(61.584821106602604, 1.2742749857031322e-06, nan)\n",
      "(61.584821106602604, 2.3357214690901211e-06, nan)\n",
      "(61.584821106602604, 4.2813323987193961e-06, nan)\n",
      "(61.584821106602604, 7.8475997035146067e-06, nan)\n",
      "(61.584821106602604, 1.4384498882876629e-05, nan)\n",
      "(61.584821106602604, 2.6366508987303556e-05, nan)\n",
      "(61.584821106602604, 4.8329302385717524e-05, nan)\n",
      "(61.584821106602604, 8.8586679041008327e-05, nan)\n",
      "(61.584821106602604, 0.0001623776739188721, nan)\n",
      "(61.584821106602604, 0.00029763514416313193, nan)\n",
      "(61.584821106602604, 0.00054555947811685149, nan)\n",
      "(61.584821106602604, 0.001, nan)\n",
      "(100.0, 1e-08, nan)\n",
      "(100.0, 1.8329807108324374e-08, nan)\n",
      "(100.0, 3.3598182862837814e-08, nan)\n",
      "(100.0, 6.1584821106602674e-08, nan)\n",
      "(100.0, 1.1288378916846883e-07, nan)\n",
      "(100.0, 2.06913808111479e-07, nan)\n",
      "(100.0, 3.7926901907322539e-07, nan)\n",
      "(100.0, 6.951927961775605e-07, nan)\n",
      "(100.0, 1.2742749857031322e-06, nan)\n",
      "(100.0, 2.3357214690901211e-06, nan)\n",
      "(100.0, 4.2813323987193961e-06, nan)\n",
      "(100.0, 7.8475997035146067e-06, nan)\n",
      "(100.0, 1.4384498882876629e-05, nan)\n",
      "(100.0, 2.6366508987303556e-05, nan)\n",
      "(100.0, 4.8329302385717524e-05, nan)\n",
      "(100.0, 8.8586679041008327e-05, nan)\n",
      "(100.0, 0.0001623776739188721, nan)\n",
      "(100.0, 0.00029763514416313193, nan)\n",
      "(100.0, 0.00054555947811685149, nan)\n",
      "(100.0, 0.001, nan)\n"
     ]
    }
   ],
   "source": [
    "from helper import *\n",
    "from sgd import *\n",
    "\n",
    "k = 5 #number of folds for cross validation\n",
    "\n",
    "if X_data.shape[0] % k != 0:\n",
    "    print(\"Number of samples not divisible by k!\")\n",
    "    sys.exit(0)\n",
    "    \n",
    "print(\"Total samples: \", X_data.shape[0])\n",
    "\n",
    "total_error = 0.0\n",
    "\n",
    "X = np.split(X_data[:,2:], k, axis=0)\n",
    "y = np.split(X_data[:,1], k, axis=0)\n",
    "\n",
    "print(X[0].shape)\n",
    "print(y[0].shape)\n",
    "\n",
    "loss_dict = []\n",
    "#lr_dict = []\n",
    "#mu_dict = []\n",
    "para_dict = []\n",
    "\n",
    "lr_range = np.logspace(-14, 2, num=20)\n",
    "mu_range = np.logspace(-14, 2, num=20)\n",
    "\n",
    "#Apply cross validation\n",
    "for lr in lr_range:\n",
    "    for mu in mu_range:\n",
    "        \n",
    "        #Initialize everything\n",
    "        w = np.random.normal(0.0, 1.0, size=(X_train.shape[1])) #must be adaptable to X\n",
    "\n",
    "        \n",
    "        total_error = 0\n",
    "         \n",
    "        for i in range(k):\n",
    "            X_train, y_train, X_cv, y_cv = get_train_cross_dataset(X, y, i)\n",
    "            \n",
    "            train_loss_dict, cv_loss_dict, w = run_sgd(\n",
    "                                                        X_train=X_train, \n",
    "                                                        y_train=y_train,\n",
    "                                                        X_cv=X_cv, \n",
    "                                                        y_cv=y_cv,\n",
    "                                                        w=w, \n",
    "                                                        mu=mu, \n",
    "                                                        lr=lr, \n",
    "                                                        fn_loss=rms, \n",
    "                                                        MAX_STEPS=100\n",
    "                                                        )    \n",
    "            ##Measure loss\n",
    "            loss = cv_loss_dict[-1] #last one describes the achieved loss\n",
    "            total_error += loss\n",
    "            \n",
    "            \n",
    "        total_error /= k\n",
    "        \n",
    "        #lr_dict.append(lr)\n",
    "        #mu_dict.append(mu)\n",
    "        print((lr, mu, total_error))\n",
    "        para_dict.append((lr, mu))\n",
    "        loss_dict.append(total_error)  \n",
    "\n",
    "#print(lr_dict)\n",
    "#print(mu_dict)\n",
    "#print(loss_dict)\n",
    "    "
   ]
  },
  {
   "cell_type": "code",
   "execution_count": 72,
   "metadata": {
    "collapsed": false
   },
   "outputs": [
    {
     "data": {
      "image/png": "[encoded data removed]",
      "text/plain": [
       "<matplotlib.figure.Figure at 0x7fdcdce32dd0>"
      ]
     },
     "metadata": {},
     "output_type": "display_data"
    }
   ],
   "source": [
    "plt.subplot(3, 1, 1)\n",
    "plt.title('Absolute training loss')\n",
    "plt.xlabel('Combinations')\n",
    "plt.plot(loss_dict, 'o')\n",
    "#plt.plot(lam_dict, 'o', label='baseline')\n",
    "#plt.plot(loss_dict, 'o', label='batchnorm')\n",
    "plt.show()"
   ]
  },
  {
   "cell_type": "code",
   "execution_count": 73,
   "metadata": {
    "collapsed": false
   },
   "outputs": [
    {
     "name": "stdout",
     "output_type": "stream",
     "text": [
      "('Minimal loss', 43.198585014454011)\n",
      "('Minimizing lr and mu: ', (0.48329302385717521, 1e-08))\n"
     ]
    }
   ],
   "source": [
    "print(\"Minimal loss\", min(loss_dict))\n",
    "index = np.argmin(loss_dict)\n",
    "print(\"Minimizing lr and mu: \", para_dict[index])"
   ]
  },
  {
   "cell_type": "markdown",
   "metadata": {},
   "source": [
    "#### Training Error vs CV Error"
   ]
  },
  {
   "cell_type": "code",
   "execution_count": null,
   "metadata": {
    "collapsed": true
   },
   "outputs": [],
   "source": [
    "STEPS = 10000\n",
    "\n",
    "X_train, y_train, X_cv, y_cv = get_train_cross_dataset(X, y, i)\n",
    "            \n",
    "train_loss_dict, cv_loss_dict, w = run_sgd(\n",
    "                                            X_train=X_train, \n",
    "                                            y_train=y_train,\n",
    "                                            X_cv=X_cv, \n",
    "                                            y_cv=y_cv,\n",
    "                                            w=w, \n",
    "                                            mu=mu, \n",
    "                                            lr=lr, \n",
    "                                            fn_loss=rms, \n",
    "                                            MAX_STEPS=10000\n",
    "                                        )"
   ]
  },
  {
   "cell_type": "code",
   "execution_count": 61,
   "metadata": {
    "collapsed": false
   },
   "outputs": [
    {
     "ename": "NameError",
     "evalue": "name 'STEPS' is not defined",
     "output_type": "error",
     "traceback": [
      "\u001b[0;31m---------------------------------------------------------------------------\u001b[0m",
      "\u001b[0;31mNameError\u001b[0m                                 Traceback (most recent call last)",
      "\u001b[0;32m<ipython-input-61-025358119beb>\u001b[0m in \u001b[0;36m<module>\u001b[0;34m()\u001b[0m\n\u001b[1;32m      3\u001b[0m \u001b[0mplt\u001b[0m\u001b[0;34m.\u001b[0m\u001b[0mtitle\u001b[0m\u001b[0;34m(\u001b[0m\u001b[0;34m'Absolute training loss'\u001b[0m\u001b[0;34m)\u001b[0m\u001b[0;34m\u001b[0m\u001b[0m\n\u001b[1;32m      4\u001b[0m \u001b[0mplt\u001b[0m\u001b[0;34m.\u001b[0m\u001b[0mxlabel\u001b[0m\u001b[0;34m(\u001b[0m\u001b[0;34m'Combinations'\u001b[0m\u001b[0;34m)\u001b[0m\u001b[0;34m\u001b[0m\u001b[0m\n\u001b[0;32m----> 5\u001b[0;31m \u001b[0mplt\u001b[0m\u001b[0;34m.\u001b[0m\u001b[0mplot\u001b[0m\u001b[0;34m(\u001b[0m\u001b[0mnp\u001b[0m\u001b[0;34m.\u001b[0m\u001b[0marange\u001b[0m\u001b[0;34m(\u001b[0m\u001b[0mSTEPS\u001b[0m\u001b[0;34m)\u001b[0m\u001b[0;34m,\u001b[0m \u001b[0mtrain_loss_dict\u001b[0m\u001b[0;34m,\u001b[0m \u001b[0;34m'o'\u001b[0m\u001b[0;34m,\u001b[0m \u001b[0mnp\u001b[0m\u001b[0;34m.\u001b[0m\u001b[0marange\u001b[0m\u001b[0;34m(\u001b[0m\u001b[0mSTEPS\u001b[0m\u001b[0;34m)\u001b[0m\u001b[0;34m,\u001b[0m \u001b[0mcv_loss_dict\u001b[0m\u001b[0;34m,\u001b[0m \u001b[0;34m'r--'\u001b[0m\u001b[0;34m)\u001b[0m\u001b[0;34m\u001b[0m\u001b[0m\n\u001b[0m\u001b[1;32m      6\u001b[0m \u001b[0;34m\u001b[0m\u001b[0m\n\u001b[1;32m      7\u001b[0m \u001b[0mplt\u001b[0m\u001b[0;34m.\u001b[0m\u001b[0mshow\u001b[0m\u001b[0;34m(\u001b[0m\u001b[0;34m)\u001b[0m\u001b[0;34m\u001b[0m\u001b[0m\n",
      "\u001b[0;31mNameError\u001b[0m: name 'STEPS' is not defined"
     ]
    },
    {
     "data": {
      "image/png": "[encoded data removed]",
      "text/plain": [
       "<matplotlib.figure.Figure at 0x7fdcdd090f10>"
      ]
     },
     "metadata": {},
     "output_type": "display_data"
    }
   ],
   "source": [
    "#Show plot CV error vs training error\n",
    "plt.subplot(3, 1, 1)\n",
    "plt.title('Absolute training loss')\n",
    "plt.xlabel('Combinations')\n",
    "plt.plot(np.arange(STEPS), train_loss_dict, 'o', np.arange(STEPS), cv_loss_dict, 'r--')\n",
    "\n",
    "plt.show()"
   ]
  },
  {
   "cell_type": "markdown",
   "metadata": {},
   "source": [
    "### Gradient Descent with polynomial Kernel of degree d = 2"
   ]
  },
  {
   "cell_type": "code",
   "execution_count": null,
   "metadata": {
    "collapsed": true
   },
   "outputs": [],
   "source": []
  },
  {
   "cell_type": "markdown",
   "metadata": {
    "collapsed": true
   },
   "source": [
    "## Bring the function into the submission format: Post-Processing\n",
    "We have trained the weights using the training data (X_train). Remember that the sample submission data looks like the following. That means we need to predict for the test data."
   ]
  },
  {
   "cell_type": "code",
   "execution_count": 9,
   "metadata": {
    "collapsed": false
   },
   "outputs": [],
   "source": [
    "if False:\n",
    "    print(\"Sample\")\n",
    "    print(data_sample.head(cases))\n",
    "    print(data_sample.tail(cases))\n",
    "    print(\"Test\")\n",
    "    print(data_test.head(cases))\n",
    "    print(data_test.tail(cases))\n",
    "    print(X_finaltest.shape)\n",
    "    print(weights.shape)\n",
    "    print(y_pred_test.shape)\n",
    "    print(y_pred_test)"
   ]
  },
  {
   "cell_type": "markdown",
   "metadata": {},
   "source": [
    "First of all, calculate the predictions. Don't forget to stack a bias column. The submission format includes the ID's taken from the X-training data. Each invidual record has a predicted 'y' record aswell."
   ]
  },
  {
   "cell_type": "code",
   "execution_count": 10,
   "metadata": {
    "collapsed": false
   },
   "outputs": [
    {
     "ename": "ValueError",
     "evalue": "shapes (2000,11) and (10,) not aligned: 11 (dim 1) != 10 (dim 0)",
     "output_type": "error",
     "traceback": [
      "\u001b[0;31m---------------------------------------------------------------------------\u001b[0m",
      "\u001b[0;31mValueError\u001b[0m                                Traceback (most recent call last)",
      "\u001b[0;32m<ipython-input-10-a1d313d33a7b>\u001b[0m in \u001b[0;36m<module>\u001b[0;34m()\u001b[0m\n\u001b[0;32m----> 1\u001b[0;31m \u001b[0my_pred_test\u001b[0m \u001b[0;34m=\u001b[0m \u001b[0mnp\u001b[0m\u001b[0;34m.\u001b[0m\u001b[0mdot\u001b[0m\u001b[0;34m(\u001b[0m\u001b[0mnp\u001b[0m\u001b[0;34m.\u001b[0m\u001b[0mcolumn_stack\u001b[0m\u001b[0;34m(\u001b[0m\u001b[0;34m(\u001b[0m\u001b[0mX_finaltest\u001b[0m\u001b[0;34m,\u001b[0m \u001b[0mnp\u001b[0m\u001b[0;34m.\u001b[0m\u001b[0mones\u001b[0m\u001b[0;34m(\u001b[0m\u001b[0mX_finaltest\u001b[0m\u001b[0;34m.\u001b[0m\u001b[0mshape\u001b[0m\u001b[0;34m[\u001b[0m\u001b[0;36m0\u001b[0m\u001b[0;34m]\u001b[0m\u001b[0;34m)\u001b[0m\u001b[0;34m)\u001b[0m\u001b[0;34m)\u001b[0m\u001b[0;34m,\u001b[0m \u001b[0mweights\u001b[0m\u001b[0;34m)\u001b[0m\u001b[0;34m\u001b[0m\u001b[0m\n\u001b[0m\u001b[1;32m      2\u001b[0m \u001b[0msub_data\u001b[0m \u001b[0;34m=\u001b[0m \u001b[0mnp\u001b[0m\u001b[0;34m.\u001b[0m\u001b[0mcolumn_stack\u001b[0m\u001b[0;34m(\u001b[0m\u001b[0;34m(\u001b[0m\u001b[0mdata_test\u001b[0m\u001b[0;34m.\u001b[0m\u001b[0mvalues\u001b[0m\u001b[0;34m[\u001b[0m\u001b[0;34m:\u001b[0m\u001b[0;34m,\u001b[0m\u001b[0;36m0\u001b[0m\u001b[0;34m]\u001b[0m\u001b[0;34m,\u001b[0m \u001b[0my_pred_test\u001b[0m\u001b[0;34m)\u001b[0m\u001b[0;34m)\u001b[0m\u001b[0;34m\u001b[0m\u001b[0m\n\u001b[1;32m      3\u001b[0m \u001b[0;32mprint\u001b[0m\u001b[0;34m(\u001b[0m\u001b[0msub_data\u001b[0m\u001b[0;34m.\u001b[0m\u001b[0mshape\u001b[0m\u001b[0;34m)\u001b[0m\u001b[0;34m\u001b[0m\u001b[0m\n\u001b[1;32m      4\u001b[0m \u001b[0;32mprint\u001b[0m\u001b[0;34m(\u001b[0m\u001b[0msub_data\u001b[0m\u001b[0;34m)\u001b[0m\u001b[0;34m\u001b[0m\u001b[0m\n",
      "\u001b[0;31mValueError\u001b[0m: shapes (2000,11) and (10,) not aligned: 11 (dim 1) != 10 (dim 0)"
     ]
    }
   ],
   "source": [
    "y_pred_test = np.dot(np.column_stack((X_finaltest, np.ones(X_finaltest.shape[0]))), weights)\n",
    "sub_data = np.column_stack((data_test.values[:,0], y_pred_test))\n",
    "print(sub_data.shape)\n",
    "print(sub_data)"
   ]
  },
  {
   "cell_type": "markdown",
   "metadata": {},
   "source": [
    "This look alright... Let's wrap it in a pandas-dataframe (that's what the datastructures including the headers with 'ID' and 'y' are called)"
   ]
  },
  {
   "cell_type": "code",
   "execution_count": 78,
   "metadata": {
    "collapsed": false
   },
   "outputs": [
    {
     "name": "stdout",
     "output_type": "stream",
     "text": [
      "         Id                         y\n",
      "0     10000  -66.00242349023130827845\n",
      "1     10001  451.40650440115518904349\n",
      "2     10002 -461.67641706029962733737\n",
      "3     10003   40.50120875372320483621\n",
      "4     10004 -126.74472245403632086891\n",
      "5     10005 -342.53455181925158967715\n",
      "6     10006 -396.55554211359054761488\n",
      "7     10007  335.54127907908764427702\n",
      "8     10008  -99.51242087062264829456\n",
      "9     10009  304.81253980627650435054\n",
      "10    10010   68.89453048978556637394\n",
      "11    10011  412.36919545590848201755\n",
      "12    10012   54.94237102476856193789\n",
      "13    10013  -17.00555075478039768200\n",
      "14    10014 -597.84995757226056412037\n",
      "15    10015  443.50228878641490837254\n",
      "16    10016  144.77448697804288713087\n",
      "17    10017  -57.41116367253620467181\n",
      "18    10018  134.38782757746042761937\n",
      "19    10019 -108.98377598910846586477\n",
      "20    10020  153.82482842506630049684\n",
      "21    10021  611.73598360220182712510\n",
      "22    10022  588.38965033842225693661\n",
      "23    10023 -131.01679995802052758336\n",
      "24    10024  -61.13562114123003965460\n",
      "25    10025 -374.24849531697236670880\n",
      "26    10026   74.15799307965411912846\n",
      "27    10027  137.43837873610536348679\n",
      "28    10028  420.08661179679069164195\n",
      "29    10029  196.76562571344160801345\n",
      "...     ...                       ...\n",
      "1970  11970 -228.37612245128613608358\n",
      "1971  11971  198.06160680946024399418\n",
      "1972  11972 -713.00647693430278195592\n",
      "1973  11973  -89.68186474183370648916\n",
      "1974  11974 -480.00457016777994567747\n",
      "1975  11975 -271.73339592270008324704\n",
      "1976  11976  565.32363993667070189986\n",
      "1977  11977   96.11148263232833244274\n",
      "1978  11978  178.61335856961233048423\n",
      "1979  11979  -61.17433245470591174353\n",
      "1980  11980 -368.69168724005919557385\n",
      "1981  11981    4.84774657817800846971\n",
      "1982  11982  414.41382134440124218600\n",
      "1983  11983 -760.31831679305116722389\n",
      "1984  11984   84.91271532686188550088\n",
      "1985  11985 -251.84732552029109342584\n",
      "1986  11986  280.70758458951968350448\n",
      "1987  11987 -391.25027825107639500857\n",
      "1988  11988  608.49911717037446123868\n",
      "1989  11989  -27.80846060721255952330\n",
      "1990  11990 -123.41411926925461273186\n",
      "1991  11991 -130.82924419408300309442\n",
      "1992  11992   18.55306889260260305718\n",
      "1993  11993 -433.16537587721256841178\n",
      "1994  11994 -303.70912611646485856909\n",
      "1995  11995  464.71525498507958218397\n",
      "1996  11996  496.48533446727839191226\n",
      "1997  11997  -35.13540941579512377757\n",
      "1998  11998 -131.67918453438889514473\n",
      "1999  11999  417.26915462133581513626\n",
      "\n",
      "[2000 rows x 2 columns]\n"
     ]
    }
   ],
   "source": [
    "pd.set_option('max_info_rows', 11)\n",
    "pd.set_option('precision',20)\n",
    "submission = pd.DataFrame(sub_data, columns = [\"Id\", \"y\"])\n",
    "submission.Id = submission.Id.astype(int)\n",
    "print(submission)"
   ]
  },
  {
   "cell_type": "markdown",
   "metadata": {},
   "source": [
    "*** I'M NOT SURE IF IT HAS TO BE 1-point PRECISION (last record to be 417.3, instead of 417.269155). ***"
   ]
  },
  {
   "cell_type": "markdown",
   "metadata": {},
   "source": [
    "Not let's export the submission file as a csv"
   ]
  },
  {
   "cell_type": "code",
   "execution_count": 14,
   "metadata": {
    "collapsed": false
   },
   "outputs": [],
   "source": [
    "csv_file = submission.to_csv('final_submission.csv')"
   ]
  },
  {
   "cell_type": "code",
   "execution_count": null,
   "metadata": {
    "collapsed": true
   },
   "outputs": [],
   "source": []
  }
 ],
 "metadata": {
  "anaconda-cloud": {},
  "kernelspec": {
   "display_name": "Python [conda root]",
   "language": "python",
   "name": "conda-root-py"
  },
  "language_info": {
   "codemirror_mode": {
    "name": "ipython",
    "version": 2
   },
   "file_extension": ".py",
   "mimetype": "text/x-python",
   "name": "python",
   "nbconvert_exporter": "python",
   "pygments_lexer": "ipython2",
   "version": "2.7.12"
  }
 },
 "nbformat": 4,
 "nbformat_minor": 0
}
