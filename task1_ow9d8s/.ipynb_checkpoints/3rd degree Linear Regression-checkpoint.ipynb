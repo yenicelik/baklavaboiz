{
 "cells": [
  {
   "cell_type": "markdown",
   "metadata": {},
   "source": [
    "# Using Linear Regression with a polynomial kernel of degree 3"
   ]
  },
  {
   "cell_type": "code",
   "execution_count": 25,
   "metadata": {
    "collapsed": false
   },
   "outputs": [
    {
     "name": "stdout",
     "output_type": "stream",
     "text": [
      "The autoreload extension is already loaded. To reload it, use:\n",
      "  %reload_ext autoreload\n"
     ]
    }
   ],
   "source": [
    "import sys\n",
    "import numpy as np\n",
    "import pandas as pd\n",
    "import matplotlib.pyplot as plt\n",
    "from helper import *\n",
    "from normalEq import *\n",
    "import time\n",
    "\n",
    "%matplotlib inline\n",
    "plt.rcParams['figure.figsize'] = (10.0, 8.0) # set default size of plots\n",
    "plt.rcParams['image.interpolation'] = 'nearest'\n",
    "plt.rcParams['image.cmap'] = 'gray'\n",
    "%load_ext autoreload\n",
    "%autoreload 2"
   ]
  },
  {
   "cell_type": "markdown",
   "metadata": {},
   "source": [
    "## 1. Extract the data"
   ]
  },
  {
   "cell_type": "code",
   "execution_count": 2,
   "metadata": {
    "collapsed": true
   },
   "outputs": [],
   "source": [
    "data_sample = pd.read_csv('sample.csv')\n",
    "data_test = pd.read_csv('test.csv')\n",
    "data_train = pd.read_csv('train.csv')\n",
    "\n",
    "X_data = data_train.values\n",
    "y_sample = data_sample.values\n",
    "X_submission = data_test.values[:,1:]\n",
    "\n",
    "indices = np.arange(X_data.shape[0])\n",
    "np.random.shuffle(indices)\n",
    "\n",
    "test_ratio = 0.1\n",
    "number_of_test = int(X_data.shape[0] * test_ratio) #assuming we want to test out data with 0.1 percent of all the data\n",
    "X_test = X_data[indices[:number_of_test], :]\n",
    "X_train = X_data[indices[number_of_test:], :]"
   ]
  },
  {
   "cell_type": "markdown",
   "metadata": {},
   "source": [
    "Making sure it was extracted correctly (use your eyes)"
   ]
  },
  {
   "cell_type": "code",
   "execution_count": 3,
   "metadata": {
    "collapsed": false,
    "scrolled": true
   },
   "outputs": [
    {
     "name": "stdout",
     "output_type": "stream",
     "text": [
      "\n",
      "**************** PRINTING SOME RAW AND PREPROCESSED INPUT ****************\n",
      "Number of samples\n",
      "900\n",
      "\n",
      "And has types\n",
      "<type 'numpy.float64'>\n",
      "\n",
      "Pandas Training\n",
      "   Id           y        x1        x2        x3        x4        x5        x6  \\\n",
      "0   0  116.376061  1.276266 -0.854628  1.623901  2.145311  2.037190  2.886639   \n",
      "1   1  -11.147227 -0.775282  2.314877  0.526552 -0.092230  0.749973  0.017706   \n",
      "2   2  -86.243884  1.977542  0.861415  1.103856  1.300591  1.968205  1.869624   \n",
      "3   3   61.683176  1.099147  1.637926  1.703111  0.083907  0.213986  2.119182   \n",
      "4   4  -27.909104  0.769627  1.120195  0.211530 -1.960123  0.204419  1.284582   \n",
      "\n",
      "         x7        x8        x9       x10       x11       x12       x13  \\\n",
      "0  0.888302  0.637899  1.148675  0.562217  3.171257  2.152310 -0.818812   \n",
      "1  2.031269  1.491334  0.553353  0.193640  1.131268 -0.212560  1.159991   \n",
      "2  1.567783  1.465282 -0.165373 -1.035995 -0.155413  4.345157  1.126727   \n",
      "3  0.016604  1.244520  0.418590  1.429564  1.798402  0.389930  2.185404   \n",
      "4  1.522537  1.083554  3.720796  1.611008  0.164056  0.996304  1.393095   \n",
      "\n",
      "        x14       x15  \n",
      "0  0.861951  1.539840  \n",
      "1  0.244777  1.349896  \n",
      "2  0.305821  1.557674  \n",
      "3  0.289166  0.218871  \n",
      "4  1.684495  1.775202  \n",
      "Test\n",
      "[[  0.00000000e+00   1.16376061e+02   1.27626589e+00  -8.54628079e-01\n",
      "    1.62390111e+00   2.14531129e+00   2.03719047e+00   2.88663893e+00\n",
      "    8.88301710e-01   6.37898662e-01   1.14867505e+00   5.62216847e-01\n",
      "    3.17125700e+00   2.15231025e+00  -8.18812339e-01   8.61950659e-01\n",
      "    1.53983961e+00]\n",
      " [  1.00000000e+00  -1.11472274e+01  -7.75282287e-01   2.31487654e+00\n",
      "    5.26551953e-01  -9.22299007e-02   7.49972558e-01   1.77056964e-02\n",
      "    2.03126909e+00   1.49133378e+00   5.53353396e-01   1.93639918e-01\n",
      "    1.13126776e+00  -2.12560238e-01   1.15999085e+00   2.44776964e-01\n",
      "    1.34989599e+00]\n",
      " [  2.00000000e+00  -8.62438842e+01   1.97754176e+00   8.61414750e-01\n",
      "    1.10385631e+00   1.30059104e+00   1.96820530e+00   1.86962384e+00\n",
      "    1.56778309e+00   1.46528234e+00  -1.65373083e-01  -1.03599479e+00\n",
      "   -1.55413295e-01   4.34515739e+00   1.12672721e+00   3.05821104e-01\n",
      "    1.55767443e+00]\n",
      " [  3.00000000e+00   6.16831762e+01   1.09914660e+00   1.63792617e+00\n",
      "    1.70311068e+00   8.39068462e-02   2.13985772e-01   2.11918180e+00\n",
      "    1.66038909e-02   1.24452002e+00   4.18590262e-01   1.42956390e+00\n",
      "    1.79840199e+00   3.89929951e-01   2.18540421e+00   2.89165995e-01\n",
      "    2.18871069e-01]\n",
      " [  4.00000000e+00  -2.79091040e+01   7.69627022e-01   1.12019508e+00\n",
      "    2.11530165e-01  -1.96012262e+00   2.04418884e-01   1.28458225e+00\n",
      "    1.52253728e+00   1.08355444e+00   3.72079559e+00   1.61100788e+00\n",
      "    1.64056005e-01   9.96303959e-01   1.39309468e+00   1.68449508e+00\n",
      "    1.77520168e+00]]\n",
      "Training\n",
      "[[  9.00000000e+01   9.51253383e+01   6.94303430e-01   6.28763048e-02\n",
      "    1.60050422e+00   7.57391983e-01   3.13753487e-01   1.55207016e+00\n",
      "   -2.93463851e-02   1.32578491e+00   1.67361690e+00   1.92916194e+00\n",
      "    2.28189830e+00   2.80002648e+00   8.91318481e-01   1.21403099e+00\n",
      "    6.52108580e-01]\n",
      " [  9.10000000e+01   2.22331009e+02   1.19791646e+00   1.44285569e+00\n",
      "    2.45171615e+00   2.46251198e+00   5.18108085e-01   1.76239484e-01\n",
      "    2.02740359e+00  -2.80004462e-01   6.82053278e-01   3.07097690e+00\n",
      "    1.54570630e+00   3.86494475e-01   1.07971714e+00   8.12413946e-01\n",
      "    1.83335426e+00]\n",
      " [  9.20000000e+01   4.46401885e+01  -9.73404002e-02  -2.20285131e-01\n",
      "    1.55252517e+00  -3.24267232e-01   3.32221325e-01   3.18843993e+00\n",
      "    7.02560034e-01   2.97691589e-01  -1.01835096e-01   4.34204420e-01\n",
      "    2.77805904e-01   3.70971810e-01   1.82497774e+00   6.49600014e-01\n",
      "   -3.26306050e-01]\n",
      " [  9.30000000e+01   8.88451571e+01   1.33779902e-01   1.30197262e+00\n",
      "    1.96914014e+00   1.26501131e-01   1.64373209e+00   1.77422604e+00\n",
      "    2.29389049e+00   7.48676940e-01   6.59130493e-01   1.41211338e+00\n",
      "   -3.71051511e-01   1.31920907e+00   1.84272751e+00   2.63931482e-01\n",
      "    2.36066067e+00]\n",
      " [  9.40000000e+01   8.01605580e+00  -3.61035446e-01   2.28413189e+00\n",
      "    5.84090331e-01  -5.26605531e-01   9.43338416e-02   8.92811868e-02\n",
      "    1.87092663e+00   6.59796562e-02   1.37056780e+00  -1.16176016e-02\n",
      "    1.67076049e+00   1.21548777e+00   2.80236217e+00   1.07344665e+00\n",
      "    2.40034962e+00]]\n",
      "\n",
      "\n",
      "Pandas Sample Submission\n",
      "    Id         y\n",
      "0  900  6.055126\n",
      "1  901  6.055126\n",
      "2  902  6.055126\n",
      "3  903  6.055126\n",
      "4  904  6.055126\n",
      "Submission Sample\n",
      "[[ 900.            6.05512574]\n",
      " [ 901.            6.05512574]\n",
      " [ 902.            6.05512574]\n",
      " [ 903.            6.05512574]\n",
      " [ 904.            6.05512574]]\n",
      "\n",
      "\n",
      "Pandas Test\n",
      "    Id        x1        x2        x3        x4        x5        x6        x7  \\\n",
      "0  900  0.658913  1.489215  1.653090  2.687050  0.613798  1.599903  1.345002   \n",
      "1  901  0.904448  0.561279  1.506808 -0.386674  1.735252 -0.544519  1.470687   \n",
      "2  902  3.444325  1.133817 -1.001423  1.313715  0.264907  0.849963  1.314128   \n",
      "3  903  0.911607  1.111041  0.191679 -0.355594  0.371253 -0.739094  0.026790   \n",
      "4  904  1.138719  0.858748  2.617284  1.463821  0.976426  0.293385  3.041206   \n",
      "\n",
      "         x8        x9       x10       x11       x12       x13       x14  \\\n",
      "0  1.617774 -0.488590  2.893903  3.800831 -0.018902  0.857224  0.881235   \n",
      "1  0.392791 -0.027602  1.125750  3.367587  0.462219  1.074844 -0.556985   \n",
      "2  0.115299 -0.300262  2.078629  2.229187  2.545031  1.453813  0.878598   \n",
      "3  1.215393 -0.606953  1.151427  1.291218  3.129731  0.357561  1.631529   \n",
      "4  0.523776  0.056258  0.759536  0.802801  2.188513  1.722900  0.054449   \n",
      "\n",
      "        x15  \n",
      "0  0.574760  \n",
      "1  0.194472  \n",
      "2  0.866520  \n",
      "3  1.299709  \n",
      "4  0.817697  \n",
      "Submission Data\n",
      "[[ 0.6589135   1.48921462  1.6530901   2.6870502   0.61379809  1.59990337\n",
      "   1.34500164  1.61777391 -0.48859036  2.89390265  3.80083097 -0.01890167\n",
      "   0.85722445  0.88123525  0.57476035]\n",
      " [ 0.90444839  0.56127856  1.50680814 -0.38667414  1.73525172 -0.5445192\n",
      "   1.47068699  0.39279134 -0.02760163  1.12574984  3.3675869   0.46221942\n",
      "   1.07484401 -0.55698503  0.19447237]\n",
      " [ 3.44432486  1.13381701 -1.00142303  1.31371544  0.26490732  0.84996282\n",
      "   1.31412802  0.11529911 -0.30026249  2.07862901  2.22918726  2.5450309\n",
      "   1.45381323  0.87859775  0.86651998]\n",
      " [ 0.91160689  1.11104071  0.19167938 -0.35559393  0.37125255 -0.7390941\n",
      "   0.02678977  1.21539334 -0.60695328  1.15142675  1.29121849  3.12973128\n",
      "   0.35756079  1.63152867  1.29970852]\n",
      " [ 1.13871929  0.85874786  2.61728425  1.46382134  0.97642629  0.29338542\n",
      "   3.04120622  0.52377626  0.05625762  0.75953641  0.80280141  2.18851268\n",
      "   1.72289969  0.05444888  0.81769708]]\n",
      "\n",
      "\n",
      "**************** INPUT SHAPE ****************\n",
      "X_train\n",
      "(900, 17)\n",
      "y_sample\n",
      "(2000, 2)\n",
      "X_finaltest\n",
      "(2000, 15)\n",
      "\n",
      "\n",
      "\n"
     ]
    }
   ],
   "source": [
    "print_cases = 5\n",
    "if True:\n",
    "    print\n",
    "    print(\"**************** PRINTING SOME RAW AND PREPROCESSED INPUT ****************\")\n",
    "    print(\"Number of samples\")\n",
    "    print(X_data.shape[0])\n",
    "    print\n",
    "    print(\"And has types\")\n",
    "    print(type(X_submission[0,0]))\n",
    "    print\n",
    "    print(\"Pandas Training\")\n",
    "    print(data_train.head(print_cases))\n",
    "    print(\"Test\")\n",
    "    print(X_test[:print_cases,:])\n",
    "    print(\"Training\")\n",
    "    print(X_train[:print_cases,:])\n",
    "    print\n",
    "    print\n",
    "    print(\"Pandas Sample Submission\")\n",
    "    print(data_sample.head(print_cases))\n",
    "    print(\"Submission Sample\")\n",
    "    print(y_sample[:print_cases])\n",
    "    print\n",
    "    print\n",
    "    print(\"Pandas Test\")\n",
    "    print(data_test.head(print_cases))\n",
    "    print(\"Submission Data\")\n",
    "    print(X_submission[:print_cases,:])\n",
    "    print\n",
    "\n",
    "if True:\n",
    "    print\n",
    "    print(\"**************** INPUT SHAPE ****************\")\n",
    "    print(\"X_train\")\n",
    "    print(X_data.shape)\n",
    "    print(\"y_sample\")\n",
    "    print(y_sample.shape)\n",
    "    print(\"X_finaltest\")\n",
    "    print(X_submission.shape)\n",
    "    print\n",
    "    print\n",
    "    print"
   ]
  },
  {
   "cell_type": "markdown",
   "metadata": {},
   "source": [
    "## 2. Check if functions are correct\n",
    "We check if each individual function we call is correct. A simple, realistic test case should be sufficient to check the logic\n",
    "Functions we call are:\n",
    "- poly3d_kernel\n",
    "- reg_normal_eq\n",
    "- rms\n",
    "- get_train_cross_dataset\n",
    "- ncr"
   ]
  },
  {
   "cell_type": "code",
   "execution_count": 9,
   "metadata": {
    "collapsed": true
   },
   "outputs": [],
   "source": [
    "#Check if rms works\n",
    "from helper import *\n",
    "\n",
    "#Just copy pasted from stackoverflow.. JUST IN CASE.."
   ]
  },
  {
   "cell_type": "code",
   "execution_count": 10,
   "metadata": {
    "collapsed": true
   },
   "outputs": [],
   "source": [
    "#Check if reg_normal_eq works\n",
    "from helper import *\n",
    "from normalEq import *"
   ]
  },
  {
   "cell_type": "code",
   "execution_count": 11,
   "metadata": {
    "collapsed": true
   },
   "outputs": [],
   "source": [
    "#Check if poly3d_kernel works\n",
    "from helper import *"
   ]
  },
  {
   "cell_type": "code",
   "execution_count": 12,
   "metadata": {
    "collapsed": true
   },
   "outputs": [],
   "source": [
    "from helper import *\n"
   ]
  },
  {
   "cell_type": "markdown",
   "metadata": {},
   "source": [
    "## 3. Cross validate for best lambda"
   ]
  },
  {
   "cell_type": "markdown",
   "metadata": {},
   "source": [
    "First, set all parameters that are used for testing"
   ]
  },
  {
   "cell_type": "code",
   "execution_count": 13,
   "metadata": {
    "collapsed": true
   },
   "outputs": [],
   "source": [
    "k = 5 #folds of cross-validation\n",
    "#lam_range = np.logspace(-5, 5, num=317)#[1e-8, 1e-3, 1e2] #we choose a prime number\n",
    "#lam_range = np.logspace(-16, -12, num=101)\n",
    "#lam_range = np.logspace(0.2, 4.5, num=101)\n",
    "lam_range = np.logspace(-16, 8, num=101) #1999\n",
    "\n",
    "\n",
    "X = np.split(X_train[:,2:], k, axis=0)\n",
    "y = np.split(X_train[:,1], k, axis=0)"
   ]
  },
  {
   "cell_type": "markdown",
   "metadata": {},
   "source": [
    "Second, check if any corner-cases apply for the selected parameters"
   ]
  },
  {
   "cell_type": "code",
   "execution_count": 14,
   "metadata": {
    "collapsed": false
   },
   "outputs": [
    {
     "name": "stdout",
     "output_type": "stream",
     "text": [
      "(162, 15)\n",
      "(162,)\n"
     ]
    }
   ],
   "source": [
    "print(X[0].shape)\n",
    "print(y[0].shape)\n",
    "\n",
    "if X_data.shape[0] % k != 0:\n",
    "    print(\"Number of samples not divisible by k!\")\n",
    "    sys.exit(0)"
   ]
  },
  {
   "cell_type": "markdown",
   "metadata": {},
   "source": [
    "Third, run the tests"
   ]
  },
  {
   "cell_type": "code",
   "execution_count": 15,
   "metadata": {
    "collapsed": false
   },
   "outputs": [
    {
     "name": "stdout",
     "output_type": "stream",
     "text": [
      "[  2.34171789e-05  -3.36696482e-05  -3.18123713e-06   1.37171339e-04\n",
      "  -2.84838020e-05  -7.23749325e-05   4.87797391e-05  -6.36871799e-05\n",
      "  -1.10190856e-04   7.11226353e-05   2.04522225e-04   6.17628267e-05\n",
      "  -1.07525958e-05   6.66086554e-05  -4.62810966e-05   9.31419509e-05\n",
      "   0.00000000e+00  -9.20564233e-05   6.62940558e-05  -6.97854330e-05\n",
      "  -1.57227932e-04  -4.70367470e-05  -1.23252887e-04  -1.75720595e-04\n",
      "   2.21399221e-05   1.79663232e-04  -6.89333632e-06  -7.19359738e-05\n",
      "  -7.17900044e-06  -9.17194246e-05   2.73002436e-05   7.65510653e-05\n",
      "   2.16024762e-04   5.65011948e-05   8.21095853e-06   1.74595811e-04\n",
      "   2.47385591e-05  -4.57959566e-05   1.64112973e-04   2.95608877e-04\n",
      "   1.36196244e-04   6.82589289e-05   1.43876968e-04   3.73416456e-05\n",
      "   0.00000000e+00   0.00000000e+00   0.00000000e+00   0.00000000e+00\n",
      "   0.00000000e+00   0.00000000e+00   0.00000000e+00   0.00000000e+00\n",
      "   0.00000000e+00   0.00000000e+00   0.00000000e+00   0.00000000e+00\n",
      "   0.00000000e+00   0.00000000e+00   0.00000000e+00   0.00000000e+00\n",
      "   0.00000000e+00   0.00000000e+00   0.00000000e+00   0.00000000e+00\n",
      "   0.00000000e+00   0.00000000e+00   0.00000000e+00   0.00000000e+00\n",
      "   0.00000000e+00   0.00000000e+00   0.00000000e+00   0.00000000e+00\n",
      "   0.00000000e+00   0.00000000e+00   0.00000000e+00   0.00000000e+00\n",
      "   0.00000000e+00   0.00000000e+00   0.00000000e+00   0.00000000e+00\n",
      "   0.00000000e+00   0.00000000e+00   0.00000000e+00   0.00000000e+00\n",
      "   0.00000000e+00   0.00000000e+00   0.00000000e+00   0.00000000e+00\n",
      "   0.00000000e+00   0.00000000e+00   0.00000000e+00   0.00000000e+00\n",
      "   0.00000000e+00   0.00000000e+00   0.00000000e+00   0.00000000e+00\n",
      "   0.00000000e+00   0.00000000e+00   0.00000000e+00   0.00000000e+00\n",
      "   0.00000000e+00   0.00000000e+00   0.00000000e+00   0.00000000e+00\n",
      "   0.00000000e+00   0.00000000e+00   0.00000000e+00   0.00000000e+00\n",
      "   0.00000000e+00   0.00000000e+00   0.00000000e+00   0.00000000e+00\n",
      "   0.00000000e+00   0.00000000e+00   0.00000000e+00   0.00000000e+00\n",
      "   0.00000000e+00   0.00000000e+00   0.00000000e+00   0.00000000e+00\n",
      "   0.00000000e+00   0.00000000e+00   0.00000000e+00   0.00000000e+00\n",
      "  -1.44227506e-06  -1.19569292e-04  -2.34993092e-04  -1.02763973e-04\n",
      "  -1.96808594e-04  -2.29913976e-04  -1.04110399e-05   2.31668010e-04\n",
      "  -5.77284738e-05  -1.84886808e-04  -5.94856362e-05  -1.44910534e-04\n",
      "  -6.29867672e-05   1.27989491e-04   3.00492045e-05  -8.18501745e-05\n",
      "   6.70718728e-05  -3.54445579e-05  -1.24707153e-04   1.04419046e-04\n",
      "   2.58027848e-04   5.40802877e-05  -1.84037343e-05   4.75265540e-05\n",
      "   1.45179063e-05   1.90018647e-05   1.36203197e-04  -6.02581957e-05\n",
      "  -5.80003456e-05   5.12302945e-05  -3.68933138e-05  -1.10104966e-04\n",
      "   9.89132059e-05   2.84807842e-04   4.35137968e-05  -2.82168963e-05\n",
      "   1.06805892e-04   0.00000000e+00   0.00000000e+00   0.00000000e+00\n",
      "   0.00000000e+00   0.00000000e+00   0.00000000e+00   0.00000000e+00\n",
      "   0.00000000e+00   0.00000000e+00   0.00000000e+00   0.00000000e+00\n",
      "   0.00000000e+00   0.00000000e+00   0.00000000e+00   0.00000000e+00\n",
      "   0.00000000e+00   0.00000000e+00   0.00000000e+00   0.00000000e+00\n",
      "   0.00000000e+00   0.00000000e+00   0.00000000e+00   0.00000000e+00\n",
      "   0.00000000e+00   0.00000000e+00   0.00000000e+00   0.00000000e+00\n",
      "   0.00000000e+00   0.00000000e+00   0.00000000e+00   0.00000000e+00\n",
      "   0.00000000e+00   0.00000000e+00   0.00000000e+00   0.00000000e+00\n",
      "   0.00000000e+00   0.00000000e+00   0.00000000e+00   0.00000000e+00\n",
      "   0.00000000e+00   0.00000000e+00   0.00000000e+00   0.00000000e+00\n",
      "   0.00000000e+00   0.00000000e+00   0.00000000e+00   0.00000000e+00\n",
      "   0.00000000e+00   0.00000000e+00   0.00000000e+00   0.00000000e+00\n",
      "   0.00000000e+00   0.00000000e+00   0.00000000e+00   0.00000000e+00\n",
      "   0.00000000e+00   0.00000000e+00   0.00000000e+00   0.00000000e+00\n",
      "   0.00000000e+00   0.00000000e+00   0.00000000e+00   0.00000000e+00\n",
      "   0.00000000e+00   0.00000000e+00   0.00000000e+00   0.00000000e+00\n",
      "   0.00000000e+00   0.00000000e+00   0.00000000e+00   0.00000000e+00\n",
      "   0.00000000e+00   0.00000000e+00   0.00000000e+00   0.00000000e+00\n",
      "   0.00000000e+00   0.00000000e+00   0.00000000e+00   0.00000000e+00\n",
      "   0.00000000e+00   0.00000000e+00   0.00000000e+00   0.00000000e+00\n",
      "   0.00000000e+00   0.00000000e+00   0.00000000e+00   0.00000000e+00\n",
      "   0.00000000e+00   0.00000000e+00   0.00000000e+00   0.00000000e+00\n",
      "   0.00000000e+00   0.00000000e+00   0.00000000e+00   0.00000000e+00\n",
      "   0.00000000e+00   0.00000000e+00   0.00000000e+00   0.00000000e+00\n",
      "   0.00000000e+00   0.00000000e+00   0.00000000e+00   0.00000000e+00\n",
      "   0.00000000e+00   0.00000000e+00   0.00000000e+00   0.00000000e+00\n",
      "   0.00000000e+00   0.00000000e+00   0.00000000e+00   0.00000000e+00\n",
      "   0.00000000e+00   0.00000000e+00   0.00000000e+00   0.00000000e+00\n",
      "   0.00000000e+00   0.00000000e+00   0.00000000e+00   0.00000000e+00\n",
      "   0.00000000e+00   0.00000000e+00   0.00000000e+00   0.00000000e+00\n",
      "   0.00000000e+00   0.00000000e+00   0.00000000e+00   0.00000000e+00\n",
      "   0.00000000e+00   0.00000000e+00   0.00000000e+00   0.00000000e+00\n",
      "   0.00000000e+00   0.00000000e+00   0.00000000e+00   0.00000000e+00\n",
      "   0.00000000e+00   0.00000000e+00   0.00000000e+00   0.00000000e+00\n",
      "   0.00000000e+00   0.00000000e+00   0.00000000e+00   0.00000000e+00\n",
      "   0.00000000e+00   0.00000000e+00   0.00000000e+00   0.00000000e+00\n",
      "   0.00000000e+00   0.00000000e+00   0.00000000e+00   0.00000000e+00\n",
      "   0.00000000e+00   0.00000000e+00   0.00000000e+00   0.00000000e+00\n",
      "   0.00000000e+00   0.00000000e+00   0.00000000e+00   0.00000000e+00\n",
      "   0.00000000e+00   0.00000000e+00   0.00000000e+00   0.00000000e+00\n",
      "   0.00000000e+00   0.00000000e+00   0.00000000e+00   0.00000000e+00\n",
      "   0.00000000e+00   0.00000000e+00   0.00000000e+00   0.00000000e+00\n",
      "   0.00000000e+00   0.00000000e+00   0.00000000e+00   0.00000000e+00\n",
      "   0.00000000e+00   0.00000000e+00   0.00000000e+00   0.00000000e+00\n",
      "   0.00000000e+00   0.00000000e+00   0.00000000e+00   0.00000000e+00\n",
      "   0.00000000e+00   0.00000000e+00   0.00000000e+00   0.00000000e+00\n",
      "   0.00000000e+00   0.00000000e+00   0.00000000e+00   0.00000000e+00\n",
      "   0.00000000e+00   0.00000000e+00   0.00000000e+00   0.00000000e+00\n",
      "   0.00000000e+00   0.00000000e+00   0.00000000e+00   0.00000000e+00\n",
      "   0.00000000e+00   0.00000000e+00   0.00000000e+00   0.00000000e+00\n",
      "   0.00000000e+00   0.00000000e+00   0.00000000e+00   0.00000000e+00\n",
      "   0.00000000e+00   0.00000000e+00   0.00000000e+00   0.00000000e+00\n",
      "   0.00000000e+00   0.00000000e+00   0.00000000e+00   0.00000000e+00\n",
      "   0.00000000e+00   0.00000000e+00   0.00000000e+00   0.00000000e+00\n",
      "   0.00000000e+00   0.00000000e+00   0.00000000e+00   0.00000000e+00\n",
      "   0.00000000e+00   0.00000000e+00   0.00000000e+00   0.00000000e+00\n",
      "   0.00000000e+00   0.00000000e+00   0.00000000e+00   0.00000000e+00\n",
      "   0.00000000e+00   0.00000000e+00   0.00000000e+00   0.00000000e+00\n",
      "   0.00000000e+00   0.00000000e+00   0.00000000e+00   0.00000000e+00\n",
      "   0.00000000e+00   0.00000000e+00   0.00000000e+00   0.00000000e+00\n",
      "   0.00000000e+00   0.00000000e+00   0.00000000e+00   0.00000000e+00\n",
      "   0.00000000e+00   0.00000000e+00   0.00000000e+00   0.00000000e+00\n",
      "   0.00000000e+00   0.00000000e+00   0.00000000e+00   0.00000000e+00\n",
      "   0.00000000e+00   0.00000000e+00   0.00000000e+00   0.00000000e+00\n",
      "   0.00000000e+00   0.00000000e+00   0.00000000e+00   0.00000000e+00\n",
      "   0.00000000e+00   0.00000000e+00   0.00000000e+00   0.00000000e+00\n",
      "   0.00000000e+00   0.00000000e+00   0.00000000e+00   0.00000000e+00\n",
      "   0.00000000e+00   0.00000000e+00   0.00000000e+00   0.00000000e+00\n",
      "   0.00000000e+00   0.00000000e+00   0.00000000e+00   0.00000000e+00\n",
      "   0.00000000e+00   0.00000000e+00   0.00000000e+00   0.00000000e+00\n",
      "   0.00000000e+00   0.00000000e+00   0.00000000e+00   0.00000000e+00\n",
      "   0.00000000e+00   0.00000000e+00   0.00000000e+00   0.00000000e+00\n",
      "   0.00000000e+00   0.00000000e+00   0.00000000e+00   0.00000000e+00\n",
      "   0.00000000e+00   0.00000000e+00   0.00000000e+00   0.00000000e+00\n",
      "   0.00000000e+00   0.00000000e+00   0.00000000e+00   0.00000000e+00\n",
      "   0.00000000e+00   0.00000000e+00   0.00000000e+00   0.00000000e+00\n",
      "   0.00000000e+00   0.00000000e+00   0.00000000e+00   0.00000000e+00\n",
      "   0.00000000e+00   0.00000000e+00   0.00000000e+00   0.00000000e+00\n",
      "   0.00000000e+00   0.00000000e+00   0.00000000e+00   0.00000000e+00\n",
      "   0.00000000e+00   0.00000000e+00   0.00000000e+00   0.00000000e+00\n",
      "   0.00000000e+00   0.00000000e+00   0.00000000e+00   0.00000000e+00\n",
      "   0.00000000e+00   0.00000000e+00   0.00000000e+00   0.00000000e+00\n",
      "   0.00000000e+00   0.00000000e+00   0.00000000e+00   0.00000000e+00\n",
      "   0.00000000e+00   0.00000000e+00   0.00000000e+00   0.00000000e+00\n",
      "   0.00000000e+00   0.00000000e+00   0.00000000e+00   0.00000000e+00\n",
      "   0.00000000e+00   0.00000000e+00   0.00000000e+00   0.00000000e+00\n",
      "   0.00000000e+00   0.00000000e+00   0.00000000e+00   0.00000000e+00\n",
      "   0.00000000e+00   0.00000000e+00   0.00000000e+00   0.00000000e+00\n",
      "   0.00000000e+00   0.00000000e+00   0.00000000e+00   0.00000000e+00\n",
      "   0.00000000e+00   0.00000000e+00   0.00000000e+00   0.00000000e+00\n",
      "   0.00000000e+00   0.00000000e+00   0.00000000e+00   0.00000000e+00\n",
      "   0.00000000e+00   0.00000000e+00   0.00000000e+00   0.00000000e+00\n",
      "   0.00000000e+00   0.00000000e+00   0.00000000e+00   0.00000000e+00\n",
      "   0.00000000e+00   0.00000000e+00   0.00000000e+00   0.00000000e+00\n",
      "   0.00000000e+00   0.00000000e+00   0.00000000e+00   0.00000000e+00\n",
      "   0.00000000e+00   0.00000000e+00   0.00000000e+00   0.00000000e+00\n",
      "   0.00000000e+00   0.00000000e+00   0.00000000e+00   0.00000000e+00\n",
      "   0.00000000e+00   0.00000000e+00   0.00000000e+00   0.00000000e+00\n",
      "   0.00000000e+00   0.00000000e+00   0.00000000e+00   0.00000000e+00\n",
      "   0.00000000e+00   0.00000000e+00   0.00000000e+00   0.00000000e+00\n",
      "   0.00000000e+00   0.00000000e+00   0.00000000e+00   0.00000000e+00\n",
      "   0.00000000e+00   0.00000000e+00   0.00000000e+00   0.00000000e+00\n",
      "   0.00000000e+00   0.00000000e+00   0.00000000e+00   0.00000000e+00]\n"
     ]
    }
   ],
   "source": [
    "from helper import *\n",
    "from normalEq import *\n",
    "\n",
    "loss_dict = []\n",
    "lam_dict = []\n",
    "total_error = 0.0\n",
    "\n",
    "for lam in lam_range:\n",
    "    total_error = 0\n",
    "    old_loss = 1000000\n",
    "    \n",
    "    for i in range(k):\n",
    "        X_train, y_train, X_cv, y_cv = get_train_cross_dataset(X, y, i)\n",
    "        \n",
    "        #pass X_train and X_cv through the kernel function first!\n",
    "        X_train = poly3d_kernel(X_train)\n",
    "        X_cv = poly3d_kernel(X_cv)\n",
    "        \n",
    "        #apply to training function, then measure the error\n",
    "        weights = reg_normal_eq(X_train, y_train, lam)\n",
    "        predictions = np.dot(X_cv, weights)\n",
    "        loss = rms(predictions, y_cv)    \n",
    "        \n",
    "        if loss < old_loss:\n",
    "            best_weights = weights\n",
    "            old_loss = loss\n",
    "    \n",
    "        total_error += loss /  X_cv.shape[0] #recording the loss per training example! \n",
    "       \n",
    "    lam_dict.append(lam)\n",
    "    loss_dict.append(total_error)    \n",
    "    \n",
    "print best_weights  "
   ]
  },
  {
   "cell_type": "markdown",
   "metadata": {},
   "source": [
    "Fourth, create the graph to decide which value of lambda is the best"
   ]
  },
  {
   "cell_type": "code",
   "execution_count": 17,
   "metadata": {
    "collapsed": false
   },
   "outputs": [
    {
     "data": {
      "image/png": "[encoded data removed]",
      "text/plain": [
       "<matplotlib.figure.Figure at 0x116ad1750>"
      ]
     },
     "metadata": {},
     "output_type": "display_data"
    },
    {
     "name": "stdout",
     "output_type": "stream",
     "text": [
      "('Minimal loss', 1.2999498503322364)\n",
      "('Minimizing lam: ', 100.0)\n",
      "Loss: 1.29994985033, lam: 100.0\n",
      "Loss: 1.30224927026, lam: 57.5439937337\n",
      "Loss: 1.30320387316, lam: 173.780082875\n",
      "Loss: 1.30712471974, lam: 33.1131121483\n",
      "Loss: 1.31271664502, lam: 19.0546071796\n",
      "Loss: 1.31554876691, lam: 301.99517204\n",
      "Loss: 1.31794302004, lam: 10.9647819614\n",
      "Loss: 1.32224761948, lam: 6.3095734448\n",
      "Loss: 1.32547108117, lam: 3.6307805477\n",
      "Loss: 1.32771366876, lam: 2.08929613085\n",
      "Loss: 1.32918919598, lam: 1.20226443462\n",
      "Loss: 1.33012004398, lam: 0.691830970919\n",
      "Loss: 1.33068919073, lam: 0.398107170553\n",
      "Loss: 1.33102953113, lam: 0.229086765277\n",
      "Loss: 1.33123004178, lam: 0.131825673856\n",
      "Loss: 1.33134705998, lam: 0.0758577575029\n",
      "Loss: 1.3314149578, lam: 0.043651583224\n",
      "Loss: 1.33145421845, lam: 0.0251188643151\n",
      "Loss: 1.33147687411, lam: 0.0144543977075\n",
      "Loss: 1.33148993226, lam: 0.00831763771103\n",
      "Loss: 1.33149745347, lam: 0.00478630092323\n",
      "Loss: 1.33150178382, lam: 0.00275422870334\n",
      "Loss: 1.33150427645, lam: 0.00158489319246\n",
      "Loss: 1.33150571106, lam: 0.000912010839356\n",
      "Loss: 1.33150653668, lam: 0.00052480746025\n",
      "Loss: 1.33150701181, lam: 0.00030199517204\n",
      "Loss: 1.33150728522, lam: 0.000173780082875\n",
      "Loss: 1.33150744256, lam: 0.0001\n",
      "Loss: 1.33150753309, lam: 5.75439937337e-05\n",
      "Loss: 1.33150758519, lam: 3.31131121483e-05\n",
      "Loss: 1.33150761518, lam: 1.90546071796e-05\n",
      "Loss: 1.33150763243, lam: 1.09647819614e-05\n",
      "Loss: 1.33150764235, lam: 6.3095734448e-06\n",
      "Loss: 1.33150764807, lam: 3.6307805477e-06\n",
      "Loss: 1.33150765135, lam: 2.08929613085e-06\n",
      "Loss: 1.33150765325, lam: 1.20226443462e-06\n",
      "Loss: 1.33150765433, lam: 6.91830970919e-07\n",
      "Loss: 1.33150765496, lam: 3.98107170553e-07\n",
      "Loss: 1.33150765532, lam: 2.29086765277e-07\n",
      "Loss: 1.33150765553, lam: 1.31825673856e-07\n",
      "Loss: 1.33150765565, lam: 7.58577575029e-08\n",
      "Loss: 1.33150765572, lam: 4.3651583224e-08\n",
      "Loss: 1.33150765576, lam: 2.51188643151e-08\n",
      "Loss: 1.33150765578, lam: 1.44543977075e-08\n",
      "Loss: 1.33150765579, lam: 8.31763771103e-09\n",
      "Loss: 1.3315076558, lam: 4.78630092323e-09\n",
      "Loss: 1.3315076558, lam: 2.75422870334e-09\n",
      "Loss: 1.33150765581, lam: 1.58489319246e-09\n",
      "Loss: 1.33150765581, lam: 9.12010839356e-10\n",
      "Loss: 1.33150765581, lam: 5.2480746025e-10\n",
      "100.0\n"
     ]
    }
   ],
   "source": [
    "plt.subplot(3, 1, 1)\n",
    "plt.title('Absolute training loss')\n",
    "plt.xlabel('Lambda')\n",
    "plt.semilogx(lam_dict, loss_dict, 'o')\n",
    "plt.show()\n",
    "\n",
    "print(\"Minimal loss\", min(loss_dict))\n",
    "index = np.argmin(loss_dict)\n",
    "indecies = np.argsort(loss_dict)[::-1][-50:][::-1]\n",
    "print(\"Minimizing lam: \", lam_dict[index])\n",
    "for i in range(50):\n",
    "    print(\"Loss: \" + str(loss_dict[indecies[i]]) + \", lam: \" + str(lam_dict[indecies[i]]))\n",
    "    \n",
    "best_lambda = lam_dict[index]\n",
    "print best_lambda"
   ]
  },
  {
   "cell_type": "markdown",
   "metadata": {},
   "source": [
    "## 4. Test accuracy of the model"
   ]
  },
  {
   "cell_type": "markdown",
   "metadata": {},
   "source": [
    "First, recreate the weights with the best found lambda using the entire training set"
   ]
  },
  {
   "cell_type": "code",
   "execution_count": 32,
   "metadata": {
    "collapsed": false
   },
   "outputs": [
    {
     "name": "stdout",
     "output_type": "stream",
     "text": [
      "(2000, 2)\n",
      "[[  900.            59.89449123]\n",
      " [  901.            32.33463045]\n",
      " [  902.            -9.52221446]\n",
      " ..., \n",
      " [ 2897.            16.79529751]\n",
      " [ 2898.            29.1814905 ]\n",
      " [ 2899.            40.07120057]]\n",
      "36.4422676653\n"
     ]
    }
   ],
   "source": [
    "from helper import *\n",
    "from normalEq import *\n",
    "\n",
    "#pass through kernel\n",
    "X_final = poly3d_kernel(X_data[:,2:])\n",
    "y_final = X_data[:,1]\n",
    "\n",
    "#predict\n",
    "weights = reg_normal_eq(X_final, y_final, best_lambda)\n",
    "y_pred_test = np.dot(X_final, weights)\n",
    "\n",
    "loss = rms(y_pred_test, y_final)\n",
    "\n",
    "print(sub_data.shape)\n",
    "print(sub_data)\n",
    "print(loss)"
   ]
  },
  {
   "cell_type": "markdown",
   "metadata": {},
   "source": [
    "## 5. Predict for unseen dataset and export predicted data"
   ]
  },
  {
   "cell_type": "code",
   "execution_count": null,
   "metadata": {
    "collapsed": true
   },
   "outputs": [],
   "source": [
    "X_sub = poly3d_kernel(X_submission)\n",
    "print X_sub.shape\n",
    "print weights.shape\n",
    "y_pred_test = np.dot(X_sub, weights)\n",
    "\n",
    "sub_data = np.column_stack((data_test.values[:,0], y_pred_test))"
   ]
  },
  {
   "cell_type": "code",
   "execution_count": null,
   "metadata": {
    "collapsed": true
   },
   "outputs": [],
   "source": [
    "submission = pd.DataFrame(sub_data, columns = [\"Id\", \"y\"])\n",
    "submission.Id = submission.Id.astype(int)\n",
    "print(submission)\n",
    "\n",
    "time.strftime(\"%Y%m%d-%H%M%S\")"
   ]
  }
 ],
 "metadata": {
  "kernelspec": {
   "display_name": "Python [Root]",
   "language": "python",
   "name": "Python [Root]"
  },
  "language_info": {
   "codemirror_mode": {
    "name": "ipython",
    "version": 2
   },
   "file_extension": ".py",
   "mimetype": "text/x-python",
   "name": "python",
   "nbconvert_exporter": "python",
   "pygments_lexer": "ipython2",
   "version": "2.7.12"
  }
 },
 "nbformat": 4,
 "nbformat_minor": 0
}
