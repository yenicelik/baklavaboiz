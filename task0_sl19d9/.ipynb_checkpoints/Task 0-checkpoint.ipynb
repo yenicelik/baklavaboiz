{
 "cells": [
  {
   "cell_type": "code",
   "execution_count": 1,
   "metadata": {
    "collapsed": true
   },
   "outputs": [],
   "source": [
    "import numpy as np\n",
    "import pandas as pd"
   ]
  },
  {
   "cell_type": "markdown",
   "metadata": {},
   "source": [
    "## Importing the data\n",
    "We use the pandas library for this. The data is split into 3 files:\n",
    "- sample.csv :: Some stuff we can look at to know how the bigger and slower-to-load datafiles look like\n",
    "- test.csv :: Validation data, which we use to 'grade' our model by\n",
    "- train.csv :: Data we use to train our model with (to find the 'optimal' parameters)"
   ]
  },
  {
   "cell_type": "code",
   "execution_count": 2,
   "metadata": {
    "collapsed": false
   },
   "outputs": [],
   "source": [
    "data_sample = pd.read_csv('sample.csv')\n",
    "data_test = pd.read_csv('test.csv')\n",
    "data_train = pd.read_csv('train.csv')"
   ]
  },
  {
   "cell_type": "markdown",
   "metadata": {},
   "source": [
    "Just to know how the data looks like, let us print the first 10 training-samples for each data-set:"
   ]
  },
  {
   "cell_type": "code",
   "execution_count": 3,
   "metadata": {
    "collapsed": false
   },
   "outputs": [
    {
     "name": "stdout",
     "output_type": "stream",
     "text": [
      "Sample\n",
      "      Id       y\n",
      "0  10000  2000.0\n",
      "1  10001  2001.0\n",
      "2  10002  2002.0\n",
      "3  10003  2003.0\n",
      "4  10004  2004.0\n",
      "Test\n",
      "      Id           x1           x2          x3           x4          x5  \\\n",
      "0  10000  -483.797492  1288.057065 -129.878712  -198.078388 -334.487592   \n",
      "1  10001  -316.407305    30.830556 -313.356726  -173.259184 -327.368719   \n",
      "2  10002 -2448.558997  -561.988408  355.098820   634.378170 -392.450091   \n",
      "3  10003  -942.120025   945.373015  140.910705  1753.565841 -347.223685   \n",
      "4  10004  1752.366157  -597.550816 -466.491398 -1094.792276 -645.424882   \n",
      "\n",
      "            x6           x7           x8           x9          x10  \n",
      "0  -391.443186  -612.406176  -676.523964  1327.229655  -448.695446  \n",
      "1   944.368248  1122.017380   112.338731  1372.340221  2062.561842  \n",
      "2  -813.156399  -232.873263   246.801210  -562.413197  -841.602015  \n",
      "3 -1489.493408  -508.035412  1992.650031   555.461973 -1696.076948  \n",
      "4  -202.154830   205.073469  -270.385827  -310.299496   362.212675  \n",
      "Train\n",
      "   Id           y           x1           x2           x3           x4  \\\n",
      "0   0  738.023171  1764.052346   400.157208   978.737984  2240.893199   \n",
      "1   1  400.646015   144.043571  1454.273507   761.037725   121.675016   \n",
      "2   2  189.900156 -2552.989816   653.618595   864.436199  -742.165020   \n",
      "3   3  -78.399449   154.947426   378.162520  -887.785748 -1980.796468   \n",
      "4   4 -547.373531 -1048.552965 -1420.017937 -1706.270191  1950.775395   \n",
      "\n",
      "            x5           x6           x7           x8           x9  \\\n",
      "0  1867.557990  -977.277880   950.088418  -151.357208  -103.218852   \n",
      "1   443.863233   333.674327  1494.079073  -205.158264   313.067702   \n",
      "2  2269.754624 -1454.365675    45.758517  -187.183850  1532.779214   \n",
      "3  -347.912149   156.348969  1230.290681  1202.379849  -387.326817   \n",
      "4  -509.652182  -438.074302 -1252.795360   777.490356 -1613.897848   \n",
      "\n",
      "           x10  \n",
      "0   410.598502  \n",
      "1  -854.095739  \n",
      "2  1469.358770  \n",
      "3  -302.302751  \n",
      "4  -212.740280  \n"
     ]
    }
   ],
   "source": [
    "cases = 5\n",
    "print \"Sample\"\n",
    "print data_sample.head(cases)\n",
    "print \"Test\"\n",
    "print data_test.head(cases)\n",
    "print \"Train\"\n",
    "print data_train.head(cases)"
   ]
  },
  {
   "cell_type": "markdown",
   "metadata": {},
   "source": [
    "The data contains 'headers' (Thing like 'Id', 'y', 'x1', 'x2', etc.). For pure data processing we need to get rid of this (because these are not numebrs), and just retrieve the numerical values within the matrices."
   ]
  },
  {
   "cell_type": "code",
   "execution_count": 4,
   "metadata": {
    "collapsed": false
   },
   "outputs": [
    {
     "ename": "NameError",
     "evalue": "name 'X_train' is not defined",
     "output_type": "error",
     "traceback": [
      "\u001b[0;31m---------------------------------------------------------------------------\u001b[0m",
      "\u001b[0;31mNameError\u001b[0m                                 Traceback (most recent call last)",
      "\u001b[0;32m<ipython-input-4-44091edb2534>\u001b[0m in \u001b[0;36m<module>\u001b[0;34m()\u001b[0m\n\u001b[0;32m----> 1\u001b[0;31m \u001b[0mtrain_size\u001b[0m \u001b[0;34m=\u001b[0m \u001b[0;34m(\u001b[0m\u001b[0mX_train\u001b[0m\u001b[0;34m.\u001b[0m\u001b[0mshape\u001b[0m\u001b[0;34m[\u001b[0m\u001b[0;36m0\u001b[0m\u001b[0;34m]\u001b[0m \u001b[0;34m/\u001b[0m \u001b[0;36m5\u001b[0m\u001b[0;34m)\u001b[0m \u001b[0;34m*\u001b[0m \u001b[0;36m4\u001b[0m \u001b[0;31m#first few examples\u001b[0m\u001b[0;34m\u001b[0m\u001b[0m\n\u001b[0m\u001b[1;32m      2\u001b[0m \u001b[0mcv_size\u001b[0m \u001b[0;34m=\u001b[0m \u001b[0;34m(\u001b[0m\u001b[0my_train\u001b[0m\u001b[0;34m.\u001b[0m\u001b[0mshape\u001b[0m\u001b[0;34m[\u001b[0m\u001b[0;36m0\u001b[0m\u001b[0;34m]\u001b[0m \u001b[0;34m/\u001b[0m \u001b[0;36m5\u001b[0m\u001b[0;34m)\u001b[0m \u001b[0;34m*\u001b[0m \u001b[0;36m1\u001b[0m \u001b[0;31m#last few examples\u001b[0m\u001b[0;34m\u001b[0m\u001b[0m\n\u001b[1;32m      3\u001b[0m \u001b[0;34m\u001b[0m\u001b[0m\n\u001b[1;32m      4\u001b[0m \u001b[0msample\u001b[0m \u001b[0;34m=\u001b[0m \u001b[0mdata_sample\u001b[0m\u001b[0;34m.\u001b[0m\u001b[0mvalues\u001b[0m\u001b[0;34m\u001b[0m\u001b[0m\n\u001b[1;32m      5\u001b[0m \u001b[0mtest\u001b[0m \u001b[0;34m=\u001b[0m \u001b[0mdata_test\u001b[0m\u001b[0;34m.\u001b[0m\u001b[0mvalues\u001b[0m\u001b[0;34m[\u001b[0m\u001b[0;34m:\u001b[0m\u001b[0;36m2\u001b[0m\u001b[0;34m,\u001b[0m\u001b[0;36m1\u001b[0m\u001b[0;34m:\u001b[0m\u001b[0;34m]\u001b[0m\u001b[0;34m\u001b[0m\u001b[0m\n",
      "\u001b[0;31mNameError\u001b[0m: name 'X_train' is not defined"
     ]
    }
   ],
   "source": [
    "train_size = (1000 / 5) * 4 #first few examples\n",
    "cv_size = (1000 / 5) * 1 #last few examples #lazy evaluation of size of the training size\n",
    "\n",
    "sample = data_sample.values\n",
    "test = data_test.values[:2,1:]\n",
    "X_train = data_train.values[:train_size,2:]\n",
    "y_train = data_train.values[:train_size,1]\n",
    "X_cv = data_train.values[train_size:,2:]\n",
    "y_cv = data_train.values[train_size:,2:]"
   ]
  },
  {
   "cell_type": "code",
   "execution_count": 39,
   "metadata": {
    "collapsed": false
   },
   "outputs": [
    {
     "name": "stdout",
     "output_type": "stream",
     "text": [
      "[[ 1764.05234597   400.15720837   978.73798411 ...,  -151.3572083\n",
      "   -103.21885179   410.59850194]\n",
      " [  144.04357116  1454.27350696   761.03772515 ...,  -205.15826377\n",
      "    313.06770165  -854.0957393 ]\n",
      " [-2552.98981583   653.61859544   864.43619886 ...,  -187.18385003\n",
      "   1532.77921436  1469.3587699 ]\n",
      " ..., \n",
      " [-1476.79551015 -1903.71556013  1235.4107713  ...,   293.68892983\n",
      "    823.3779462     89.12699773]\n",
      " [  423.85641705   443.23813651  -854.84537368 ...,   141.51642155\n",
      "    118.48865651  1353.39060522]\n",
      " [ -296.78151945  1113.48159945  1247.84991496 ...,   295.87558656\n",
      "    138.87978677  -616.37662371]]\n"
     ]
    }
   ],
   "source": [
    "print X_train"
   ]
  },
  {
   "cell_type": "code",
   "execution_count": 40,
   "metadata": {
    "collapsed": false
   },
   "outputs": [
    {
     "name": "stdout",
     "output_type": "stream",
     "text": [
      "[ 738.02317073  400.64601516  189.9001559  ..., -127.32455825  237.43894999\n",
      "  153.76053471]\n"
     ]
    }
   ],
   "source": [
    "print y_train"
   ]
  },
  {
   "cell_type": "markdown",
   "metadata": {},
   "source": [
    "Now let's define the function. I'm actually not sure if we're supposed to approximate this with an algorithm, or directly implement it..."
   ]
  },
  {
   "cell_type": "code",
   "execution_count": 41,
   "metadata": {
    "collapsed": true
   },
   "outputs": [],
   "source": [
    "def rms(pred, y):\n",
    "    out = (1./pred.shape[0]) * np.sum(np.square(pred - y), axis=0)\n",
    "    return out**0.5"
   ]
  },
  {
   "cell_type": "code",
   "execution_count": 42,
   "metadata": {
    "collapsed": false
   },
   "outputs": [],
   "source": [
    "def normalEq(X, y):\n",
    "    print \"X:\"\n",
    "    print X.shape\n",
    "    print \"y:\"\n",
    "    print y.shape\n",
    "    lhs = np.dot(X.transpose(), X)\n",
    "    lhsinv = np.linalg.inv(lhs)\n",
    "    rhs = np.dot(X.transpose(), y)\n",
    "    return np.dot( lhsinv, rhs) "
   ]
  },
  {
   "cell_type": "code",
   "execution_count": 43,
   "metadata": {
    "collapsed": false
   },
   "outputs": [
    {
     "name": "stdout",
     "output_type": "stream",
     "text": [
      "X:\n",
      "(6400, 10)\n",
      "y:\n",
      "(6400,)\n"
     ]
    }
   ],
   "source": [
    "weight = normalEq(X_train, y_train)"
   ]
  },
  {
   "cell_type": "code",
   "execution_count": 48,
   "metadata": {
    "collapsed": false
   },
   "outputs": [
    {
     "name": "stdout",
     "output_type": "stream",
     "text": [
      "[ 0.1  0.1  0.1  0.1  0.1  0.1  0.1  0.1  0.1  0.1]\n"
     ]
    }
   ],
   "source": [
    "print weight"
   ]
  },
  {
   "cell_type": "markdown",
   "metadata": {},
   "source": [
    "We now test what are error residual is (how close our prediction is to the real prediction)"
   ]
  },
  {
   "cell_type": "code",
   "execution_count": 49,
   "metadata": {
    "collapsed": false
   },
   "outputs": [
    {
     "name": "stdout",
     "output_type": "stream",
     "text": [
      "y\n",
      "(6400,)\n",
      "X\n",
      "(6400, 10)\n",
      "weight\n",
      "(10,)\n"
     ]
    },
    {
     "ename": "ValueError",
     "evalue": "operands could not be broadcast together with shapes (3600,10) (3600,) ",
     "output_type": "error",
     "traceback": [
      "\u001b[0;31m---------------------------------------------------------------------------\u001b[0m",
      "\u001b[0;31mValueError\u001b[0m                                Traceback (most recent call last)",
      "\u001b[0;32m<ipython-input-49-838e07ced6a4>\u001b[0m in \u001b[0;36m<module>\u001b[0;34m()\u001b[0m\n\u001b[1;32m      6\u001b[0m \u001b[0;32mprint\u001b[0m \u001b[0mweight\u001b[0m\u001b[0;34m.\u001b[0m\u001b[0mshape\u001b[0m\u001b[0;34m\u001b[0m\u001b[0m\n\u001b[1;32m      7\u001b[0m \u001b[0;31m#print np.dot(X_train, weight)\u001b[0m\u001b[0;34m\u001b[0m\u001b[0;34m\u001b[0m\u001b[0m\n\u001b[0;32m----> 8\u001b[0;31m \u001b[0mu\u001b[0m \u001b[0;34m=\u001b[0m \u001b[0my_cv\u001b[0m \u001b[0;34m-\u001b[0m \u001b[0mnp\u001b[0m\u001b[0;34m.\u001b[0m\u001b[0mdot\u001b[0m\u001b[0;34m(\u001b[0m\u001b[0mX_cv\u001b[0m\u001b[0;34m,\u001b[0m \u001b[0mweight\u001b[0m\u001b[0;34m)\u001b[0m\u001b[0;34m\u001b[0m\u001b[0m\n\u001b[0m\u001b[1;32m      9\u001b[0m \u001b[0msumu\u001b[0m \u001b[0;34m=\u001b[0m \u001b[0mnp\u001b[0m\u001b[0;34m.\u001b[0m\u001b[0mabs\u001b[0m\u001b[0;34m(\u001b[0m\u001b[0mnp\u001b[0m\u001b[0;34m.\u001b[0m\u001b[0msum\u001b[0m\u001b[0;34m(\u001b[0m\u001b[0mu\u001b[0m\u001b[0;34m)\u001b[0m\u001b[0;34m)\u001b[0m\u001b[0;34m\u001b[0m\u001b[0m\n\u001b[1;32m     10\u001b[0m \u001b[0mv\u001b[0m \u001b[0;34m=\u001b[0m \u001b[0mnp\u001b[0m\u001b[0;34m.\u001b[0m\u001b[0mabs\u001b[0m\u001b[0;34m(\u001b[0m\u001b[0mnp\u001b[0m\u001b[0;34m.\u001b[0m\u001b[0msum\u001b[0m\u001b[0;34m(\u001b[0m\u001b[0mnp\u001b[0m\u001b[0;34m.\u001b[0m\u001b[0mdot\u001b[0m\u001b[0;34m(\u001b[0m\u001b[0mX_cv\u001b[0m\u001b[0;34m,\u001b[0m \u001b[0mweight\u001b[0m\u001b[0;34m)\u001b[0m\u001b[0;34m)\u001b[0m\u001b[0;34m)\u001b[0m\u001b[0;34m\u001b[0m\u001b[0m\n",
      "\u001b[0;31mValueError\u001b[0m: operands could not be broadcast together with shapes (3600,10) (3600,) "
     ]
    }
   ],
   "source": [
    "print \"y\"\n",
    "print y_train.shape\n",
    "print \"X\"\n",
    "print X_train.shape\n",
    "print \"weight\"\n",
    "print weight.shape\n",
    "#print np.dot(X_train, weight)\n",
    "u = -np.dot(X_cv, weight)\n",
    "u += y_cv\n",
    "sumu = np.abs(np.sum(u))\n",
    "v = np.abs(np.sum(np.dot(X_cv, weight)))\n",
    "print sumu/v"
   ]
  },
  {
   "cell_type": "code",
   "execution_count": null,
   "metadata": {
    "collapsed": true
   },
   "outputs": [],
   "source": []
  },
  {
   "cell_type": "code",
   "execution_count": null,
   "metadata": {
    "collapsed": true
   },
   "outputs": [],
   "source": []
  }
 ],
 "metadata": {
  "anaconda-cloud": {},
  "kernelspec": {
   "display_name": "Python [Root]",
   "language": "python",
   "name": "Python [Root]"
  },
  "language_info": {
   "codemirror_mode": {
    "name": "ipython",
    "version": 2
   },
   "file_extension": ".py",
   "mimetype": "text/x-python",
   "name": "python",
   "nbconvert_exporter": "python",
   "pygments_lexer": "ipython2",
   "version": "2.7.12"
  }
 },
 "nbformat": 4,
 "nbformat_minor": 0
}
